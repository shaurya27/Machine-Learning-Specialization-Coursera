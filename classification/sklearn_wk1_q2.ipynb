{
 "cells": [
  {
   "cell_type": "code",
   "execution_count": 1,
   "metadata": {
    "collapsed": true
   },
   "outputs": [],
   "source": [
    "import numpy as np\n",
    "import pandas as pd"
   ]
  },
  {
   "cell_type": "code",
   "execution_count": 43,
   "metadata": {
    "collapsed": false
   },
   "outputs": [
    {
     "data": {
      "text/html": [
       "<div>\n",
       "<table border=\"1\" class=\"dataframe\">\n",
       "  <thead>\n",
       "    <tr style=\"text-align: right;\">\n",
       "      <th></th>\n",
       "      <th>name</th>\n",
       "      <th>review</th>\n",
       "      <th>rating</th>\n",
       "    </tr>\n",
       "  </thead>\n",
       "  <tbody>\n",
       "    <tr>\n",
       "      <th>0</th>\n",
       "      <td>Planetwise Flannel Wipes</td>\n",
       "      <td>These flannel wipes are OK, but in my opinion ...</td>\n",
       "      <td>3</td>\n",
       "    </tr>\n",
       "    <tr>\n",
       "      <th>1</th>\n",
       "      <td>Planetwise Wipe Pouch</td>\n",
       "      <td>it came early and was not disappointed. i love...</td>\n",
       "      <td>5</td>\n",
       "    </tr>\n",
       "    <tr>\n",
       "      <th>2</th>\n",
       "      <td>Annas Dream Full Quilt with 2 Shams</td>\n",
       "      <td>Very soft and comfortable and warmer than it l...</td>\n",
       "      <td>5</td>\n",
       "    </tr>\n",
       "    <tr>\n",
       "      <th>3</th>\n",
       "      <td>Stop Pacifier Sucking without tears with Thumb...</td>\n",
       "      <td>This is a product well worth the purchase.  I ...</td>\n",
       "      <td>5</td>\n",
       "    </tr>\n",
       "    <tr>\n",
       "      <th>4</th>\n",
       "      <td>Stop Pacifier Sucking without tears with Thumb...</td>\n",
       "      <td>All of my kids have cried non-stop when I trie...</td>\n",
       "      <td>5</td>\n",
       "    </tr>\n",
       "    <tr>\n",
       "      <th>5</th>\n",
       "      <td>Stop Pacifier Sucking without tears with Thumb...</td>\n",
       "      <td>When the Binky Fairy came to our house, we did...</td>\n",
       "      <td>5</td>\n",
       "    </tr>\n",
       "    <tr>\n",
       "      <th>6</th>\n",
       "      <td>A Tale of Baby's Days with Peter Rabbit</td>\n",
       "      <td>Lovely book, it's bound tightly so you may not...</td>\n",
       "      <td>4</td>\n",
       "    </tr>\n",
       "    <tr>\n",
       "      <th>7</th>\n",
       "      <td>Baby Tracker&amp;reg; - Daily Childcare Journal, S...</td>\n",
       "      <td>Perfect for new parents. We were able to keep ...</td>\n",
       "      <td>5</td>\n",
       "    </tr>\n",
       "    <tr>\n",
       "      <th>8</th>\n",
       "      <td>Baby Tracker&amp;reg; - Daily Childcare Journal, S...</td>\n",
       "      <td>A friend of mine pinned this product on Pinter...</td>\n",
       "      <td>5</td>\n",
       "    </tr>\n",
       "    <tr>\n",
       "      <th>9</th>\n",
       "      <td>Baby Tracker&amp;reg; - Daily Childcare Journal, S...</td>\n",
       "      <td>This has been an easy way for my nanny to reco...</td>\n",
       "      <td>4</td>\n",
       "    </tr>\n",
       "  </tbody>\n",
       "</table>\n",
       "</div>"
      ],
      "text/plain": [
       "                                                name  \\\n",
       "0                           Planetwise Flannel Wipes   \n",
       "1                              Planetwise Wipe Pouch   \n",
       "2                Annas Dream Full Quilt with 2 Shams   \n",
       "3  Stop Pacifier Sucking without tears with Thumb...   \n",
       "4  Stop Pacifier Sucking without tears with Thumb...   \n",
       "5  Stop Pacifier Sucking without tears with Thumb...   \n",
       "6            A Tale of Baby's Days with Peter Rabbit   \n",
       "7  Baby Tracker&reg; - Daily Childcare Journal, S...   \n",
       "8  Baby Tracker&reg; - Daily Childcare Journal, S...   \n",
       "9  Baby Tracker&reg; - Daily Childcare Journal, S...   \n",
       "\n",
       "                                              review  rating  \n",
       "0  These flannel wipes are OK, but in my opinion ...       3  \n",
       "1  it came early and was not disappointed. i love...       5  \n",
       "2  Very soft and comfortable and warmer than it l...       5  \n",
       "3  This is a product well worth the purchase.  I ...       5  \n",
       "4  All of my kids have cried non-stop when I trie...       5  \n",
       "5  When the Binky Fairy came to our house, we did...       5  \n",
       "6  Lovely book, it's bound tightly so you may not...       4  \n",
       "7  Perfect for new parents. We were able to keep ...       5  \n",
       "8  A friend of mine pinned this product on Pinter...       5  \n",
       "9  This has been an easy way for my nanny to reco...       4  "
      ]
     },
     "execution_count": 43,
     "metadata": {},
     "output_type": "execute_result"
    }
   ],
   "source": [
    "data=pd.read_csv('amazon_baby.csv')\n",
    "data.head(10)"
   ]
  },
  {
   "cell_type": "code",
   "execution_count": 44,
   "metadata": {
    "collapsed": false
   },
   "outputs": [
    {
     "name": "stdout",
     "output_type": "stream",
     "text": [
      "(183531, 3)\n"
     ]
    }
   ],
   "source": [
    "print (data.shape)"
   ]
  },
  {
   "cell_type": "code",
   "execution_count": 45,
   "metadata": {
    "collapsed": false
   },
   "outputs": [],
   "source": [
    "data['name']=data['name'].astype(str)"
   ]
  },
  {
   "cell_type": "code",
   "execution_count": 46,
   "metadata": {
    "collapsed": true
   },
   "outputs": [],
   "source": [
    "data['review']=data['review'].astype(str)"
   ]
  },
  {
   "cell_type": "code",
   "execution_count": 47,
   "metadata": {
    "collapsed": false
   },
   "outputs": [
    {
     "data": {
      "text/plain": [
       "name      object\n",
       "review    object\n",
       "rating     int64\n",
       "dtype: object"
      ]
     },
     "execution_count": 47,
     "metadata": {},
     "output_type": "execute_result"
    }
   ],
   "source": [
    "data.dtypes"
   ]
  },
  {
   "cell_type": "code",
   "execution_count": 48,
   "metadata": {
    "collapsed": false
   },
   "outputs": [
    {
     "data": {
      "text/plain": [
       "0    These flannel wipes are OK, but in my opinion ...\n",
       "1    it came early and was not disappointed. i love...\n",
       "2    Very soft and comfortable and warmer than it l...\n",
       "3    This is a product well worth the purchase.  I ...\n",
       "4    All of my kids have cried non-stop when I trie...\n",
       "Name: review, dtype: object"
      ]
     },
     "execution_count": 48,
     "metadata": {},
     "output_type": "execute_result"
    }
   ],
   "source": [
    "data['review'].head()"
   ]
  },
  {
   "cell_type": "code",
   "execution_count": 49,
   "metadata": {
    "collapsed": false
   },
   "outputs": [
    {
     "data": {
      "text/plain": [
       "str"
      ]
     },
     "execution_count": 49,
     "metadata": {},
     "output_type": "execute_result"
    }
   ],
   "source": [
    "type(data['review'][38])"
   ]
  },
  {
   "cell_type": "code",
   "execution_count": 50,
   "metadata": {
    "collapsed": false
   },
   "outputs": [
    {
     "data": {
      "text/plain": [
       "'nan'"
      ]
     },
     "execution_count": 50,
     "metadata": {},
     "output_type": "execute_result"
    }
   ],
   "source": [
    "data['review'][38]"
   ]
  },
  {
   "cell_type": "code",
   "execution_count": 51,
   "metadata": {
    "collapsed": false
   },
   "outputs": [],
   "source": [
    "def remove_punctuation(text):\n",
    "    import string\n",
    "    return text.translate(None, string.punctuation) \n",
    "\n",
    "data['review_clean'] = data['review'].apply(remove_punctuation)"
   ]
  },
  {
   "cell_type": "code",
   "execution_count": 52,
   "metadata": {
    "collapsed": false
   },
   "outputs": [
    {
     "data": {
      "text/plain": [
       "count     183531\n",
       "unique    182643\n",
       "top          nan\n",
       "freq         829\n",
       "Name: review, dtype: object"
      ]
     },
     "execution_count": 52,
     "metadata": {},
     "output_type": "execute_result"
    }
   ],
   "source": [
    "data['review'].describe()"
   ]
  },
  {
   "cell_type": "code",
   "execution_count": 53,
   "metadata": {
    "collapsed": false
   },
   "outputs": [
    {
     "data": {
      "text/plain": [
       "0    These flannel wipes are OK but in my opinion n...\n",
       "1    it came early and was not disappointed i love ...\n",
       "2    Very soft and comfortable and warmer than it l...\n",
       "3    This is a product well worth the purchase  I h...\n",
       "4    All of my kids have cried nonstop when I tried...\n",
       "Name: review_clean, dtype: object"
      ]
     },
     "execution_count": 53,
     "metadata": {},
     "output_type": "execute_result"
    }
   ],
   "source": [
    "data['review_clean'].head()"
   ]
  },
  {
   "cell_type": "code",
   "execution_count": 54,
   "metadata": {
    "collapsed": false
   },
   "outputs": [
    {
     "name": "stdout",
     "output_type": "stream",
     "text": [
      "(166752, 4)\n"
     ]
    }
   ],
   "source": [
    "data=data[data['rating']!=3]\n",
    "print(data.shape)"
   ]
  },
  {
   "cell_type": "code",
   "execution_count": 55,
   "metadata": {
    "collapsed": false
   },
   "outputs": [
    {
     "name": "stdout",
     "output_type": "stream",
     "text": [
      "(166752, 5)\n"
     ]
    }
   ],
   "source": [
    "data['sentiment'] = data['rating'].apply(lambda rating : +1 if rating > 3 else -1)\n",
    "print(data.shape)"
   ]
  },
  {
   "cell_type": "code",
   "execution_count": 56,
   "metadata": {
    "collapsed": false
   },
   "outputs": [
    {
     "data": {
      "text/html": [
       "<div>\n",
       "<table border=\"1\" class=\"dataframe\">\n",
       "  <thead>\n",
       "    <tr style=\"text-align: right;\">\n",
       "      <th></th>\n",
       "      <th>name</th>\n",
       "      <th>review</th>\n",
       "      <th>rating</th>\n",
       "      <th>review_clean</th>\n",
       "      <th>sentiment</th>\n",
       "    </tr>\n",
       "  </thead>\n",
       "  <tbody>\n",
       "    <tr>\n",
       "      <th>1</th>\n",
       "      <td>Planetwise Wipe Pouch</td>\n",
       "      <td>it came early and was not disappointed. i love...</td>\n",
       "      <td>5</td>\n",
       "      <td>it came early and was not disappointed i love ...</td>\n",
       "      <td>1</td>\n",
       "    </tr>\n",
       "    <tr>\n",
       "      <th>2</th>\n",
       "      <td>Annas Dream Full Quilt with 2 Shams</td>\n",
       "      <td>Very soft and comfortable and warmer than it l...</td>\n",
       "      <td>5</td>\n",
       "      <td>Very soft and comfortable and warmer than it l...</td>\n",
       "      <td>1</td>\n",
       "    </tr>\n",
       "    <tr>\n",
       "      <th>3</th>\n",
       "      <td>Stop Pacifier Sucking without tears with Thumb...</td>\n",
       "      <td>This is a product well worth the purchase.  I ...</td>\n",
       "      <td>5</td>\n",
       "      <td>This is a product well worth the purchase  I h...</td>\n",
       "      <td>1</td>\n",
       "    </tr>\n",
       "    <tr>\n",
       "      <th>4</th>\n",
       "      <td>Stop Pacifier Sucking without tears with Thumb...</td>\n",
       "      <td>All of my kids have cried non-stop when I trie...</td>\n",
       "      <td>5</td>\n",
       "      <td>All of my kids have cried nonstop when I tried...</td>\n",
       "      <td>1</td>\n",
       "    </tr>\n",
       "    <tr>\n",
       "      <th>5</th>\n",
       "      <td>Stop Pacifier Sucking without tears with Thumb...</td>\n",
       "      <td>When the Binky Fairy came to our house, we did...</td>\n",
       "      <td>5</td>\n",
       "      <td>When the Binky Fairy came to our house we didn...</td>\n",
       "      <td>1</td>\n",
       "    </tr>\n",
       "  </tbody>\n",
       "</table>\n",
       "</div>"
      ],
      "text/plain": [
       "                                                name  \\\n",
       "1                              Planetwise Wipe Pouch   \n",
       "2                Annas Dream Full Quilt with 2 Shams   \n",
       "3  Stop Pacifier Sucking without tears with Thumb...   \n",
       "4  Stop Pacifier Sucking without tears with Thumb...   \n",
       "5  Stop Pacifier Sucking without tears with Thumb...   \n",
       "\n",
       "                                              review  rating  \\\n",
       "1  it came early and was not disappointed. i love...       5   \n",
       "2  Very soft and comfortable and warmer than it l...       5   \n",
       "3  This is a product well worth the purchase.  I ...       5   \n",
       "4  All of my kids have cried non-stop when I trie...       5   \n",
       "5  When the Binky Fairy came to our house, we did...       5   \n",
       "\n",
       "                                        review_clean  sentiment  \n",
       "1  it came early and was not disappointed i love ...          1  \n",
       "2  Very soft and comfortable and warmer than it l...          1  \n",
       "3  This is a product well worth the purchase  I h...          1  \n",
       "4  All of my kids have cried nonstop when I tried...          1  \n",
       "5  When the Binky Fairy came to our house we didn...          1  "
      ]
     },
     "execution_count": 56,
     "metadata": {},
     "output_type": "execute_result"
    }
   ],
   "source": [
    "data.head()"
   ]
  },
  {
   "cell_type": "code",
   "execution_count": 38,
   "metadata": {
    "collapsed": false
   },
   "outputs": [],
   "source": [
    "data=np.array(data)"
   ]
  },
  {
   "cell_type": "code",
   "execution_count": 57,
   "metadata": {
    "collapsed": false
   },
   "outputs": [
    {
     "data": {
      "text/plain": [
       "(166752, 5)"
      ]
     },
     "execution_count": 57,
     "metadata": {},
     "output_type": "execute_result"
    }
   ],
   "source": [
    "data.shape"
   ]
  },
  {
   "cell_type": "code",
   "execution_count": 58,
   "metadata": {
    "collapsed": true
   },
   "outputs": [],
   "source": [
    "from sklearn.cross_validation import train_test_split\n",
    "train_data,test_data=train_test_split(data,test_size=0.2,random_state=1)"
   ]
  },
  {
   "cell_type": "code",
   "execution_count": 84,
   "metadata": {
    "collapsed": false
   },
   "outputs": [
    {
     "data": {
      "text/html": [
       "<div>\n",
       "<table border=\"1\" class=\"dataframe\">\n",
       "  <thead>\n",
       "    <tr style=\"text-align: right;\">\n",
       "      <th></th>\n",
       "      <th>name</th>\n",
       "      <th>review</th>\n",
       "      <th>rating</th>\n",
       "      <th>review_clean</th>\n",
       "      <th>sentiment</th>\n",
       "    </tr>\n",
       "  </thead>\n",
       "  <tbody>\n",
       "    <tr>\n",
       "      <th>3</th>\n",
       "      <td>Stop Pacifier Sucking without tears with Thumb...</td>\n",
       "      <td>This is a product well worth the purchase.  I ...</td>\n",
       "      <td>5</td>\n",
       "      <td>This is a product well worth the purchase  I h...</td>\n",
       "      <td>1</td>\n",
       "    </tr>\n",
       "    <tr>\n",
       "      <th>6</th>\n",
       "      <td>A Tale of Baby's Days with Peter Rabbit</td>\n",
       "      <td>Lovely book, it's bound tightly so you may not...</td>\n",
       "      <td>4</td>\n",
       "      <td>Lovely book its bound tightly so you may not b...</td>\n",
       "      <td>1</td>\n",
       "    </tr>\n",
       "  </tbody>\n",
       "</table>\n",
       "</div>"
      ],
      "text/plain": [
       "                                                name  \\\n",
       "3  Stop Pacifier Sucking without tears with Thumb...   \n",
       "6            A Tale of Baby's Days with Peter Rabbit   \n",
       "\n",
       "                                              review  rating  \\\n",
       "3  This is a product well worth the purchase.  I ...       5   \n",
       "6  Lovely book, it's bound tightly so you may not...       4   \n",
       "\n",
       "                                        review_clean  sentiment  \n",
       "3  This is a product well worth the purchase  I h...          1  \n",
       "6  Lovely book its bound tightly so you may not b...          1  "
      ]
     },
     "execution_count": 84,
     "metadata": {},
     "output_type": "execute_result"
    }
   ],
   "source": [
    "data.iloc[[2,5]]"
   ]
  },
  {
   "cell_type": "code",
   "execution_count": 108,
   "metadata": {
    "collapsed": false
   },
   "outputs": [],
   "source": [
    "train=pd.read_json('https://s3.amazonaws.com/static.dato.com/files/coursera/course-3/indices-json/module-2-assignment-train-idx.json')"
   ]
  },
  {
   "cell_type": "code",
   "execution_count": 111,
   "metadata": {
    "collapsed": true
   },
   "outputs": [],
   "source": [
    "test=pd.read_json('https://s3.amazonaws.com/static.dato.com/files/coursera/course-3/indices-json/module-2-assignment-test-idx.json')"
   ]
  },
  {
   "cell_type": "code",
   "execution_count": 93,
   "metadata": {
    "collapsed": false
   },
   "outputs": [
    {
     "data": {
      "text/plain": [
       "(133416, 1)"
      ]
     },
     "execution_count": 93,
     "metadata": {},
     "output_type": "execute_result"
    }
   ],
   "source": [
    "train.shape"
   ]
  },
  {
   "cell_type": "code",
   "execution_count": 112,
   "metadata": {
    "collapsed": false
   },
   "outputs": [
    {
     "data": {
      "text/plain": [
       "(33336, 1)"
      ]
     },
     "execution_count": 112,
     "metadata": {},
     "output_type": "execute_result"
    }
   ],
   "source": [
    "test.shape"
   ]
  },
  {
   "cell_type": "code",
   "execution_count": 104,
   "metadata": {
    "collapsed": false
   },
   "outputs": [],
   "source": [
    "train_data=data.iloc[train[0]]"
   ]
  },
  {
   "cell_type": "code",
   "execution_count": 113,
   "metadata": {
    "collapsed": true
   },
   "outputs": [],
   "source": [
    "test_data=data.iloc[test[0]]"
   ]
  },
  {
   "cell_type": "code",
   "execution_count": 114,
   "metadata": {
    "collapsed": false
   },
   "outputs": [
    {
     "data": {
      "text/plain": [
       "(133416, 5)"
      ]
     },
     "execution_count": 114,
     "metadata": {},
     "output_type": "execute_result"
    }
   ],
   "source": [
    "train_data.shape"
   ]
  },
  {
   "cell_type": "code",
   "execution_count": 116,
   "metadata": {
    "collapsed": false
   },
   "outputs": [
    {
     "data": {
      "text/plain": [
       "(33336, 5)"
      ]
     },
     "execution_count": 116,
     "metadata": {},
     "output_type": "execute_result"
    }
   ],
   "source": [
    "test_data.shape"
   ]
  },
  {
   "cell_type": "code",
   "execution_count": 119,
   "metadata": {
    "collapsed": true
   },
   "outputs": [],
   "source": [
    "from sklearn.feature_extraction.text import CountVectorizer\n",
    "vectorizer = CountVectorizer(token_pattern=r'\\b\\w+\\b')\n",
    "train_matrix = vectorizer.fit_transform(train_data['review_clean'])\n",
    "test_matrix = vectorizer.transform(test_data['review_clean'])"
   ]
  },
  {
   "cell_type": "code",
   "execution_count": 134,
   "metadata": {
    "collapsed": false
   },
   "outputs": [
    {
     "data": {
      "text/plain": [
       "<0x121713 sparse matrix of type '<type 'numpy.int64'>'\n",
       "\twith 0 stored elements in Compressed Sparse Row format>"
      ]
     },
     "execution_count": 134,
     "metadata": {},
     "output_type": "execute_result"
    }
   ],
   "source": [
    "train_matrix[1:1]"
   ]
  },
  {
   "cell_type": "code",
   "execution_count": 127,
   "metadata": {
    "collapsed": false
   },
   "outputs": [
    {
     "data": {
      "text/plain": [
       "LogisticRegression(C=1.0, class_weight=None, dual=False, fit_intercept=True,\n",
       "          intercept_scaling=1, max_iter=100, multi_class='ovr',\n",
       "          penalty='l2', random_state=None, solver='liblinear', tol=0.0001,\n",
       "          verbose=0)"
      ]
     },
     "execution_count": 127,
     "metadata": {},
     "output_type": "execute_result"
    }
   ],
   "source": [
    "from sklearn.linear_model import LogisticRegression\n",
    "logreg=LogisticRegression()\n",
    "logreg.fit(train_matrix,train_data['sentiment'])"
   ]
  },
  {
   "cell_type": "code",
   "execution_count": 137,
   "metadata": {
    "collapsed": false
   },
   "outputs": [
    {
     "data": {
      "text/plain": [
       "array([ -1.24032546e+00,   2.97624753e-05,   2.69528726e-02, ...,\n",
       "         1.28685828e-02,   2.63510631e-03,  -4.06330221e-05])"
      ]
     },
     "execution_count": 137,
     "metadata": {},
     "output_type": "execute_result"
    }
   ],
   "source": [
    "logreg.coef_[0]"
   ]
  },
  {
   "cell_type": "code",
   "execution_count": 140,
   "metadata": {
    "collapsed": false
   },
   "outputs": [
    {
     "name": "stdout",
     "output_type": "stream",
     "text": [
      "86897\n"
     ]
    }
   ],
   "source": [
    "count=0\n",
    "for x in logreg.coef_[0]:\n",
    "    if x>=0:\n",
    "        count+=1\n",
    "print(count)"
   ]
  },
  {
   "cell_type": "code",
   "execution_count": 141,
   "metadata": {
    "collapsed": false
   },
   "outputs": [
    {
     "name": "stdout",
     "output_type": "stream",
     "text": [
      "                                                 name  \\\n",
      "59                          Our Baby Girl Memory Book   \n",
      "71  Wall Decor Removable Decal Sticker - Colorful ...   \n",
      "91  New Style Trailing Cherry Blossom Tree Decal R...   \n",
      "\n",
      "                                               review  rating  \\\n",
      "59  Absolutely love it and all of the Scripture in...       5   \n",
      "71  Would not purchase again or recommend. The dec...       2   \n",
      "91  Was so excited to get this product for my baby...       1   \n",
      "\n",
      "                                         review_clean  sentiment  \n",
      "59  Absolutely love it and all of the Scripture in...          1  \n",
      "71  Would not purchase again or recommend The deca...         -1  \n",
      "91  Was so excited to get this product for my baby...         -1  \n"
     ]
    }
   ],
   "source": [
    "sample_test_data = test_data[10:13]\n",
    "print sample_test_data"
   ]
  },
  {
   "cell_type": "code",
   "execution_count": 150,
   "metadata": {
    "collapsed": false
   },
   "outputs": [
    {
     "data": {
      "text/plain": [
       "59    Absolutely love it and all of the Scripture in...\n",
       "Name: review, dtype: object"
      ]
     },
     "execution_count": 150,
     "metadata": {},
     "output_type": "execute_result"
    }
   ],
   "source": [
    "sample_test_data['review'][0:1]"
   ]
  },
  {
   "cell_type": "code",
   "execution_count": 151,
   "metadata": {
    "collapsed": false
   },
   "outputs": [
    {
     "name": "stdout",
     "output_type": "stream",
     "text": [
      "[  5.58727861  -3.18449975 -10.42924959]\n"
     ]
    }
   ],
   "source": [
    "sample_test_matrix = vectorizer.transform(sample_test_data['review_clean'])\n",
    "scores = logreg.decision_function(sample_test_matrix)\n",
    "print scores"
   ]
  },
  {
   "cell_type": "code",
   "execution_count": 173,
   "metadata": {
    "collapsed": false
   },
   "outputs": [
    {
     "data": {
      "text/plain": [
       "array([ 1, -1, -1], dtype=int64)"
      ]
     },
     "execution_count": 173,
     "metadata": {},
     "output_type": "execute_result"
    }
   ],
   "source": [
    "logreg.predict(sample_test_matrix)"
   ]
  },
  {
   "cell_type": "code",
   "execution_count": 188,
   "metadata": {
    "collapsed": true
   },
   "outputs": [],
   "source": [
    "scores = logreg.decision_function(test_matrix)"
   ]
  },
  {
   "cell_type": "code",
   "execution_count": 189,
   "metadata": {
    "collapsed": false
   },
   "outputs": [
    {
     "name": "stdout",
     "output_type": "stream",
     "text": [
      "[  1.27469599  14.10598715   2.60237787 ...,  12.16333154  12.95349264\n",
      "   3.98205744]\n"
     ]
    }
   ],
   "source": [
    "print scores"
   ]
  },
  {
   "cell_type": "code",
   "execution_count": 190,
   "metadata": {
    "collapsed": false
   },
   "outputs": [
    {
     "data": {
      "text/plain": [
       "[(1.27469599304739,\n",
       "  'Baby Tracker&reg; - Daily Childcare Journal, Schedule Log'),\n",
       " (14.105987146687553,\n",
       "  'Baby Tracker&reg; - Daily Childcare Journal, Schedule Log'),\n",
       " (2.6023778697887048, \"Nature's Lullabies First Year Sticker Calendar\"),\n",
       " (10.815418983793348, \"Nature's Lullabies Second Year Sticker Calendar\"),\n",
       " (3.863696796360176, 'Lamaze Peekaboo, I Love You'),\n",
       " (10.128710333380305, 'Lamaze Peekaboo, I Love You'),\n",
       " (6.6784151889619396, 'Lamaze Peekaboo, I Love You'),\n",
       " (1.3930943035510186, 'SoftPlay Giggle Jiggle Funbook, Happy Bear'),\n",
       " (6.4517442850424098, \"SoftPlay Peek-A-Boo Where's Elmo A Children's Book\"),\n",
       " (5.9011399879055118,\n",
       "  \"Baby's First Year Undated Wall Calendar with Stickers to Mark &quot;Firsts&quot; - Pink\"),\n",
       " (5.5872786071851266, 'Our Baby Girl Memory Book'),\n",
       " (-3.1844997520256184,\n",
       "  'Wall Decor Removable Decal Sticker - Colorful Butterflies'),\n",
       " (-10.429249586138006,\n",
       "  'New Style Trailing Cherry Blossom Tree Decal Removable Vinyl Kids Wall Decal Wall Sticker Peel and Stick'),\n",
       " (5.4606634202088893,\n",
       "  'Newborn Baby Tracker&reg; - Round the Clock Childcare Journal, Log Book'),\n",
       " (4.9748681393384464,\n",
       "  'Large Jungle Animals (Panda, Lion, Elephant, Gorilla) - 3D Wall Murals for Baby Nursery and Kids Rooms - Made in USA'),\n",
       " (3.7628706723679315,\n",
       "  'Edu-Petit Happy Jungle Day Finger Puppet Book Developmental Toy'),\n",
       " (4.880284117216009,\n",
       "  'Modern House Giraffe Children Height Measurement Growth Chart Vinyl Mural Art Wall Sticker Decal'),\n",
       " (2.7258142802984064,\n",
       "  'Modern House Safari Animal Family removable Vinyl Mural Art Wall Sticker Decal'),\n",
       " (-3.1786520046186029,\n",
       "  'Neurosmith - Music Blocks with Mozart Music Cartridge'),\n",
       " (6.8647033760245737, \"Milestones, Kids' Step Stone Kit\"),\n",
       " (6.60237929930154, 'my first fish bowl by lamaze / learning curve'),\n",
       " (6.9767380240735442, 'my first fish bowl by lamaze / learning curve'),\n",
       " (16.872120882556064, 'Pedal Farm Tractor'),\n",
       " (10.434459267716266, 'Fisher Price Nesting Action Vehicles'),\n",
       " (10.66532650050674, 'Fisher Price Nesting Action Vehicles'),\n",
       " (3.8349042392178019, 'Fisher Price Nesting Action Vehicles'),\n",
       " (3.6687522538074937, 'Fisher Price Nesting Action Vehicles'),\n",
       " (3.0138528943670799, 'Fisher Price Nesting Action Vehicles'),\n",
       " (21.749744388094413, 'Fisher Price Nesting Action Vehicles'),\n",
       " (7.9149212173723091, 'Fisher-Price Slumbertime Soother with Remote Control'),\n",
       " (4.6396588534304284, 'Sassy 836 - Fascination Station'),\n",
       " (7.8606539949866692, 'Sassy Circle Rattle'),\n",
       " (10.135673916244585,\n",
       "  'Sassy Who Loves Baby? Photo Album Book with teether handle'),\n",
       " (13.574926103514677,\n",
       "  'Sassy Who Loves Baby? Photo Album Book with teether handle'),\n",
       " (11.335489422918748, 'My Quiet Book, Fabric Activity Book for Children'),\n",
       " (7.4207456217742251,\n",
       "  'North American Bear Company Sleepyhead Bunny Blue, Blue Stripe, Medium'),\n",
       " (8.8570477152064946,\n",
       "  'North American Bear Company Sleepyhead Bunny Blue, Blue Stripe, Medium'),\n",
       " (5.312890102440571,\n",
       "  'North American Bear Company Sleepyhead Bunny Pink, Pink Stripe, Medium'),\n",
       " (2.4735881633319678, 'HABA Piro Clutching Toy'),\n",
       " (5.1742944898044119, 'Big and Small Chime Ball by Sassy'),\n",
       " (1.4713461186415175, 'Infant Stim-mobile'),\n",
       " (4.849332999610108, 'The First Years Massaging Action Teether'),\n",
       " (2.5066174332809483, 'The First Years Massaging Action Teether'),\n",
       " (3.8650512669987167, 'The First Years Massaging Action Teether'),\n",
       " (4.0828138507048637, 'The First Years Massaging Action Teether'),\n",
       " (5.7167035032805931, 'The First Years Massaging Action Teether'),\n",
       " (6.2004505628584914, 'The First Years Massaging Action Teether'),\n",
       " (1.6980572962873461, 'The First Years Massaging Action Teether'),\n",
       " (-3.0059109595015689, 'The First Years Massaging Action Teether'),\n",
       " (10.316750878605085, 'The First Years Massaging Action Teether'),\n",
       " (-0.00046792563262609832,\n",
       "  'Crown Crafts The Original NoJo BabySling by Dr. Sears - Denim'),\n",
       " (12.65293319173295,\n",
       "  'Crown Crafts The Original NoJo BabySling by Dr. Sears - Denim'),\n",
       " (15.088637024550417,\n",
       "  'Crown Crafts The Original NoJo BabySling by Dr. Sears - Denim'),\n",
       " (3.5070467144044191,\n",
       "  'Crown Crafts The Original NoJo BabySling by Dr. Sears - Denim'),\n",
       " (0.51828666455329997,\n",
       "  'Crown Crafts The Original NoJo BabySling by Dr. Sears - Denim'),\n",
       " (7.1970096636148329, 'Sassy Busy Bugs Bar'),\n",
       " (-1.5800225071245164, 'Sassy Busy Bugs Bar'),\n",
       " (-0.24122227316848677, 'Baby Trend Diaper Champ'),\n",
       " (15.651989472639599, 'Baby Trend Diaper Champ'),\n",
       " (5.0842641959137618, 'Baby Trend Diaper Champ'),\n",
       " (-1.5738956365041037, 'Baby Trend Diaper Champ'),\n",
       " (3.7783483976751331, 'Baby Trend Diaper Champ'),\n",
       " (7.1470536827525679, 'Baby Trend Diaper Champ'),\n",
       " (4.7302987061294415, 'Baby Trend Diaper Champ'),\n",
       " (3.5213150898409626, 'Baby Trend Diaper Champ'),\n",
       " (-0.96274564687338127, 'Baby Trend Diaper Champ'),\n",
       " (6.1845637979241861, 'Baby Trend Diaper Champ'),\n",
       " (3.902927968919002, 'Baby Trend Diaper Champ'),\n",
       " (2.4971164271987663, 'Baby Trend Diaper Champ'),\n",
       " (1.5903817347353582, 'Baby Trend Diaper Champ'),\n",
       " (9.0931226741907647, 'Baby Trend Diaper Champ'),\n",
       " (3.895291270659186, 'Baby Trend Diaper Champ'),\n",
       " (10.462318124646321, 'Baby Trend Diaper Champ'),\n",
       " (4.198195429834211, 'Baby Trend Diaper Champ'),\n",
       " (8.2669057035408056, 'Baby Trend Diaper Champ'),\n",
       " (-1.0278612464258414, 'Baby Trend Diaper Champ'),\n",
       " (-3.1010003253918521, 'Baby Trend Diaper Champ'),\n",
       " (15.350557561424811, 'Baby Trend Diaper Champ'),\n",
       " (6.2061594168256073, 'Baby Trend Diaper Champ'),\n",
       " (9.0736297984241805, 'Baby Trend Diaper Champ'),\n",
       " (11.006091224965033, 'Baby Trend Diaper Champ'),\n",
       " (1.797958225759841, 'Baby Trend Diaper Champ'),\n",
       " (-0.40486280532473673, 'Baby Trend Diaper Champ'),\n",
       " (6.1863964290018068, 'Baby Trend Diaper Champ'),\n",
       " (6.89217444572009, 'Baby Trend Diaper Champ'),\n",
       " (2.4179270090055427, 'Baby Trend Diaper Champ'),\n",
       " (12.32416766575146, 'Baby Trend Diaper Champ'),\n",
       " (-0.6390352294403816, 'Baby Trend Diaper Champ'),\n",
       " (6.6963301042883856, 'Baby Trend Diaper Champ'),\n",
       " (-1.4176542274108861, 'Baby Trend Diaper Champ'),\n",
       " (9.7207703037104647, 'Baby Trend Diaper Champ'),\n",
       " (10.062877815184068, 'Baby Trend Diaper Champ'),\n",
       " (12.311737954710507, 'Baby Trend Diaper Champ'),\n",
       " (6.3917099896407024, 'Baby Trend Diaper Champ'),\n",
       " (3.7474743762264406, 'Baby Trend Diaper Champ'),\n",
       " (9.9545167926763263, 'Baby Trend Diaper Champ'),\n",
       " (6.5119866722122657, 'Baby Trend Diaper Champ'),\n",
       " (6.3453971058196981, 'Baby Trend Diaper Champ'),\n",
       " (5.0492430194672311, 'Baby Trend Diaper Champ'),\n",
       " (7.6945212924176323, 'Baby Trend Diaper Champ'),\n",
       " (5.1486667998166071, 'Baby Trend Diaper Champ'),\n",
       " (5.9785117920642179, 'Baby Trend Diaper Champ'),\n",
       " (6.6856536970947049, 'Baby Trend Diaper Champ'),\n",
       " (0.11703306595174645, 'Baby Trend Diaper Champ'),\n",
       " (2.8773113299553503, 'Baby Trend Diaper Champ'),\n",
       " (5.3163696042915873, 'Baby Trend Diaper Champ'),\n",
       " (14.159311515291773, 'Baby Trend Diaper Champ'),\n",
       " (9.3372732016019135, 'Baby Trend Diaper Champ'),\n",
       " (10.399131992873903, 'Baby Trend Diaper Champ'),\n",
       " (4.3489326738706504, 'Baby Trend Diaper Champ'),\n",
       " (5.2859203610595165, 'Baby Trend Diaper Champ'),\n",
       " (8.1656689946019263, 'Baby Trend Diaper Champ'),\n",
       " (3.8541697443679919, 'Baby Trend Diaper Champ'),\n",
       " (-1.0680380221959791, 'Baby Trend Diaper Champ'),\n",
       " (3.7137099500516992, 'Baby Trend Diaper Champ'),\n",
       " (4.2952463619528185, 'Baby Trend Diaper Champ'),\n",
       " (5.4521250460788879, 'Baby Trend Diaper Champ'),\n",
       " (6.0003262463902631, 'Basic Comfort Rest EZ II Pregnancy Wedge'),\n",
       " (-0.13593539873176552, 'Basic Comfort Rest EZ II Pregnancy Wedge'),\n",
       " (-1.9435546820220189,\n",
       "  'Summer Infant Ultimate Crib Sheet, 52&quot; x 28&quot;'),\n",
       " (2.3478531380257568,\n",
       "  'Summer Infant Ultimate Crib Sheet, 52&quot; x 28&quot;'),\n",
       " (2.807223791733914, 'Summer Infant Ultimate Crib Sheet, 52&quot; x 28&quot;'),\n",
       " (4.2341917197576864,\n",
       "  'Summer Infant Ultimate Crib Sheet, 52&quot; x 28&quot;'),\n",
       " (-7.4792812999618379,\n",
       "  'Summer Infant Ultimate Crib Sheet, 52&quot; x 28&quot;'),\n",
       " (4.7564955393070933,\n",
       "  'Summer Infant Ultimate Crib Sheet, 52&quot; x 28&quot;'),\n",
       " (-3.7104357499357787,\n",
       "  'Summer Infant Ultimate Crib Sheet, 52&quot; x 28&quot;'),\n",
       " (-1.8511507783746335,\n",
       "  'Summer Infant Ultimate Crib Sheet, 52&quot; x 28&quot;'),\n",
       " (2.1010913697288967,\n",
       "  'Summer Infant Ultimate Crib Sheet, 52&quot; x 28&quot;'),\n",
       " (0.3251542651624022,\n",
       "  'Summer Infant Ultimate Crib Sheet, 52&quot; x 28&quot;'),\n",
       " (-1.1636132709229881,\n",
       "  'Summer Infant Ultimate Crib Sheet, 52&quot; x 28&quot;'),\n",
       " (27.006040471344562, \"Basic Comfort Handy's Plus Pad Full\"),\n",
       " (1.9295386151314025,\n",
       "  'Summer Infant, Ultimate Training Pad - Twin Mattress, 38&quot; x 28&quot;'),\n",
       " (4.8245617922896473,\n",
       "  'Summer Infant, Ultimate Training Pad - Twin Mattress, 38&quot; x 28&quot;'),\n",
       " (4.7698784799263683,\n",
       "  'Summer Infant, Ultimate Training Pad - Twin Mattress, 38&quot; x 28&quot;'),\n",
       " (9.9312814654770278,\n",
       "  'Summer Infant, Ultimate Training Pad - Twin Mattress, 38&quot; x 28&quot;'),\n",
       " (4.2428206188009225,\n",
       "  'Summer Infant, Ultimate Training Pad - Twin Mattress, 38&quot; x 28&quot;'),\n",
       " (8.0336842851202181,\n",
       "  'Summer Infant, Ultimate Training Pad - Twin Mattress, 38&quot; x 28&quot;'),\n",
       " (4.4657612886286389, 'Safe Fit Auto Seat Belt Adjuster &amp; Positioner'),\n",
       " (11.081623232268113, 'Odorless Diaper Pail by Safety 1st'),\n",
       " (-6.4146072869328474, 'Odorless Diaper Pail by Safety 1st'),\n",
       " (0.76988711711369762, 'Odorless Diaper Pail by Safety 1st'),\n",
       " (2.2403460243422435, 'Odorless Diaper Pail by Safety 1st'),\n",
       " (3.564489270511352, \"Plug 'N Outlet Cover\"),\n",
       " (-0.66305565663908195, \"Plug 'N Outlet Cover\"),\n",
       " (-3.3571193651544462, \"Plug 'N Outlet Cover\"),\n",
       " (1.469336208163144, \"Plug 'N Outlet Cover\"),\n",
       " (2.0666900207318672, 'Safety 1st Power Strip Cover'),\n",
       " (-2.1462184590534612, 'Safety 1st Power Strip Cover'),\n",
       " (4.7737940562392938, 'Safety 1st Power Strip Cover'),\n",
       " (11.786679684559434, 'Safety 1st Grow with Me Portable Booster Seat'),\n",
       " (2.8527167005285903, 'Safety 1st Grow with Me Portable Booster Seat'),\n",
       " (0.014666304682221742, 'Safety 1st Grow with Me Portable Booster Seat'),\n",
       " (7.758044193456068,\n",
       "  'Graco Deluxe Tot-Lock with Tray and High Back Seat - Navy Gingham Pattern'),\n",
       " (-0.14884725531598986, 'Safety 1st Tot-Lok Starter Set'),\n",
       " (-3.6236149995876135, 'Secure Grip Door Knob Covers'),\n",
       " (-1.9531076811096491, 'Secure Grip Door Knob Covers'),\n",
       " (6.0930053275465834, 'Safety 1st Seat Belt Adjuster'),\n",
       " (12.505346579581204, 'Safety 1st Seat Belt Adjuster'),\n",
       " (8.4002505123013176, 'Safety 1st Magnetic Tot Lok Complete Set'),\n",
       " (11.645227732219182, 'Safety 1st Magnetic Tot Lok Complete Set'),\n",
       " (3.0997070097448747, 'Safety 1st Magnetic Tot Lok Complete Set'),\n",
       " (-6.1062231615033635,\n",
       "  \"Safety 1st Hospital's Choice Accu Scan Ear Thermometer\"),\n",
       " (-3.8636317573787213,\n",
       "  \"Safety 1st Hospital's Choice Accu Scan Ear Thermometer\"),\n",
       " (-9.1736911542660184,\n",
       "  \"Safety 1st Hospital's Choice Accu Scan Ear Thermometer\"),\n",
       " (6.3402806256952697, 'Safety 1st Space Saver Fold-Up Bath Tub'),\n",
       " (5.549451663953934, 'Safety 1st Space Saver Fold-Up Bath Tub'),\n",
       " (-0.2519575635258744, 'Safety 1st Space Saver Fold-Up Bath Tub'),\n",
       " (-1.0403034944162919, 'Safety 1st Space Saver Fold-Up Bath Tub'),\n",
       " (-1.4147576556992003, 'Safety 1st Space Saver Fold-Up Bath Tub'),\n",
       " (9.9813242904657908, 'Safety 1st Space Saver Fold-Up Bath Tub'),\n",
       " (1.5860336817144447, 'Safety 1st Space Saver Fold-Up Bath Tub'),\n",
       " (-0.76790832813599708, 'Safety 1st Space Saver Fold-Up Bath Tub'),\n",
       " (10.120563768612369, 'Safety 1st Space Saver Fold-Up Bath Tub'),\n",
       " (2.7745379314783944, 'Safety 1st Space Saver Fold-Up Bath Tub'),\n",
       " (5.0912762436522705, 'Safety 1st Space Saver Fold-Up Bath Tub'),\n",
       " (-5.1112994671920076, 'Safety 1st Space Saver Fold-Up Bath Tub'),\n",
       " (-0.68311955884249653, 'Safety 1st Space Saver Fold-Up Bath Tub'),\n",
       " (4.5982106811997943, 'Safety 1st Space Saver Fold-Up Bath Tub'),\n",
       " (2.6109229455028657, 'Graco Traveling Potty Seat'),\n",
       " (5.7532965603811936, 'Safety 1st Deluxe 4-in-1 Bath Station'),\n",
       " (1.9882102399903347, 'Safety 1st Deluxe 4-in-1 Bath Station'),\n",
       " (-4.4640584944487163, 'Safety 1st Deluxe 4-in-1 Bath Station'),\n",
       " (13.094531844158498, 'Safety 1st Deluxe 4-in-1 Bath Station'),\n",
       " (-12.167667511425851, 'Safety 1st Deluxe 4-in-1 Bath Station'),\n",
       " (-9.2482644581627316, 'Safety 1st Deluxe 4-in-1 Bath Station'),\n",
       " (4.5787982472550874, 'Safety 1st Deluxe 4-in-1 Bath Station'),\n",
       " (-3.6558455640474907, 'Safety 1st Deluxe 4-in-1 Bath Station'),\n",
       " (-4.2854079653710686, 'Safety 1st Deluxe 4-in-1 Bath Station'),\n",
       " (-1.4032579592765366, 'Safety 1st Deluxe 4-in-1 Bath Station'),\n",
       " (-17.13096741598536, 'Safety 1st Deluxe 4-in-1 Bath Station'),\n",
       " (2.3986100914735227, 'Safety 1st Deluxe 4-in-1 Bath Station'),\n",
       " (1.7208772188264185, 'Safety 1st Deluxe 4-in-1 Bath Station'),\n",
       " (6.0881605916434243, 'Safety 1st Deluxe 4-in-1 Bath Station'),\n",
       " (4.4131398483717739, 'Safety 1st Deluxe 4-in-1 Bath Station'),\n",
       " (-1.0839514645850177, 'Safety 1st Deluxe 4-in-1 Bath Station'),\n",
       " (-2.2606238459541856, 'Safety 1st Deluxe 4-in-1 Bath Station'),\n",
       " (6.4112842317947605, 'Safety 1st Deluxe 4-in-1 Bath Station'),\n",
       " (-3.2819223661845918, 'Safety 1st Deluxe 4-in-1 Bath Station'),\n",
       " (-0.29519338054961142, 'Safety 1st Deluxe 4-in-1 Bath Station'),\n",
       " (-5.0172122960028132, 'Safety 1st Deluxe 4-in-1 Bath Station'),\n",
       " (-4.7379633038159685, 'Safety 1st Deluxe 4-in-1 Bath Station'),\n",
       " (4.2732506402765074, 'Safety 1st Deluxe 4-in-1 Bath Station'),\n",
       " (-0.2226450605458421, 'Safety 1st Deluxe 4-in-1 Bath Station'),\n",
       " (1.3604759997329496, 'Safety 1st Deluxe 4-in-1 Bath Station'),\n",
       " (-0.63513721980735016, 'Safety 1st Deluxe 4-in-1 Bath Station'),\n",
       " (-20.6362483888492, 'Safety 1st Deluxe 4-in-1 Bath Station'),\n",
       " (-4.3944216727895062, 'Safety 1st Deluxe 4-in-1 Bath Station'),\n",
       " (-9.5761811763609952, 'Safety 1st Deluxe 4-in-1 Bath Station'),\n",
       " (-8.0330459392437898, 'Safety 1st Deluxe 4-in-1 Bath Station'),\n",
       " (-12.880372196207071, 'Safety 1st Deluxe 4-in-1 Bath Station'),\n",
       " (13.77135632520918, 'Northstate Superyard Playgate Light Gray'),\n",
       " (8.9873501890885397, 'Northstate Superyard Playgate Light Gray'),\n",
       " (4.7692340903066848, 'Northstate Superyard Playgate Light Gray'),\n",
       " (13.917382310014823, 'Northstate Superyard Playgate Light Gray'),\n",
       " (3.3360349894368007, 'Northstate Superyard Playgate Light Gray'),\n",
       " (3.5316566168085917, 'Northstate Superyard Playgate Light Gray'),\n",
       " (5.1404328171142275, 'Northstate Superyard Playgate Light Gray'),\n",
       " (-3.7365161209579059, 'Northstate Superyard Playgate Light Gray'),\n",
       " (6.0720455359512888, 'Northstate Superyard Playgate Light Gray'),\n",
       " (1.9295386151314025, 'Northstate Superyard Playgate Light Gray'),\n",
       " (3.0170132491543815, 'Northstate Superyard Playgate Light Gray'),\n",
       " (13.256574144691829, 'Northstate Superyard Playgate Light Gray'),\n",
       " (-0.18755458327625152, 'Northstate Superyard Playgate Light Gray'),\n",
       " (7.122992971844794, 'Northstate Superyard Playgate Light Gray'),\n",
       " (8.2706334841369333, 'Northstate Superyard Playgate Light Gray'),\n",
       " (-0.66236813945409012, 'Supergate III'),\n",
       " (-5.3396024053385398, 'North States Industries Superyard XT Gate Extension'),\n",
       " (3.7221724516789081,\n",
       "  'Thomas &amp; Friends - 3 Piece Dinnerware Set- Pecoware'),\n",
       " (4.7265367275740822,\n",
       "  'Thomas &amp; Friends - 3 Piece Dinnerware Set- Pecoware'),\n",
       " (2.5871876642870184,\n",
       "  'Thomas &amp; Friends - 3 Piece Dinnerware Set- Pecoware'),\n",
       " (5.1322688100222962, 'Munchkin Mozart Magic Cube'),\n",
       " (2.0773581964942602, 'Munchkin Mozart Magic Cube'),\n",
       " (10.561040416716962, 'Munchkin Mozart Magic Cube'),\n",
       " (7.0627893123336047, 'Munchkin Mozart Magic Cube'),\n",
       " (0.926293256996368, 'Munchkin Mozart Magic Cube'),\n",
       " (5.5718998588096662, 'Munchkin Mozart Magic Cube'),\n",
       " (2.680506911686666, 'Munchkin Mozart Magic Cube'),\n",
       " (8.1238962313095229, 'Munchkin Mozart Magic Cube'),\n",
       " (5.7046560763537446, 'Munchkin Mozart Magic Cube'),\n",
       " (6.7318625502944389, 'Munchkin Mozart Magic Cube'),\n",
       " (11.559160393085715, 'Munchkin Mozart Magic Cube'),\n",
       " (0.82784182644048054, 'Munchkin Mozart Magic Cube'),\n",
       " (5.783971619487696, 'Munchkin Mozart Magic Cube'),\n",
       " (1.324288226646142, 'Munchkin Mozart Magic Cube'),\n",
       " (6.1593087791323251, 'Munchkin Mozart Magic Cube'),\n",
       " (6.3250262218116982, 'Munchkin Mozart Magic Cube'),\n",
       " (10.29416978453847, 'Munchkin Mozart Magic Cube'),\n",
       " (6.3740266643745986, 'Munchkin Mozart Magic Cube'),\n",
       " (-6.5772606278774939, 'Munchkin Mozart Magic Cube'),\n",
       " (2.9893759434060607, 'Munchkin Mozart Magic Cube'),\n",
       " (2.5976196267672389, 'Munchkin Mozart Magic Cube'),\n",
       " (-0.8812581497938734, 'Munchkin Mozart Magic Cube'),\n",
       " (8.8697937552262918, 'Munchkin Mozart Magic Cube'),\n",
       " (8.6003504840378202, 'Munchkin Mozart Magic Cube'),\n",
       " (6.663408202811044, 'Munchkin Mozart Magic Cube'),\n",
       " (-2.2596281506965941, 'Munchkin Mozart Magic Cube'),\n",
       " (7.8564992661101307, 'Munchkin Mozart Magic Cube'),\n",
       " (5.4022156522975928, 'Munchkin Mozart Magic Cube'),\n",
       " (1.2929154202308732, 'Munchkin Mozart Magic Cube'),\n",
       " (8.146998771866274, 'Munchkin Mozart Magic Cube'),\n",
       " (30.147970861629595, 'Munchkin Mozart Magic Cube'),\n",
       " (4.9697274083209377, 'Munchkin Mozart Magic Cube'),\n",
       " (1.6657658347143591, 'Munchkin Mozart Magic Cube'),\n",
       " (2.0024096609141244, 'Munchkin Mozart Magic Cube'),\n",
       " (7.0884378236803771, 'Munchkin Mozart Magic Cube'),\n",
       " (6.8589008649999892, 'Munchkin Mozart Magic Cube'),\n",
       " (5.6924783316982612, 'Munchkin Mozart Magic Cube'),\n",
       " (10.198287381263638, 'Munchkin Mozart Magic Cube'),\n",
       " (9.1050170653011655, 'Munchkin Mozart Magic Cube'),\n",
       " (-0.53288059443210045, 'Munchkin Mozart Magic Cube'),\n",
       " (4.700430674324906, 'Munchkin Mozart Magic Cube'),\n",
       " (-1.0103220071625858, 'Sesame Street Potty Soft Seat, Elmo'),\n",
       " (1.2526424348651706, 'Sesame Street Potty Soft Seat, Elmo'),\n",
       " (17.234855445744486, 'Sesame Street Potty Soft Seat, Elmo'),\n",
       " (-5.3950282261245501, 'Sesame Street Potty Soft Seat, Elmo'),\n",
       " (4.2871799695667363, 'Sesame Street Potty Soft Seat, Elmo'),\n",
       " (-1.1804741563824657, 'Sesame Street Potty Soft Seat, Elmo'),\n",
       " (-4.5870929800288032, 'Sesame Street Potty Soft Seat, Elmo'),\n",
       " (3.963132714435468, 'Sesame Street Potty Soft Seat, Elmo'),\n",
       " (5.2603647715883728, 'Sesame Street Potty Soft Seat, Elmo'),\n",
       " (6.4393057034986763, 'Sesame Street Potty Soft Seat, Elmo'),\n",
       " (2.3324043337806826, 'Sesame Street Potty Soft Seat, Elmo'),\n",
       " (5.3580187232327914, 'Gund Baby Tinkle Crinkle Rattle Toy'),\n",
       " (6.3478377019447514, 'Baby Drum Musical Toy'),\n",
       " (6.0053840113084851, 'Baby Drum Musical Toy'),\n",
       " (5.4431475385814814, 'Evenflo Top of Stair Gate'),\n",
       " (6.1641683757448478, 'Evenflo Top of Stair Gate'),\n",
       " (6.8462413255672514, 'Evenflo Top of Stair Gate'),\n",
       " (-1.3304807173941915, 'Evenflo Top of Stair Gate'),\n",
       " (6.7045417617087235, 'Evenflo Top of Stair Gate'),\n",
       " (4.667826426694849, 'Evenflo Top of Stair Gate'),\n",
       " (8.9848280163318428, 'Evenflo Top of Stair Gate'),\n",
       " (0.53620905013422737, 'Evenflo Top of Stair Gate'),\n",
       " (6.9022615354122587, 'Evenflo Top of Stair Gate'),\n",
       " (3.263714265326719, 'Evenflo Top of Stair Gate'),\n",
       " (5.2685020193012999, 'Evenflo Top of Stair Gate'),\n",
       " (5.83109816109401, 'Evenflo Top of Stair Gate'),\n",
       " (6.0187297284858463, 'Evenflo Top of Stair Gate'),\n",
       " (6.0194292756289416, \"Animal Planet's Big Tub of Dinosaurs\"),\n",
       " (4.0925574965608682, \"Animal Planet's Big Tub of Dinosaurs\"),\n",
       " (9.2206763776194922, \"Animal Planet's Big Tub of Dinosaurs\"),\n",
       " (0.89988819819646371, \"Animal Planet's Big Tub of Dinosaurs\"),\n",
       " (8.2686513527534888, \"Animal Planet's Big Tub of Dinosaurs\"),\n",
       " (6.7004969797419758, \"Animal Planet's Big Tub of Dinosaurs\"),\n",
       " (3.1596539487124913, \"Animal Planet's Big Tub of Dinosaurs\"),\n",
       " (5.5316002316544344, \"Animal Planet's Big Tub of Dinosaurs\"),\n",
       " (2.9074735544059518, \"Animal Planet's Big Tub of Dinosaurs\"),\n",
       " (0.064813658971902832,\n",
       "  '8&quot; Tinkle Crinkle Baby Caterpillar Rattle Toy- Pastel'),\n",
       " (3.300109892426851, 'NUK 2 Pack Classic Latex BPA Free Pacifier, Size 2'),\n",
       " (6.708599140587638, 'Graco Tot Wheels V Mobile Entertainer Center'),\n",
       " (8.5622914328105804, 'Graco Tot Wheels V Mobile Entertainer Center'),\n",
       " (2.5238733267128266, 'Graco Tot Wheels V Mobile Entertainer Center'),\n",
       " (8.4096651614979834, 'Graco Tot Wheels V Mobile Entertainer Center'),\n",
       " (-4.8573924025552406, 'Bell Classic Child Carrier'),\n",
       " (6.498811442290406, \"Graco TotBloc Pack 'N Play with Carry Bag, Bugs Quilt\"),\n",
       " (13.609779155605134, \"Graco TotBloc Pack 'N Play with Carry Bag, Bugs Quilt\"),\n",
       " (8.793357845011295, \"Graco TotBloc Pack 'N Play with Carry Bag, Bugs Quilt\"),\n",
       " (8.8887785708053411, \"Graco TotBloc Pack 'N Play with Carry Bag, Bugs Quilt\"),\n",
       " (4.5352304572289208, \"Graco TotBloc Pack 'N Play with Carry Bag, Bugs Quilt\"),\n",
       " (4.1157711930760108, \"Graco TotBloc Pack 'N Play with Carry Bag, Bugs Quilt\"),\n",
       " (1.9295386151314025, \"Graco TotBloc Pack 'N Play with Carry Bag, Bugs Quilt\"),\n",
       " (7.2463459664179304, \"Graco TotBloc Pack 'N Play with Carry Bag, Bugs Quilt\"),\n",
       " (5.5660745695232983, \"Graco TotBloc Pack 'N Play with Carry Bag, Bugs Quilt\"),\n",
       " (17.746654162269287, \"Graco TotBloc Pack 'N Play with Carry Bag, Bugs Quilt\"),\n",
       " (-6.4651433327433177,\n",
       "  \"Graco TotBloc Pack 'N Play with Carry Bag, Bugs Quilt\"),\n",
       " (10.289634984735237, \"Graco TotBloc Pack 'N Play with Carry Bag, Bugs Quilt\"),\n",
       " (2.0363737900658752, \"Graco TotBloc Pack 'N Play with Carry Bag, Bugs Quilt\"),\n",
       " (8.3750878576490617, \"Graco TotBloc Pack 'N Play with Carry Bag, Bugs Quilt\"),\n",
       " (10.77300542166749, \"Graco TotBloc Pack 'N Play with Carry Bag, Bugs Quilt\"),\n",
       " (6.7555523898773595, \"Graco TotBloc Pack 'N Play with Carry Bag, Bugs Quilt\"),\n",
       " (15.741326335210506, \"Graco TotBloc Pack 'N Play with Carry Bag, Bugs Quilt\"),\n",
       " (15.02420610495914, \"Graco TotBloc Pack 'N Play with Carry Bag, Bugs Quilt\"),\n",
       " (3.8702619393218871, \"Graco TotBloc Pack 'N Play with Carry Bag, Bugs Quilt\"),\n",
       " (6.9632216895249295, 'Portable Crib Mattress'),\n",
       " (3.3024669347016786, 'Philips AVENT Isis On The Go Set'),\n",
       " (9.3849605143064512, 'Philips AVENT Isis On The Go Set'),\n",
       " (3.6072985138745537, 'Philips AVENT Isis On The Go Set'),\n",
       " (7.4951946378221548, 'Philips AVENT Isis On The Go Set'),\n",
       " (-2.5863391258734074, 'Philips AVENT Isis On The Go Set'),\n",
       " (7.9289870896162764, 'Philips AVENT Isis On The Go Set'),\n",
       " (19.477713238156479, 'Philips AVENT Isis On The Go Set'),\n",
       " (7.6661593666136199, 'Philips AVENT Isis On The Go Set'),\n",
       " (-0.62146488800653543, 'Philips AVENT Isis On The Go Set'),\n",
       " (6.7283482145901399, 'Philips AVENT Isis On The Go Set'),\n",
       " (0.46041706521149073, 'Philips AVENT Isis On The Go Set'),\n",
       " (-4.7030817458228737, 'Philips AVENT Isis On The Go Set'),\n",
       " (5.4831489599554839, 'Philips AVENT Isis On The Go Set'),\n",
       " (3.9332278204424647, 'Medela Single Deluxe Battery/Electric Breastpump'),\n",
       " (-13.676334173173455, 'Medela Single Deluxe Battery/Electric Breastpump'),\n",
       " (12.636822475198956, 'Medela Single Deluxe Battery/Electric Breastpump'),\n",
       " (-1.3836578036184564, 'Medela Single Deluxe Battery/Electric Breastpump'),\n",
       " (-16.431678899048276, 'Medela Single Deluxe Battery/Electric Breastpump'),\n",
       " (6.5001776521256298, 'Medela Single Deluxe Battery/Electric Breastpump'),\n",
       " (4.4479993899455232, 'Cosco Portable Crib - White'),\n",
       " (7.0823228017812836, 'The First Years Night and Day Bottle Warmer System'),\n",
       " (-1.8331461088609824, 'The First Years Night and Day Bottle Warmer System'),\n",
       " (5.0311685775062491, 'The First Years Night and Day Bottle Warmer System'),\n",
       " (12.643666169439221, 'The First Years Night and Day Bottle Warmer System'),\n",
       " (-3.0350453373434876, 'The First Years Night and Day Bottle Warmer System'),\n",
       " (-0.57725613413353449, 'The First Years Night and Day Bottle Warmer System'),\n",
       " (3.689129986395149, 'The First Years Night and Day Bottle Warmer System'),\n",
       " (-3.9702070095953257, 'The First Years Night and Day Bottle Warmer System'),\n",
       " (-2.97880557477085, 'The First Years Night and Day Bottle Warmer System'),\n",
       " (3.742722839923565, 'Avent ISIS Breast Pump with Disposable Nurser'),\n",
       " (5.7867889801009573, 'Avent ISIS Breast Pump with Disposable Nurser'),\n",
       " (3.2185621924554524, 'Avent ISIS Breast Pump with Disposable Nurser'),\n",
       " (4.8277160215404384, 'Avent ISIS Breast Pump with Disposable Nurser'),\n",
       " (13.609601033121441,\n",
       "  \"Delta Children's Products Vintage Chic Jenny Lind Changing Table in Oak\"),\n",
       " (7.2120753677724592,\n",
       "  'Playtex Drop-Ins Original BPA Free Nurser Newborn Starter Set'),\n",
       " (5.761399361683516,\n",
       "  'Playtex Drop-Ins Original BPA Free Nurser Newborn Starter Set'),\n",
       " (4.4867399790281031,\n",
       "  'Playtex Drop-Ins Original BPA Free Nurser Newborn Starter Set'),\n",
       " (6.2102194467899183,\n",
       "  'Playtex Drop-Ins Original BPA Free Nurser Newborn Starter Set'),\n",
       " (9.2101239804883477,\n",
       "  'Playtex Drop-Ins Original BPA Free Nurser Newborn Starter Set'),\n",
       " (11.670838531946314, 'Custom Fit KidCo Configure Gate - White'),\n",
       " (9.7360684674237046, 'Custom Fit KidCo Configure Gate - White'),\n",
       " (13.900918669346057, 'Custom Fit KidCo Configure Gate - White'),\n",
       " (8.0193074130602682, 'Custom Fit KidCo Configure Gate - White'),\n",
       " (-1.8002983459709478,\n",
       "  'Gerber 12-Pack Prefold Birdseye 3-Ply Cloth Diapers with Padding - White'),\n",
       " (1.2752637801086877, '3-in-1 Fold and Go Changing Kit'),\n",
       " (-2.5135932700505945, 'The First Years Nature Sensations Lullaby Player'),\n",
       " (17.346671502578992, 'The First Years Nature Sensations Lullaby Player'),\n",
       " (3.119650401886287, 'Philips Avent 3 Pack 9oz Bottles'),\n",
       " (-0.14061057989306436, 'Philips Avent 3 Pack 9oz Bottles'),\n",
       " (8.797861669298964, 'Philips Avent 3 Pack 9oz Bottles'),\n",
       " (-1.5755151163625565, 'Philips Avent 3 Pack 9oz Bottles'),\n",
       " (-1.3360716941280717, 'Philips Avent 3 Pack 9oz Bottles'),\n",
       " (12.332067032175958, 'Philips Avent 3 Pack 9oz Bottles'),\n",
       " (1.1877893563997557, 'Philips Avent 3 Pack 9oz Bottles'),\n",
       " (-15.582761799895142, 'Philips Avent 3 Pack 9oz Bottles'),\n",
       " (-0.14722548890941445, 'Philips Avent 3 Pack 9oz Bottles'),\n",
       " (-2.6521242285940794, 'Philips Avent 3 Pack 9oz Bottles'),\n",
       " (16.992071132756227, 'Philips Avent 3 Pack 9oz Bottles'),\n",
       " (10.519375167720348, 'Philips Avent 3 Pack 9oz Bottles'),\n",
       " (9.1183856636183886, 'Philips Avent 3 Pack 9oz Bottles'),\n",
       " (-15.983035407133549, 'Philips Avent 3 Pack 9oz Bottles'),\n",
       " (-6.7214700674380436, 'Philips Avent 3 Pack 9oz Bottles'),\n",
       " (3.9583811944362433, 'Philips Avent 3 Pack 9oz Bottles'),\n",
       " (0.13050151807064925, 'Philips Avent 3 Pack 9oz Bottles'),\n",
       " (-5.6689566662126474, 'Philips Avent 3 Pack 9oz Bottles'),\n",
       " (6.3319457829695258, 'Philips Avent 3 Pack 9oz Bottles'),\n",
       " (-4.9125178463411636, 'Philips Avent 3 Pack 9oz Bottles'),\n",
       " (3.0832060886888164, 'Philips Avent 3 Pack 9oz Bottles'),\n",
       " (3.6853869133586601, 'Philips Avent 3 Pack 9oz Bottles'),\n",
       " (-3.0171074950002925, 'Philips Avent 3 Pack 9oz Bottles'),\n",
       " (-0.033462082401771065, 'Philips Avent 3 Pack 9oz Bottles'),\n",
       " (-4.9108209718853182, 'Philips Avent 3 Pack 9oz Bottles'),\n",
       " (0.27204490244901702, 'Philips Avent 3 Pack 9oz Bottles'),\n",
       " (-6.4294037566690969, 'Philips Avent 3 Pack 9oz Bottles'),\n",
       " (2.1135192320559444, 'Philips Avent 3 Pack 9oz Bottles'),\n",
       " (10.18561988634737, 'Philips Avent 3 Pack 9oz Bottles'),\n",
       " (9.285953535010405, 'Philips Avent 3 Pack 9oz Bottles'),\n",
       " (0.39285756106399916, 'Philips Avent 3 Pack 9oz Bottles'),\n",
       " (1.9176924769180363, 'Philips Avent 3 Pack 9oz Bottles'),\n",
       " (-7.1889896127864121, 'Philips Avent 3 Pack 9oz Bottles'),\n",
       " (-2.8314500011810182, 'Philips Avent 3 Pack 9oz Bottles'),\n",
       " (6.4034844210604751, 'Philips Avent 3 Pack 9oz Bottles'),\n",
       " (5.1008623706463396, '3 - in - 1 Feeding Organizer'),\n",
       " (4.8394409620699879, 'Baby Smart Cooshie Booster Seat - Blue'),\n",
       " (9.8544120465729375, 'Baby Smart Cooshie Booster Seat - Blue'),\n",
       " (7.6394651296877312, 'Baby Smart Cooshie Booster Seat - Blue'),\n",
       " (10.948975891791903, 'Baby Smart Cooshie Booster Seat - Blue'),\n",
       " (4.3273692299406212, 'Baby Smart Cooshie Booster &amp; Travel Bag - Green'),\n",
       " (6.4001274316754548, 'Baby Smart Cooshie Booster &amp; Travel Bag - Green'),\n",
       " (19.195261078085259, 'Baby Smart Cooshie Booster &amp; Travel Bag - Green'),\n",
       " (4.4491662678874349, \"Mommy's Helper Drain 'N Dry Bottle Drying Rack\"),\n",
       " (7.0152369455617274, 'Prince Lionheart Jumbo Corner Guards'),\n",
       " (-1.5063141573073529, 'Prince Lionheart Jumbo Edge Guards'),\n",
       " (-3.1428655380827601, 'Prince Lionheart Jumbo Edge Guards'),\n",
       " (4.719417149054749, 'Prince Lionheart Table Edge Guard with 4 Corners, Grey'),\n",
       " (5.6543067622507168,\n",
       "  'Prince Lionheart Table Edge Guard with 4 Corners, Grey'),\n",
       " (5.2247354059574764,\n",
       "  'Prince Lionheart Table Edge Guard with 4 Corners, Grey'),\n",
       " (3.4038201609602261,\n",
       "  'Prince Lionheart Table Edge Guard with 4 Corners, Grey'),\n",
       " (1.7321629626761286,\n",
       "  'Prince Lionheart Table Edge Guard with 4 Corners, Grey'),\n",
       " (5.364467603712785, 'Prince Lionheart Table Edge Guard with 4 Corners, Grey'),\n",
       " (7.5638919559181881,\n",
       "  'Prince Lionheart Table Edge Guard with 4 Corners, Grey'),\n",
       " (5.2139383527236225,\n",
       "  'Prince Lionheart Table Edge Guard with 4 Corners, Grey'),\n",
       " (3.0340142599647324,\n",
       "  'Prince Lionheart Table Edge Guard with 4 Corners, Grey'),\n",
       " (4.2595543641432192,\n",
       "  'Prince Lionheart Table Edge Guard with 4 Corners, Grey'),\n",
       " (2.0314235385425139,\n",
       "  'Prince Lionheart Table Edge Guard with 4 Corners, Grey'),\n",
       " (8.6883399582806273,\n",
       "  'Prince Lionheart Table Edge Guard with 4 Corners, Grey'),\n",
       " (0.7511885790900632,\n",
       "  'Prince Lionheart Table Edge Guard with 4 Corners, Grey'),\n",
       " (5.3506239822033157,\n",
       "  'Prince Lionheart Table Edge Guard with 4 Corners, Grey'),\n",
       " (12.900656715530094,\n",
       "  'Prince Lionheart Table Edge Guard with 4 Corners, Grey'),\n",
       " (10.759379079459123,\n",
       "  'Prince Lionheart Table Edge Guard with 4 Corners, Grey'),\n",
       " (0.7757315473665054,\n",
       "  'Prince Lionheart Table Edge Guard with 4 Corners, Grey'),\n",
       " (6.1151057356211513,\n",
       "  'Prince Lionheart Table Edge Guard with 4 Corners, Grey'),\n",
       " (1.9295386151314025,\n",
       "  'Prince Lionheart Table Edge Guard with 4 Corners, Grey'),\n",
       " (-1.4333984025991879,\n",
       "  'Prince Lionheart Table Edge Guard with 4 Corners, Grey'),\n",
       " (6.865744820868005, 'Prince Lionheart Table Edge Guard with 4 Corners, Grey'),\n",
       " (-1.8488792936659368,\n",
       "  'Prince Lionheart Table Edge Guard with 4 Corners, Grey'),\n",
       " (7.0016777960970664, 'BABYBJORN Toilet Trainer - White/Red'),\n",
       " (2.7869104296977598, 'BABYBJORN Toilet Trainer - White/Red'),\n",
       " (3.9856438285020044, 'BABYBJORN Toilet Trainer - White/Red'),\n",
       " (7.1009363610394978, 'BABYBJORN Toilet Trainer - White/Red'),\n",
       " (6.0669715484742053, 'BABYBJORN Toilet Trainer - White/Red'),\n",
       " (4.7141338889767601, 'BABYBJORN Toilet Trainer - White/Red'),\n",
       " (7.4789884401177114, 'BABYBJORN Toilet Trainer - White/Red'),\n",
       " (6.6005745980197199, 'BABYBJORN Toilet Trainer - White/Red'),\n",
       " (3.0148019337854342, 'BABYBJORN Toilet Trainer - White/Red'),\n",
       " (7.2229809967925327, 'BABYBJORN Toilet Trainer - White/Red'),\n",
       " (6.3514957023831515, 'BABYBJORN Toilet Trainer - White/Red'),\n",
       " (9.8579832458792627, 'BABYBJORN Toilet Trainer - White/Red'),\n",
       " (4.8935167323701538, 'BABYBJORN Toilet Trainer - White/Red'),\n",
       " (6.9186319196355255, 'BABYBJORN Toilet Trainer - White/Red'),\n",
       " (9.6360010991554841, 'BABYBJORN Toilet Trainer - White/Red'),\n",
       " (4.5491752362240874, 'BABYBJORN Toilet Trainer - White/Red'),\n",
       " (6.9898224499639543, 'BABYBJORN Toilet Trainer - White/Red'),\n",
       " (6.1501076992116257, 'BABYBJORN Toilet Trainer - White/Red'),\n",
       " (7.9533844454042955, 'BABYBJORN Toilet Trainer - White/Red'),\n",
       " (6.268778355982346, 'BABYBJORN Toilet Trainer - White/Red'),\n",
       " (4.3831443074077949, 'BABYBJORN Toilet Trainer - White/Red'),\n",
       " (4.3997026684915488, 'BABYBJORN Toilet Trainer - White/Red'),\n",
       " (4.6314168561481193, 'BABYBJORN Toilet Trainer - White/Red'),\n",
       " (3.5996800899315957, 'BABYBJORN Toilet Trainer - White/Red'),\n",
       " (0.79546098781321439, 'BABYBJORN Toilet Trainer - White/Red'),\n",
       " (6.6919919841669619, 'BABYBJORN Toilet Trainer - White/Red'),\n",
       " (10.008488603354177, 'Evenflo Expansion Swing Gate'),\n",
       " (5.497849397156819, 'Evenflo Expansion Swing Gate'),\n",
       " (-7.0549785128776383,\n",
       "  'Natural Comfort Double Electric or Battery Breast Pump'),\n",
       " (-7.0157321868097666,\n",
       "  'Natural Comfort Double Electric or Battery Breast Pump'),\n",
       " (1.3530229024341396,\n",
       "  'Natural Comfort Double Electric or Battery Breast Pump'),\n",
       " (-3.1675352441378379,\n",
       "  'Natural Comfort Double Electric or Battery Breast Pump'),\n",
       " (1.0816741322279282, 'Evenflo Locking Clip'),\n",
       " (6.8872505372613864, 'Evenflo Locking Clip'),\n",
       " (6.2997422394983955, 'Prince Lionheart Stroller Connectors'),\n",
       " (-5.3492784820995425, 'Prince Lionheart Stroller Connectors'),\n",
       " (-0.97667137561693962, 'Prince Lionheart Stroller Connectors'),\n",
       " (2.6376082211725143, 'The First Years - Crib CD Player'),\n",
       " (3.9132708188093615, 'The First Years - Crib CD Player'),\n",
       " (-15.219955863249762, 'The First Years - Crib CD Player'),\n",
       " (7.8089758182691469, 'The First Years - Crib CD Player'),\n",
       " (4.8989867267471841, 'The First Years - Crib CD Player'),\n",
       " (6.2907616355663931, 'Terry Contoured Changing Pad Cover - Ecru'),\n",
       " (7.7559157992083554, 'BABYBJORN Little Potty - Red'),\n",
       " (9.343766942449049, 'BABYBJORN Little Potty - Red'),\n",
       " (7.0126779807502633, 'BABYBJORN Little Potty - Red'),\n",
       " (9.0025112381432635, 'BABYBJORN Little Potty - Red'),\n",
       " (-2.9860043151565456, 'BABYBJORN Little Potty - Red'),\n",
       " (-5.9220841499310692, 'BABYBJORN Little Potty - Red'),\n",
       " (9.2793818966868482, 'BABYBJORN Little Potty - Red'),\n",
       " (7.5999185870252814, 'BABYBJORN Little Potty - Red'),\n",
       " (4.9006962391997808, 'BABYBJORN Little Potty - Red'),\n",
       " (4.3977329259881879, 'Safety 1st Table Edge Bumper - Small'),\n",
       " (-2.4759792833797851,\n",
       "  'Kid-ding Quilted Waterproof Multi-Use Pad - 27&quot; x 36&quot;'),\n",
       " (2.7365399534103827, 'Quilted Travel Changing Pad'),\n",
       " (-2.2134557672732704, 'New Gerber Electric Baby Bottle Warmer Complete'),\n",
       " (-5.3645462104984736, 'New Gerber Electric Baby Bottle Warmer Complete'),\n",
       " (2.07956598131566, 'Double Headrest for Newborns &amp; Infants'),\n",
       " (8.3578957399143086,\n",
       "  'Safeway Wall Mount Top Of Stairs Gate White 24.75&quot; - 43.5&quot; X 30.5&quot;'),\n",
       " (0.81794796816491433,\n",
       "  'Safeway Wall Mount Top Of Stairs Gate White 24.75&quot; - 43.5&quot; X 30.5&quot;'),\n",
       " (1.3945129792455659, 'Baby Safe Disposable Feeder (Pack of One)'),\n",
       " (11.419234632492181, 'Baby Safe Disposable Feeder (Pack of One)'),\n",
       " (1.3618898463865732, 'Baby Safe Disposable Feeder (Pack of One)'),\n",
       " (4.1620128577680209, 'Baby Safe Disposable Feeder (Pack of One)'),\n",
       " (0.60804286288230536, 'Baby Safe Disposable Feeder (Pack of One)'),\n",
       " (4.4550592486956377, 'Baby Safe Disposable Feeder (Pack of One)'),\n",
       " (5.5860615539282827, 'Baby Safe Disposable Feeder (Pack of One)'),\n",
       " (0.99720387248735309, 'Medela CSF Bags - Economy 50 Pack'),\n",
       " (1.5876036322669631, 'Medela CSF Bags - Economy 50 Pack'),\n",
       " (9.0027814312787928, 'Medela CSF Bags - Economy 50 Pack'),\n",
       " (10.756110280822629, 'Medela Nursing Stool'),\n",
       " (4.4731453982354488, 'Medela Nursing Stool'),\n",
       " (8.6251306407135999, 'Medela Nursing Stool'),\n",
       " (5.0527648507029506, 'BABYBJORN Potty Chair - Red'),\n",
       " (5.3257666427059513, 'BABYBJORN Potty Chair - Red'),\n",
       " (1.8215580813042238, 'BABYBJORN Potty Chair - Red'),\n",
       " (0.36738508831568351, 'BABYBJORN Potty Chair - Red'),\n",
       " (4.7616770969740765, 'BABYBJORN Potty Chair - Red'),\n",
       " (2.9815565771982309, 'BABYBJORN Potty Chair - Red'),\n",
       " (6.6160435929621073, 'BABYBJORN Potty Chair - Red'),\n",
       " (6.1958927109366764, 'BABYBJORN Potty Chair - Red'),\n",
       " (3.1823698166932841, 'BABYBJORN Potty Chair - Red'),\n",
       " (-3.893224826512319, 'BABYBJORN Potty Chair - Red'),\n",
       " (2.7490955289268286, 'BABYBJORN Potty Chair - Red'),\n",
       " (7.5605125855544699, 'BABYBJORN Potty Chair - Red'),\n",
       " (4.6580192210307558, 'BABYBJORN Potty Chair - Red'),\n",
       " (3.6871697190884998, 'BABYBJORN Potty Chair - Red'),\n",
       " (12.801447525668173, 'BABYBJORN Potty Chair - Red'),\n",
       " (7.9655420599123987, 'BABYBJORN Potty Chair - Red'),\n",
       " (2.9338397812073915, 'BABYBJORN Potty Chair - Red'),\n",
       " (12.506743107576135, 'BABYBJORN Potty Chair - Red'),\n",
       " (7.6049359489879533, 'BABYBJORN Potty Chair - Red'),\n",
       " (-6.1095232568886404, 'BABYBJORN Potty Chair - Red'),\n",
       " (10.906832897664524, 'BABYBJORN Potty Chair - Red'),\n",
       " (5.2487720373270781, 'BABYBJORN Potty Chair - Red'),\n",
       " (7.2024666073832231, 'BABYBJORN Potty Chair - Red'),\n",
       " (13.226818764316663, 'BABYBJORN Potty Chair - Red'),\n",
       " (7.2669639018545409, 'BABYBJORN Potty Chair - Red'),\n",
       " (4.6779950305349507, 'BABYBJORN Potty Chair - Red'),\n",
       " (4.3486055064435334, 'BABYBJORN Potty Chair - Red'),\n",
       " (10.374538235049489, 'BABYBJORN Potty Chair - Red'),\n",
       " (1.9462098437791733, 'BABYBJORN Potty Chair - Red'),\n",
       " (13.54240283523974, 'BABYBJORN Potty Chair - Red'),\n",
       " (12.557668999855323, 'BABYBJORN Potty Chair - Red'),\n",
       " (1.2225681222445977, 'BABYBJORN Potty Chair - Red'),\n",
       " (3.9416143801320098, 'BABYBJORN Potty Chair - Red'),\n",
       " (9.1432121967962647, 'BABYBJORN Potty Chair - Red'),\n",
       " (7.2099295025886958, 'BABYBJORN Potty Chair - Red'),\n",
       " (7.8762883233047365, 'BABYBJORN Potty Chair - Red'),\n",
       " (3.1130144237948993, 'BABYBJORN Potty Chair - Red'),\n",
       " (4.2228598152901817, 'BABYBJORN Potty Chair - Red'),\n",
       " (5.1759419632404882, 'BABYBJORN Potty Chair - Red'),\n",
       " (3.5733053922845404, 'BABYBJORN Potty Chair - Red'),\n",
       " (3.6763473271611646, 'BABYBJORN Potty Chair - Red'),\n",
       " (31.415869830631596, 'BABYBJORN Potty Chair - Red'),\n",
       " (13.067830800049871, 'BABYBJORN Potty Chair - Red'),\n",
       " (4.5721420129281611, 'BABYBJORN Potty Chair - Red'),\n",
       " (1.3638528063257445, 'BABYBJORN Potty Chair - Red'),\n",
       " (4.880831146759915, 'BABYBJORN Potty Chair - Red'),\n",
       " (3.7358460881183477, 'BABYBJORN Potty Chair - Red'),\n",
       " (4.558930100519925, 'BABYBJORN Potty Chair - Red'),\n",
       " (-0.18740864124973711,\n",
       "  'Gerber 12-Pack Flatfold Birdseye Cloth Diapers - White'),\n",
       " (-10.235526903062391,\n",
       "  'Gerber 12-Pack Flatfold Birdseye Cloth Diapers - White'),\n",
       " (1.1899102706201026,\n",
       "  'Gerber 12-Pack Flatfold Birdseye Cloth Diapers - White'),\n",
       " (0.98541959037356519,\n",
       "  'Gerber 12-Pack Flatfold Birdseye Cloth Diapers - White'),\n",
       " (-5.5983378708408571, \"Graco Pack 'n Play Sheet Tea\"),\n",
       " (9.0665432424782306, \"Graco Pack 'n Play Sheet Tea\"),\n",
       " (0.52048074520766485, \"Graco Pack 'n Play Sheet Tea\"),\n",
       " (-4.1678576824822198, \"Graco Pack 'n Play Sheet Tea\"),\n",
       " (-0.64070325551668472, 'Kel-Gar Snug Tub - Elephant'),\n",
       " (5.6042615586372744, 'Kel-Gar Snug Tub - Elephant'),\n",
       " (7.0226086583443346, 'Kel-Gar Snug Tub - Elephant'),\n",
       " (3.514108880517699, 'Kel-Gar Snug Tub - Elephant'),\n",
       " (6.4143504409110239, 'Kel-Gar Snug Tub - Elephant'),\n",
       " (9.5942927738721959, 'Kel-Gar Snug Tub - Elephant'),\n",
       " (12.722306818094975, 'Kel-Gar Snug Tub - Elephant'),\n",
       " (8.0066083287666281, 'Kel-Gar Snug Tub - Elephant'),\n",
       " (4.8933196111583204, 'Kel-Gar Snug Tub - Elephant'),\n",
       " (7.6643164151534799, 'Kel-Gar Snug Tub - Elephant'),\n",
       " (6.7833075333214614, 'Kel-Gar Snug Tub - Elephant'),\n",
       " (3.7619192315232537, 'Medela 100% Cotton Washable Nursing Bra Pads'),\n",
       " (-1.6209037500418868, 'Medela 100% Cotton Washable Nursing Bra Pads'),\n",
       " (2.2582623756406344, 'Medela 100% Cotton Washable Nursing Bra Pads'),\n",
       " (6.5526981716010457, 'Medela 100% Cotton Washable Nursing Bra Pads'),\n",
       " (0.47404329085491681, 'PureLan 100'),\n",
       " (2.3977588864127766, 'Philips AVENT Breast Milk Storage'),\n",
       " (5.3842574733515463, 'Sunshine Kids Mighty Tite Seat Belt Tightener'),\n",
       " (3.3871877964440342, 'Sunshine Kids Mighty Tite Seat Belt Tightener'),\n",
       " (-3.896752386101852, 'Sunshine Kids Mighty Tite Seat Belt Tightener'),\n",
       " (-1.0988859813343212, 'Sunshine Kids Mighty Tite Seat Belt Tightener'),\n",
       " (2.7496883022064473, 'Sunshine Kids Mighty Tite Seat Belt Tightener'),\n",
       " (-7.6665708176608414, 'Sunshine Kids Mighty Tite Seat Belt Tightener'),\n",
       " (1.54721810842623,\n",
       "  'Neat Solutions Sesame Street Table Topper Disposable Stick-in-Place Placemats, 20-Count'),\n",
       " (4.5388464115439895,\n",
       "  'Playtex Drop-Ins Pre-Sterilized Soft Bottle Liners, 8-10 oz. 100 ea'),\n",
       " (-1.4087663723575659,\n",
       "  'Playtex Drop-Ins Pre-Sterilized Soft Bottle Liners, 8-10 oz. 100 ea'),\n",
       " (5.8498459028112562,\n",
       "  'Playtex Drop-Ins Pre-Sterilized Soft Bottle Liners, 8-10 oz. 100 ea'),\n",
       " (2.7602264922232629,\n",
       "  'Playtex Drop-Ins Pre-Sterilized Soft Bottle Liners, 8-10 oz. 100 ea'),\n",
       " (2.4188670278485471,\n",
       "  'Playtex Drop-Ins Pre-Sterilized Soft Bottle Liners, 8-10 oz. 100 ea'),\n",
       " (7.4548831811505973,\n",
       "  'Playtex Drop-Ins Pre-Sterilized Soft Bottle Liners, 8-10 oz. 100 ea'),\n",
       " (3.5120664049613826,\n",
       "  'Playtex Drop-Ins Pre-Sterilized Soft Bottle Liners, 8-10 oz. 100 ea'),\n",
       " (-11.265017592136727,\n",
       "  'Playtex Drop-Ins Pre-Sterilized Soft Bottle Liners, 8-10 oz. 100 ea'),\n",
       " (6.2817720581431651,\n",
       "  'Playtex Drop-Ins Pre-Sterilized Soft Bottle Liners, 8-10 oz. 100 ea'),\n",
       " (1.7104564444498838,\n",
       "  'Playtex Drop-Ins Pre-Sterilized Soft Bottle Liners, 8-10 oz. 100 ea'),\n",
       " (2.3353290518523693,\n",
       "  'Playtex Drop-Ins Pre-Sterilized Soft Bottle Liners, 8-10 oz. 100 ea'),\n",
       " (6.7911719663905679,\n",
       "  'Playtex Drop-Ins Pre-Sterilized Soft Bottle Liners, 8-10 oz. 100 ea'),\n",
       " (4.1694436751556738, 'Medela Breastmilk Storage and Feeding Set'),\n",
       " (9.1058239962349301, 'Medela Breastmilk Storage and Feeding Set'),\n",
       " (1.9295386151314025, 'DEX Products Pregnancy Pillow PP-01'),\n",
       " (-1.6088674703915282, 'DEX Products Pregnancy Pillow PP-01'),\n",
       " (4.8805855203730006, 'DEX Products Pregnancy Pillow PP-01'),\n",
       " (-0.30594531798667801, 'Prince Lionheart Crib Rail Protector'),\n",
       " (4.9266981750685472,\n",
       "  '100% Cotton Terry Contour Changing Pad Cover - Lavender'),\n",
       " (-0.19654269427331283,\n",
       "  '100% Cotton Terry Contour Changing Pad Cover - Lavender'),\n",
       " (-1.4374623096536581,\n",
       "  \"Delta Children's Products Jenny Lind Changing Table in White\"),\n",
       " (0.67651005480512594, \"Mommy's Helper Power Strip Safety Cover\"),\n",
       " (2.6124793088628522, \"Mommy's Helper Power Strip Safety Cover\"),\n",
       " (-4.7148773272451896, \"Mommy's Helper Power Strip Safety Cover\"),\n",
       " (4.4179045383629685, 'Philips Avent Express Microwave Sterilizer'),\n",
       " (7.6266129874019448, 'Philips Avent Express Microwave Sterilizer'),\n",
       " (2.3689295787011915, 'Philips Avent Express Microwave Sterilizer'),\n",
       " (4.0630343751824922, 'Philips Avent Express Microwave Sterilizer'),\n",
       " (11.716551281863905, 'Philips Avent Express Microwave Sterilizer'),\n",
       " (6.5458479989526541, 'Philips Avent Express Microwave Sterilizer'),\n",
       " (10.846068677541222, 'Philips Avent Express Microwave Sterilizer'),\n",
       " (3.3274472064135754, 'Philips Avent Express Microwave Sterilizer'),\n",
       " (3.1630355830916761, 'Philips Avent Express Microwave Sterilizer'),\n",
       " (5.1522985420326899, 'Philips Avent Express Microwave Sterilizer'),\n",
       " (2.4331412287138319, 'Philips Avent Express Microwave Sterilizer'),\n",
       " (-3.5735944723255733,\n",
       "  'Mam Mini Ulti Gem Size 1 Latex Value Pack, Multiple Colors'),\n",
       " (6.5667306449858023,\n",
       "  'Mam Mini Ulti Gem Size 1 Latex Value Pack, Multiple Colors'),\n",
       " (9.0526103372829763, 'Philips Avent Electric Steam Sterilizer'),\n",
       " (9.4476796228856141, 'Philips Avent Electric Steam Sterilizer'),\n",
       " (4.7273686671928541, 'Philips Avent Electric Steam Sterilizer'),\n",
       " (12.03269912787623, 'Philips Avent Electric Steam Sterilizer'),\n",
       " (4.5346843538517678, 'Philips Avent Electric Steam Sterilizer'),\n",
       " (4.9857445855372253, 'Philips Avent Express Baby Food and Bottle Warmer'),\n",
       " (7.4575448197005052, 'Philips Avent Express Baby Food and Bottle Warmer'),\n",
       " (-0.60701188964458686, 'Philips Avent Express Baby Food and Bottle Warmer'),\n",
       " (-2.3631997360124464, 'Philips Avent Express Baby Food and Bottle Warmer'),\n",
       " (5.059299636063634, 'Prince Lionheart Diaper Depot Clear'),\n",
       " (2.3763441589255878, 'Prince Lionheart Diaper Depot Clear'),\n",
       " (3.4892196302189289, 'Prince Lionheart Diaper Depot Clear'),\n",
       " (8.296732321320663, 'Prince Lionheart Diaper Depot Clear'),\n",
       " (1.0991986936346247, 'Prince Lionheart Diaper Depot Clear'),\n",
       " (8.2132451067184071, 'Prince Lionheart Diaper Depot Clear'),\n",
       " (10.955742963699501, 'PRIMO EuroBath, Pearl White'),\n",
       " (5.3441324632249962, 'PRIMO EuroBath, Pearl White'),\n",
       " (6.8619148750266259, 'PRIMO EuroBath, Pearl White'),\n",
       " (4.412646469121384, 'PRIMO EuroBath, Pearl White'),\n",
       " (0.055378062043184295, 'PRIMO EuroBath, Pearl White'),\n",
       " (11.630853288720246, 'PRIMO EuroBath, Pearl White'),\n",
       " (6.77101136891031, 'PRIMO EuroBath, Pearl White'),\n",
       " (5.0195269718993352, 'PRIMO EuroBath, Pearl White'),\n",
       " (2.0997048048552953, 'PRIMO EuroBath, Pearl White'),\n",
       " (2.5988527642283996, 'PRIMO EuroBath, Pearl White'),\n",
       " (13.678033466289163, 'PRIMO EuroBath, Pearl White'),\n",
       " (9.2028976711512573, 'PRIMO EuroBath, Pearl White'),\n",
       " (8.9324066677461946, 'PRIMO EuroBath, Pearl White'),\n",
       " (3.7201078193302441, 'PRIMO EuroBath, Pearl White'),\n",
       " (15.444919945264987, 'PRIMO EuroBath, Pearl White'),\n",
       " (16.542784977803908, 'PRIMO EuroBath, Pearl White'),\n",
       " (7.7673211180238964, 'PRIMO EuroBath, Pearl White'),\n",
       " (1.5245028022347284, 'PRIMO EuroBath, Pearl White'),\n",
       " (4.2278079707897245, 'PRIMO EuroBath, Pearl White'),\n",
       " (1.9715807030888257, 'PRIMO EuroBath, Pearl White'),\n",
       " (10.062394436276437, 'PRIMO EuroBath, Pearl White'),\n",
       " (2.920680361276164, 'PRIMO EuroBath, Pearl White'),\n",
       " (6.7275823437251736, 'PRIMO EuroBath, Pearl White'),\n",
       " (3.4304164243476629, 'PRIMO EuroBath, Pearl White'),\n",
       " (8.8443704277993973, 'PRIMO EuroBath, Pearl White'),\n",
       " (4.1639416675705823, 'PRIMO EuroBath, Pearl White'),\n",
       " (9.4711731577218838, 'PRIMO EuroBath, Pearl White'),\n",
       " (0.99866850305290922, 'PRIMO EuroBath, Pearl White'),\n",
       " (9.029196660280963, 'PRIMO EuroBath, Pearl White'),\n",
       " (6.2095351639502292, 'PRIMO EuroBath, Pearl White'),\n",
       " (9.0499655879417187, 'PRIMO EuroBath, Pearl White'),\n",
       " (9.2014722803095435, 'PRIMO EuroBath, Pearl White'),\n",
       " (13.635774789959267, 'PRIMO EuroBath, Pearl White'),\n",
       " (3.8861708788866034, 'PRIMO EuroBath, Pearl White'),\n",
       " (7.6571812583304943, 'PRIMO EuroBath, Pearl White'),\n",
       " (4.2906140321882038, 'PRIMO EuroBath, Pearl White'),\n",
       " (11.289832693485552, 'PRIMO EuroBath, Pearl White'),\n",
       " (3.7024877562945546, 'Playtex Diaper Genie - First Refill Included'),\n",
       " (7.401663079414539, 'Playtex Diaper Genie - First Refill Included'),\n",
       " (-8.8476112610449409, 'Playtex Diaper Genie - First Refill Included'),\n",
       " (-2.1670011035204357, 'Playtex Diaper Genie - First Refill Included'),\n",
       " (-4.487406584175698, 'Playtex Diaper Genie - First Refill Included'),\n",
       " (-5.7752120611325877, 'Playtex Diaper Genie - First Refill Included'),\n",
       " (8.5348788383486927, 'Playtex Diaper Genie - First Refill Included'),\n",
       " (7.6402097321601774, 'Playtex Diaper Genie - First Refill Included'),\n",
       " (17.421417376529977, 'Playtex Diaper Genie - First Refill Included'),\n",
       " (7.7286723345314945, 'Playtex Diaper Genie - First Refill Included'),\n",
       " (-1.9538713310418487, 'Playtex Diaper Genie - First Refill Included'),\n",
       " (2.4341147949730551, 'Playtex Diaper Genie - First Refill Included'),\n",
       " (4.2790992954111733, 'Playtex Diaper Genie - First Refill Included'),\n",
       " (1.9656546753244857, 'Playtex Diaper Genie - First Refill Included'),\n",
       " (9.3024801974159743, 'Playtex Diaper Genie - First Refill Included'),\n",
       " (4.5062564575838531, 'Playtex Diaper Genie - First Refill Included'),\n",
       " (17.428836882531378, 'Playtex Diaper Genie - First Refill Included'),\n",
       " (2.9799689453655063, 'Playtex Diaper Genie - First Refill Included'),\n",
       " (3.0213475122423477, 'Playtex Diaper Genie - First Refill Included'),\n",
       " (1.3942229581313434, 'Playtex Diaper Genie - First Refill Included'),\n",
       " (-7.4592162498282617, 'Playtex Diaper Genie - First Refill Included'),\n",
       " (7.186830789920478, 'Playtex Diaper Genie - First Refill Included'),\n",
       " (7.5692596031394794, 'Playtex Diaper Genie - First Refill Included'),\n",
       " (9.7567107074213251, 'Safety 1st Tot-Lok Four Lock Assembly'),\n",
       " (12.071616569021492, 'Safety 1st Tot-Lok Four Lock Assembly'),\n",
       " (-3.5172791438952471, 'Safety 1st Crystal Clear Baby Monitor, White'),\n",
       " (-3.0873922429689049, 'Safety 1st Crystal Clear Baby Monitor, White'),\n",
       " (6.2856254343936619, 'Safety 1st Crystal Clear Baby Monitor, White'),\n",
       " (2.6952487532137397, 'Safety 1st Crystal Clear Baby Monitor, White'),\n",
       " (-1.6831202018183367, 'Safety 1st Crystal Clear Baby Monitor, White'),\n",
       " (9.2052224891233649, 'Prince Lionheart Fireplace Guard with Two Corners'),\n",
       " (2.6541608836235779, 'Prince Lionheart Fireplace Guard with Two Corners'),\n",
       " (1.2951992931076037, 'Terry Contoured Changing Pad Cover - White'),\n",
       " (-6.7102334420254612, 'Crisp &amp; Clear Plus Rechargeable 900MHz Monitor'),\n",
       " (-1.9915997493393049, 'Crisp &amp; Clear Plus Rechargeable 900MHz Monitor'),\n",
       " (6.0000993936568792, 'Safety 1st Railnet'),\n",
       " (-2.7439881122981484, 'Evenflo 3 Pack Classic Glass Bottle, 4-Ounce'),\n",
       " (6.2176418828090956, 'Evenflo 3 Pack Classic Glass Bottle, 4-Ounce'),\n",
       " (8.8739685418655441, 'Evenflo 3 Pack Classic Glass Bottle, 4-Ounce'),\n",
       " (-2.6676249228349933, 'Evenflo 3 Pack Classic Glass Bottle, 4-Ounce'),\n",
       " (-1.1064395966542551, 'Evenflo 3 Pack Classic Glass Bottle, 4-Ounce'),\n",
       " (4.373457870674903,\n",
       "  'Sassy 2 Pack Baby Less Mess Toddler Spoon, Colors May Vary'),\n",
       " (0.53202745156304621,\n",
       "  'Sassy 2 Pack Baby Less Mess Toddler Spoon, Colors May Vary'),\n",
       " (-0.72305158319381957,\n",
       "  'Philips AVENT BPA Free Classic Newborn Flow Nipple, 2-Pack'),\n",
       " (3.2011881917335012,\n",
       "  'Philips AVENT BPA Free Classic Newborn Flow Nipple, 2-Pack'),\n",
       " (1.1761507897545016,\n",
       "  'Philips AVENT BPA Free Classic Newborn Flow Nipple, 2-Pack'),\n",
       " (1.6287995327089826,\n",
       "  'Philips AVENT BPA Free Classic Newborn Flow Nipple, 2-Pack'),\n",
       " (5.0939220406311696,\n",
       "  'Philips AVENT BPA Free Classic Newborn Flow Nipple, 2-Pack'),\n",
       " (1.5710798776051418,\n",
       "  'Philips AVENT BPA Free Classic Newborn Flow Nipple, 2-Pack'),\n",
       " (6.5147225363565529,\n",
       "  'Philips AVENT BPA Free Classic Newborn Flow Nipple, 2-Pack'),\n",
       " (10.480247190251625, 'Furniture Wall Straps (Set of 2)'),\n",
       " (5.2998048115336669, 'Furniture Wall Straps (Set of 2)'),\n",
       " (6.6701791335101026, 'Furniture Wall Straps (Set of 2)'),\n",
       " (5.7835128935843647, 'KidCo Center Gateway - White'),\n",
       " (4.7023236116686746, 'KidCo Center Gateway - White'),\n",
       " (3.9149620074705656, 'KidCo Center Gateway - White'),\n",
       " (2.481288417917761, 'KidCo Center Gateway - White'),\n",
       " (-4.8608571168870762, 'KidCo Center Gateway - White'),\n",
       " (-1.8457479810848592, 'KidCo Center Gateway - White'),\n",
       " (7.8800944931025718, 'The First Years Hands Free Gate'),\n",
       " (9.10220579405172, 'The First Years Hands Free Gate'),\n",
       " (-0.44599894799670703, 'The First Years Hands Free Gate'),\n",
       " (8.2978065618621688, 'The First Years Hands Free Gate'),\n",
       " (11.137141619769196, 'The First Years Hands Free Gate'),\n",
       " (5.2555688254714239, 'The First Years Hands Free Gate'),\n",
       " (-6.8095678159294559, 'The First Years Hands Free Gate'),\n",
       " (3.6869374804567165, 'The First Years Hands Free Gate'),\n",
       " (7.5241346446146622, 'The First Years Hands Free Gate'),\n",
       " (3.0406966444287242, 'The First Years Hands Free Gate'),\n",
       " (-1.2401660426822423, 'The First Years Hands Free Gate'),\n",
       " (4.6832884342184542, 'The First Years Hands Free Gate'),\n",
       " (17.897043204100733, 'The First Years Hands Free Gate'),\n",
       " (8.560584856929351, 'The First Years Hands Free Gate'),\n",
       " (5.0492138344567499, 'The First Years Hands Free Gate'),\n",
       " (6.2249022740414475, 'The First Years Hands Free Gate'),\n",
       " (7.161118585232578, 'The First Years Hands Free Gate'),\n",
       " (8.4194453705124026, 'The First Years Hands Free Gate'),\n",
       " (8.4591480847473122, 'The First Years Hands Free Gate'),\n",
       " (17.877822202584621, 'The First Years Hands Free Gate'),\n",
       " (8.9962864261730644, 'The First Years Hands Free Gate'),\n",
       " (4.6317999049282799, 'The First Years Hands Free Gate'),\n",
       " (3.9518045500076227, 'The First Years Hands Free Gate'),\n",
       " (13.73721056212646, 'The First Years Hands Free Gate'),\n",
       " (7.4240518875317676, 'The First Years Hands Free Gate'),\n",
       " (9.3109747252647317, 'The First Years Hands Free Gate'),\n",
       " (10.370881781062582, 'The First Years Hands Free Gate'),\n",
       " (3.8628911565892592, 'The First Years Hands Free Gate'),\n",
       " (-1.8708019406436309, 'The First Years Hands Free Gate'),\n",
       " (2.2719947977325812, 'The First Years Hands Free Gate'),\n",
       " (3.0738824427318745, 'The First Years Hands Free Gate'),\n",
       " (8.7443073157645905, 'The First Years Hands Free Gate'),\n",
       " (1.0162449778597491, 'The First Years Hands Free Gate'),\n",
       " (4.776741005104002, 'The First Years Hands Free Gate'),\n",
       " (6.4364253485689282, 'The First Years Hands Free Gate'),\n",
       " (6.4727770137366241, 'The First Years Hands Free Gate'),\n",
       " (1.2652185039172228, 'The First Years Hands Free Gate'),\n",
       " (6.1095807922064385, 'The First Years Hands Free Gate'),\n",
       " (1.7623616102444322, 'The First Years Hands Free Gate'),\n",
       " (6.2157930486327384, 'The First Years Hands Free Gate'),\n",
       " (7.6859423381040397, 'The First Years Hands Free Gate'),\n",
       " (-5.2086141229557281, 'The First Years Hands Free Gate'),\n",
       " (7.2191742881795786, 'The First Years Hands Free Gate'),\n",
       " (4.3044535251192544, 'PlayDen Free Standing Gate'),\n",
       " (10.961494039217657, 'Baby Bjorn Baby Carrier - Navy'),\n",
       " (12.871856962432723, 'Baby Bjorn Baby Carrier - Navy'),\n",
       " (20.782311530004129, 'Baby Bjorn Baby Carrier - Navy'),\n",
       " (5.8753149788452141, 'Baby Bjorn Baby Carrier - Navy'),\n",
       " (-5.0626221955209108, 'Baby Bjorn Baby Carrier - Navy'),\n",
       " (9.8799058199649181, 'Philips AVENT Comfort Breast Shell Set, 2-Pack'),\n",
       " (4.4390722797991007, 'Philips AVENT Comfort Breast Shell Set, 2-Pack'),\n",
       " (1.398024495131063, 'Philips AVENT Comfort Breast Shell Set, 2-Pack'),\n",
       " (5.7862335374104008, 'Philips AVENT Comfort Breast Shell Set, 2-Pack'),\n",
       " (3.7395882890687693, 'Philips AVENT Comfort Breast Shell Set, 2-Pack'),\n",
       " (1.3980377134874062, 'Philips AVENT Comfort Breast Shell Set, 2-Pack'),\n",
       " (-0.86670469599378985, 'Philips AVENT Comfort Breast Shell Set, 2-Pack'),\n",
       " (3.6051073685851334, 'Philips AVENT Comfort Breast Shell Set, 2-Pack'),\n",
       " (6.9221720759974845, 'Philips AVENT Comfort Breast Shell Set, 2-Pack'),\n",
       " (-1.8005857307241315, 'Philips AVENT Comfort Breast Shell Set, 2-Pack'),\n",
       " (9.5633465399009676, 'Philips AVENT Comfort Breast Shell Set, 2-Pack'),\n",
       " (3.5059034557522155, 'Philips AVENT Comfort Breast Shell Set, 2-Pack'),\n",
       " (3.8316795202841769, 'Philips AVENT Comfort Breast Shell Set, 2-Pack'),\n",
       " (2.5313863530119711, 'Philips AVENT Comfort Breast Shell Set, 2-Pack'),\n",
       " (6.2124909777452979, 'BABYBJ&Ouml;RN Navy Carrier'),\n",
       " (5.7370211581046684, 'BABYBJ&Ouml;RN Navy Carrier'),\n",
       " (7.2385110009915667, 'BABYBJ&Ouml;RN Navy Carrier'),\n",
       " (3.9343885062859423, 'BABYBJ&Ouml;RN Navy Carrier'),\n",
       " (8.0799190794119777, 'BABYBJ&Ouml;RN Navy Carrier'),\n",
       " (7.1588690298755351, 'BABYBJ&Ouml;RN Navy Carrier'),\n",
       " (2.7430905386766442, 'BABYBJ&Ouml;RN Navy Carrier'),\n",
       " (7.4853484418113236, 'BABYBJ&Ouml;RN Navy Carrier'),\n",
       " (0.72404119349782281, 'The First Years Pooh Pacifier Attacher'),\n",
       " (4.5230047791913268, 'SoftShells Breast Shell Soothers - Sore Nipples'),\n",
       " (7.6410220223982313, 'SoftShells Breast Shell Soothers - Sore Nipples'),\n",
       " (4.7692112346392594, 'SoftShells Breast Shell Soothers - Sore Nipples'),\n",
       " (6.5126540598929656, 'SoftShells Breast Shell Soothers - Sore Nipples'),\n",
       " (5.4112633905486875, 'SoftShells Breast Shell Soothers - Sore Nipples'),\n",
       " (7.5395899351847255, 'SoftShells Breast Shell Soothers - Sore Nipples'),\n",
       " (3.4279922061411936, 'SoftShells Breast Shell Soothers - Sore Nipples'),\n",
       " (8.5742455797942405, 'Evenflo Home D&eacute;cor Wood Gate, Natural Oak'),\n",
       " (2.7183253179353972, 'Evenflo Home D&eacute;cor Wood Gate, Natural Oak'),\n",
       " (8.6224249934445698, 'Evenflo Home D&eacute;cor Wood Gate, Natural Oak'),\n",
       " (-5.8099603375890787, 'Evenflo Home D&eacute;cor Wood Gate, Natural Oak'),\n",
       " (1.5988378056815828, 'Evenflo Home D&eacute;cor Wood Gate, Natural Oak'),\n",
       " (13.026448590966453, \"Baby B'Air Toddler Flight Vest - Red\"),\n",
       " (-1.9650246229925978, \"Baby B'Air Toddler Flight Vest - Red\"),\n",
       " (3.7925669195473333, 'Medela 12 Volt Vehicle Lighter Adaptor'),\n",
       " (1.91948145338438, 'Medela 12 Volt Vehicle Lighter Adaptor'),\n",
       " (5.4205530240576145, 'Medela 12 Volt Vehicle Lighter Adaptor'),\n",
       " (6.6093648645713037, 'Medela 12 Volt Vehicle Lighter Adaptor'),\n",
       " (3.2869041341939744, 'Medela 12 Volt Vehicle Lighter Adaptor'),\n",
       " (4.4647716555502655, 'Medela 12 Volt Vehicle Lighter Adaptor'),\n",
       " (1.7749732606770965, 'Medela 12 Volt Vehicle Lighter Adaptor'),\n",
       " (5.6237977363400891, 'Avent 7 oz Magic Cup 2 - pack'),\n",
       " (4.0419860422705449, 'Bugs On Board'),\n",
       " (2.7141272667172363, 'Bugs On Board'),\n",
       " (-0.99828788316057282, 'BABYBJORN Safe Step - Blue'),\n",
       " (6.0372369469249119, 'BABYBJORN Safe Step - Blue'),\n",
       " (2.5944305462937463, 'BABYBJORN Safe Step - Blue'),\n",
       " (7.643195797605796, 'BABYBJORN Safe Step - Blue'),\n",
       " (2.6285547010064017, 'BABYBJORN Safe Step - Blue'),\n",
       " (6.2961635032569854, 'BABYBJORN Safe Step - Blue'),\n",
       " (5.7220015045133801, 'BABYBJORN Safe Step - Blue'),\n",
       " (3.6395110512926374, 'BABYBJORN Safe Step - Blue'),\n",
       " (3.4914973980589803, 'BABYBJORN Safe Step - Blue'),\n",
       " (6.5257481722576811, 'BABYBJORN Safe Step - Blue'),\n",
       " (2.9794586197375605, 'BABYBJORN Safe Step - Blue'),\n",
       " (8.9016659185138209, 'BABYBJORN Safe Step - Blue'),\n",
       " (6.2793240334104734, 'BABYBJORN Safe Step - Blue'),\n",
       " (4.7089669234619542, 'BABYBJORN Safe Step - Blue'),\n",
       " (8.9458311694596659, 'Medela SoftShells for Inverted Nipples'),\n",
       " (3.42177616863321, 'Medela SoftShells for Inverted Nipples'),\n",
       " (1.8208042748507629, 'Fisher-Price Crawl-Along Drum Roll'),\n",
       " (4.8058727307302682,\n",
       "  'Philips AVENT Soft Spout Magic Cup, 9 Ounce, Twin, Color May Vary'),\n",
       " (2.5032728569066709, 'Boppy Nursing Pillow -Colors Vary'),\n",
       " (7.4903135834620374, 'BABYBJORN Original Carrier - City Black'),\n",
       " (7.0739912732429726, 'BABYBJORN Original Carrier - City Black'),\n",
       " (0.69530673863043546, 'BABYBJORN Original Carrier - City Black'),\n",
       " (7.767872339492663, 'BABYBJORN Original Carrier - City Black'),\n",
       " (-3.743936109121563, 'BABYBJORN Original Carrier - City Black'),\n",
       " (6.5549522101017077, 'BABYBJORN Original Carrier - City Black'),\n",
       " (4.6995175518732593, 'BABYBJORN Original Carrier - City Black'),\n",
       " (2.7805360166962001, 'BABYBJORN Original Carrier - City Black'),\n",
       " (8.7938341106259461, 'BABYBJORN Original Carrier - City Black'),\n",
       " (10.345512973435499, 'BABYBJORN Original Carrier - City Black'),\n",
       " (6.3659024967914712, 'BABYBJORN Original Carrier - City Black'),\n",
       " (3.9027021103681996, 'Diaper Genie 3pack Refill'),\n",
       " (6.1689325140979046, 'Diaper Genie 3pack Refill'),\n",
       " (8.8402960588301926, 'Diaper Genie 3pack Refill'),\n",
       " (-5.3053582725387596, \"The First Years 2 Adjust 'n Lock Car Shades\"),\n",
       " (3.8424408238561032,\n",
       "  \"Dr. Brown's Natural Flow Level 2 Standard Nipple, 3 Pack\"),\n",
       " (-1.5113015000159924, \"Dr. Brown's Natural Flow Bottle Starter Kit\"),\n",
       " (2.8354088361290417, \"Dr. Brown's Natural Flow Bottle Starter Kit\"),\n",
       " (10.397258531571573,\n",
       "  'Playtex 3 Pack VentAire Standard Bottles, 9 Ounce (Colors may vary)'),\n",
       " (1.5002386064433963,\n",
       "  'Playtex 3 Pack VentAire Standard Bottles, 9 Ounce (Colors may vary)'),\n",
       " (1.4163211471956203,\n",
       "  'Playtex 3 Pack VentAire Standard Bottles, 9 Ounce (Colors may vary)'),\n",
       " (-2.1949185246814915,\n",
       "  'Playtex 3 Pack VentAire Standard Bottles, 9 Ounce (Colors may vary)'),\n",
       " (8.5115217529561402,\n",
       "  'Playtex 3 Pack VentAire Standard Bottles, 9 Ounce (Colors may vary)'),\n",
       " (3.2429397061324647,\n",
       "  'Playtex 3 Pack VentAire Standard Bottles, 9 Ounce (Colors may vary)'),\n",
       " (4.2658872117147393,\n",
       "  'Playtex 3 Pack VentAire Standard Bottles, 9 Ounce (Colors may vary)'),\n",
       " (2.8657813741104938,\n",
       "  'Playtex 3 Pack VentAire Standard Bottles, 9 Ounce (Colors may vary)'),\n",
       " (4.9177244564284077,\n",
       "  'Playtex 3 Pack VentAire Standard Bottles, 9 Ounce (Colors may vary)'),\n",
       " (-0.51605585309351132,\n",
       "  'Playtex 3 Pack VentAire Standard Bottles, 9 Ounce (Colors may vary)'),\n",
       " (-2.949699035532519,\n",
       "  'Playtex 3 Pack VentAire Standard Bottles, 9 Ounce (Colors may vary)'),\n",
       " (0.55213502415721805,\n",
       "  'Playtex 3 Pack VentAire Standard Bottles, 9 Ounce (Colors may vary)'),\n",
       " (4.8100130286710741,\n",
       "  'Playtex 3 Pack VentAire Standard Bottles, 9 Ounce (Colors may vary)'),\n",
       " (1.2402225154540556,\n",
       "  'Playtex 3 Pack VentAire Standard Bottles, 9 Ounce (Colors may vary)'),\n",
       " (-3.3125376179131854,\n",
       "  'Playtex 3 Pack VentAire Standard Bottles, 9 Ounce (Colors may vary)'),\n",
       " (3.5656484820335246,\n",
       "  'Playtex 3 Pack VentAire Standard Bottles, 9 Ounce (Colors may vary)'),\n",
       " (6.9470978827252274,\n",
       "  'Playtex 3 Pack VentAire Standard Bottles, 9 Ounce (Colors may vary)'),\n",
       " (10.801103625138541,\n",
       "  'Playtex 3 Pack VentAire Standard Bottles, 9 Ounce (Colors may vary)'),\n",
       " (0.058202303573662295, 'Philips AVENT BPA Free Nipple Protector, Standard'),\n",
       " (-2.2879969815805437, 'Philips AVENT BPA Free Nipple Protector, Standard'),\n",
       " (17.353220365902001, \"Thomas the Tank Snack 'N Sip Canteen\"),\n",
       " (10.943303479928675,\n",
       "  'Philips AVENT BPA Free Non Spill Soft Spouts, 6 Months'),\n",
       " (4.1122261437244179,\n",
       "  'Philips AVENT BPA Free Non Spill Soft Spouts, 6 Months'),\n",
       " (1.1607810534361971,\n",
       "  'Once Upon A Potty Potty Gift Box &amp; Mini Book For Boys'),\n",
       " (4.5209347484765612,\n",
       "  'Once Upon A Potty Potty Gift Box &amp; Mini Book For Boys'),\n",
       " (-5.1677930053481331,\n",
       "  'JJ Cole Premaxx Sling Carrier - New Edition Red Orange'),\n",
       " (-1.4716793608467234,\n",
       "  'JJ Cole Premaxx Sling Carrier - New Edition Red Orange'),\n",
       " (12.639524971749706,\n",
       "  'JJ Cole Premaxx Sling Carrier - New Edition Red Orange'),\n",
       " (0.84128996881648788, \"Prince Lionheart Click 'N Go Stroller Accessory Kit\"),\n",
       " (10.893708309051624, 'Playmobil 5719 Nativity Set'),\n",
       " (3.9847020700273115, 'Safety 1st Tubside Kneeler &amp; Step Stool - Purple'),\n",
       " (-0.49232423006120452,\n",
       "  'Safety 1st 900 Mhz Sight And Sound Nursery Monitor System'),\n",
       " (4.7066681775197452,\n",
       "  'Safety 1st 900 Mhz Sight And Sound Nursery Monitor System'),\n",
       " (-8.5237612419581552,\n",
       "  'Safety 1st 900 Mhz Sight And Sound Nursery Monitor System'),\n",
       " (-5.094853938058816,\n",
       "  'Safety 1st 900 Mhz Sight And Sound Nursery Monitor System'),\n",
       " (-1.5080491124371147,\n",
       "  'Safety 1st 900 Mhz Sight And Sound Nursery Monitor System'),\n",
       " (8.7051111258931844,\n",
       "  'Safety 1st 900 Mhz Sight And Sound Nursery Monitor System'),\n",
       " (0.61460311022033332,\n",
       "  'Safety 1st 900 Mhz Sight And Sound Nursery Monitor System'),\n",
       " (0.070066995959136014,\n",
       "  'Safety 1st 900 Mhz Sight And Sound Nursery Monitor System'),\n",
       " (4.9000557325285978,\n",
       "  'Safety 1st 900 Mhz Sight And Sound Nursery Monitor System'),\n",
       " (10.382757317832478,\n",
       "  'Safety 1st 900 Mhz Sight And Sound Nursery Monitor System'),\n",
       " (8.6400451959448965,\n",
       "  'Safety 1st 900 Mhz Sight And Sound Nursery Monitor System'),\n",
       " (-9.7525368099020042,\n",
       "  'Safety 1st 900 Mhz Sight And Sound Nursery Monitor System'),\n",
       " (1.2369832806071706, 'Sleepytime Baby Snoopy - 3-Piece Crib Bedding Set'),\n",
       " (18.606159521613936, 'Sleepytime Baby Snoopy - 3-Piece Crib Bedding Set'),\n",
       " (7.5384693570156625, 'Playtex Sip Ease Replacement Valve - 2 Pk'),\n",
       " (4.2971542753362968, 'Playtex Sip Ease Replacement Valve - 2 Pk'),\n",
       " (6.5362336126835512, 'Playtex Sip Ease Replacement Valve - 2 Pk'),\n",
       " (3.4968813962120207, 'Playtex Sip Ease Replacement Valve - 2 Pk'),\n",
       " (-0.035036283998181705, 'Playtex Sip Ease Replacement Valve - 2 Pk'),\n",
       " (1.4096346118463383, 'Playtex Sip Ease Replacement Valve - 2 Pk'),\n",
       " (1.4532126195020447,\n",
       "  'Playtex BPA Free Drop-Ins NaturaLatch Latex Nipple - Fast Flow - 2 Pack'),\n",
       " (2.6066177918494002,\n",
       "  'Playtex BPA Free Drop-Ins NaturaLatch Latex Nipple - Fast Flow - 2 Pack'),\n",
       " (4.6715805501020427,\n",
       "  'Playtex BPA Free Drop-Ins NaturaLatch Latex Nipple - Fast Flow - 2 Pack'),\n",
       " (12.891416930232936,\n",
       "  'SASSY POPPIN Push CAR crawling BABY TOY interactive NEW'),\n",
       " (6.1768321081338042,\n",
       "  'Kiddopotamus Snuzzler Complete Head and Body Support, Ivory Fleece &amp; Navy Trim'),\n",
       " (2.4235027438473882,\n",
       "  'Kiddopotamus Snuzzler Complete Head and Body Support, Ivory Fleece &amp; Navy Trim'),\n",
       " (2.9366385086071007,\n",
       "  'Kiddopotamus Snuzzler Complete Head and Body Support, Ivory Fleece &amp; Navy Trim'),\n",
       " (11.951838945255085, 'Monterey Sleigh Crib - White'),\n",
       " (2.4054040349097283, 'Monterey Sleigh Crib - White'),\n",
       " (-4.6344901533160048, 'Monterey Sleigh Crib - White'),\n",
       " (8.05320181337955,\n",
       "  'Playtex 3 Pack BPA Free VentAire Wide Bottles, 9 Ounce (Colors may vary)'),\n",
       " (3.990471175321364,\n",
       "  'Playtex 3 Pack BPA Free VentAire Wide Bottles, 9 Ounce (Colors may vary)'),\n",
       " (3.652681325705859,\n",
       "  'Playtex 3 Pack BPA Free VentAire Wide Bottles, 9 Ounce (Colors may vary)'),\n",
       " (-7.0805133137021175,\n",
       "  'Playtex 3 Pack BPA Free VentAire Wide Bottles, 9 Ounce (Colors may vary)'),\n",
       " (11.142005251847028,\n",
       "  'Playtex 3 Pack BPA Free VentAire Wide Bottles, 9 Ounce (Colors may vary)'),\n",
       " (-1.4042824063527946,\n",
       "  'Playtex 3 Pack BPA Free VentAire Wide Bottles, 9 Ounce (Colors may vary)'),\n",
       " (1.023653012709782,\n",
       "  'Playtex 3 Pack BPA Free VentAire Wide Bottles, 9 Ounce (Colors may vary)'),\n",
       " (3.5183361965389253,\n",
       "  'Playtex 3 Pack BPA Free VentAire Wide Bottles, 9 Ounce (Colors may vary)'),\n",
       " (1.9949794736048059,\n",
       "  'Playtex 3 Pack BPA Free VentAire Wide Bottles, 9 Ounce (Colors may vary)'),\n",
       " (5.5912594529205624,\n",
       "  'Playtex 3 Pack BPA Free VentAire Wide Bottles, 9 Ounce (Colors may vary)'),\n",
       " (5.2100997868138554,\n",
       "  'Playtex 3 Pack BPA Free VentAire Wide Bottles, 9 Ounce (Colors may vary)'),\n",
       " (2.6452269626997937,\n",
       "  'Playtex 3 Pack BPA Free VentAire Wide Bottles, 9 Ounce (Colors may vary)'),\n",
       " (9.0316141594804602,\n",
       "  'Playtex 3 Pack BPA Free VentAire Wide Bottles, 9 Ounce (Colors may vary)'),\n",
       " (0.51917632303465489,\n",
       "  'Playtex 3 Pack BPA Free VentAire Wide Bottles, 9 Ounce (Colors may vary)'),\n",
       " (2.3312951863108173,\n",
       "  'Playtex 3 Pack BPA Free VentAire Wide Bottles, 9 Ounce (Colors may vary)'),\n",
       " (3.5452686549561303,\n",
       "  'Playtex 3 Pack BPA Free VentAire Wide Bottles, 9 Ounce (Colors may vary)'),\n",
       " (8.5272763961703433,\n",
       "  'Playtex 3 Pack BPA Free VentAire Wide Bottles, 9 Ounce (Colors may vary)'),\n",
       " (15.481869585293778, 'Night &amp; Day Bottle Warmer'),\n",
       " (4.0595998569134553, 'Night &amp; Day Bottle Warmer'),\n",
       " (8.4926462140940444, 'Baby Buddy Size-It Closet Organizers, Blue, 5 Pack'),\n",
       " (5.6769359727433919,\n",
       "  'The First Years 16 Piece Take &amp; Toss Infant Spoons'),\n",
       " (6.3534901435608075,\n",
       "  'The First Years 16 Piece Take &amp; Toss Infant Spoons'),\n",
       " (6.6155992471703495,\n",
       "  'The First Years 16 Piece Take &amp; Toss Infant Spoons'),\n",
       " (1.4378316285675132, 'Prince Lionheart Stove Guard'),\n",
       " (1.5172255736639559, 'Prince Lionheart Stove Guard'),\n",
       " (0.54255520742479435, 'Prince Lionheart Stove Guard'),\n",
       " (5.9617631328525773, 'Prince Lionheart Stove Guard'),\n",
       " (-0.53246321429281007, 'The First Years Car Rear Sunshade'),\n",
       " (-0.81638713962602982, 'The First Years Car Rear Sunshade'),\n",
       " (-6.812955035423335,\n",
       "  'The First Years Babypro Quick Serve Bottle Warmer, Colors May Vary'),\n",
       " (0.48993020218538119,\n",
       "  'The First Years Babypro Quick Serve Bottle Warmer, Colors May Vary'),\n",
       " (3.1470996759387924,\n",
       "  'The First Years Babypro Quick Serve Bottle Warmer, Colors May Vary'),\n",
       " (-0.75971502119598111,\n",
       "  'The First Years Babypro Quick Serve Bottle Warmer, Colors May Vary'),\n",
       " (8.7871752154583529,\n",
       "  'The First Years Babypro Quick Serve Bottle Warmer, Colors May Vary'),\n",
       " (1.5925163513683538,\n",
       "  'The First Years Babypro Quick Serve Bottle Warmer, Colors May Vary'),\n",
       " (4.6851782828340305,\n",
       "  'The First Years Babypro Quick Serve Bottle Warmer, Colors May Vary'),\n",
       " (6.3259771168074632,\n",
       "  'The First Years Babypro Quick Serve Bottle Warmer, Colors May Vary'),\n",
       " (-1.4291367284455754,\n",
       "  'The First Years Babypro Quick Serve Bottle Warmer, Colors May Vary'),\n",
       " (11.451325026798221,\n",
       "  'The First Years Babypro Quick Serve Bottle Warmer, Colors May Vary'),\n",
       " (4.4045999283867783,\n",
       "  'The First Years Babypro Quick Serve Bottle Warmer, Colors May Vary'),\n",
       " (5.5889581849523857,\n",
       "  'The First Years Babypro Quick Serve Bottle Warmer, Colors May Vary'),\n",
       " (2.0283909709331329,\n",
       "  'The First Years Babypro Quick Serve Bottle Warmer, Colors May Vary'),\n",
       " (1.8471797615845551,\n",
       "  'The First Years Babypro Quick Serve Bottle Warmer, Colors May Vary'),\n",
       " (4.4312551005103566,\n",
       "  'The First Years Babypro Quick Serve Bottle Warmer, Colors May Vary'),\n",
       " (4.1100598793765126,\n",
       "  'The First Years Babypro Quick Serve Bottle Warmer, Colors May Vary'),\n",
       " (-0.16932909368426952,\n",
       "  'The First Years Babypro Quick Serve Bottle Warmer, Colors May Vary'),\n",
       " (4.7023837318669353,\n",
       "  'The First Years Babypro Quick Serve Bottle Warmer, Colors May Vary'),\n",
       " (-2.8507098932110413,\n",
       "  'The First Years Babypro Quick Serve Bottle Warmer, Colors May Vary'),\n",
       " (1.9400728130943201,\n",
       "  'The First Years Babypro Quick Serve Bottle Warmer, Colors May Vary'),\n",
       " (10.485285611597464,\n",
       "  'The First Years Babypro Quick Serve Bottle Warmer, Colors May Vary'),\n",
       " (6.9137298132942249,\n",
       "  'The First Years Babypro Quick Serve Bottle Warmer, Colors May Vary'),\n",
       " (5.083209784737214,\n",
       "  'The First Years Babypro Quick Serve Bottle Warmer, Colors May Vary'),\n",
       " (2.243110571072533,\n",
       "  'The First Years Babypro Quick Serve Bottle Warmer, Colors May Vary'),\n",
       " (0.38722333840726908,\n",
       "  'The First Years Babypro Quick Serve Bottle Warmer, Colors May Vary'),\n",
       " (-2.3660961250568837,\n",
       "  'The First Years Babypro Quick Serve Bottle Warmer, Colors May Vary'),\n",
       " ...]"
      ]
     },
     "execution_count": 190,
     "metadata": {},
     "output_type": "execute_result"
    }
   ],
   "source": [
    "zip(scores,test_data['name'])"
   ]
  },
  {
   "cell_type": "code",
   "execution_count": 192,
   "metadata": {
    "collapsed": false
   },
   "outputs": [],
   "source": [
    "f=sorted(zip(scores,test_data['name']),reverse=True)"
   ]
  },
  {
   "cell_type": "code",
   "execution_count": 194,
   "metadata": {
    "collapsed": false
   },
   "outputs": [
    {
     "data": {
      "text/plain": [
       "[(53.923597513184539,\n",
       "  'Infantino Wrap and Tie Baby Carrier, Black Blueberries'),\n",
       " (52.405986959331635, 'Baby Einstein Around The World Discovery Center'),\n",
       " (48.766185855022009, 'Britax 2012 B-Agile Stroller, Red'),\n",
       " (47.298525599402822, 'Diono RadianRXT Convertible Car Seat, Plum'),\n",
       " (44.776859248642772, \"Graco Pack 'n Play Element Playard - Flint\"),\n",
       " (43.727707672873194, \"P'Kolino Silly Soft Seating in Tias, Green\"),\n",
       " (42.088674871029511,\n",
       "  'Roan Rocco Classic Pram Stroller 2-in-1 with Bassinet and Seat Unit - Coffee'),\n",
       " (41.29954637839392, 'Mamas &amp; Papas 2014 Urbo2 Stroller - Black'),\n",
       " (40.589450155786572, 'Simple Wishes Hands-Free Breastpump Bra, Pink, XS-L'),\n",
       " (40.533766970853577, 'Evenflo X Sport Plus Convenience Stroller - Christina'),\n",
       " (40.529087007354939,\n",
       "  'Buttons Cloth Diaper Cover - One Size - 8 Color Options'),\n",
       " (40.160770412154299,\n",
       "  'Graco FastAction Fold Jogger Click Connect Stroller, Grapeade'),\n",
       " (38.985813947787356,\n",
       "  'Freemie Hands-Free Concealable Breast Pump Collection System'),\n",
       " (38.452880140133232,\n",
       "  'Baby Jogger City Mini GT Single Stroller, Shadow/Orange'),\n",
       " (38.033880142568627, 'Evenflo 6 Pack Classic Glass Bottle, 4-Ounce'),\n",
       " (37.932042285175775, \"Fisher-Price Cradle 'N Swing,  My Little Snugabunny\"),\n",
       " (36.849732670332514, 'Britax Decathlon Convertible Car Seat, Tiffany'),\n",
       " (36.739426544092659,\n",
       "  'Ikea 36 Pcs Kalas Kids Plastic BPA Free Flatware, Bowl, Plate, Tumbler Set, Colorful'),\n",
       " (36.063775485641287, 'Summer Infant Wide View Digital Color Video Monitor'),\n",
       " (35.810325509142565,\n",
       "  'Baby Jogger City Mini GT Double Stroller, Shadow/Orange')]"
      ]
     },
     "execution_count": 194,
     "metadata": {},
     "output_type": "execute_result"
    }
   ],
   "source": [
    "f[0:20]"
   ]
  },
  {
   "cell_type": "code",
   "execution_count": 195,
   "metadata": {
    "collapsed": true
   },
   "outputs": [],
   "source": [
    "r=sorted(zip(scores,test_data['name']))"
   ]
  },
  {
   "cell_type": "code",
   "execution_count": 196,
   "metadata": {
    "collapsed": false
   },
   "outputs": [
    {
     "data": {
      "text/plain": [
       "[(-34.611336464509371, 'Fisher-Price Ocean Wonders Aquarium Bouncer'),\n",
       " (-33.899246136107081,\n",
       "  \"Levana Safe N'See Digital Video Baby Monitor with Talk-to-Baby Intercom and Lullaby Control (LV-TW501)\"),\n",
       " (-30.113491388154202, 'Safety 1st Exchangeable Tip 3 in 1 Thermometer'),\n",
       " (-29.709047572963353,\n",
       "  'Adiri BPA Free Natural Nurser Ultimate Bottle Stage 1 White, Slow Flow (0-3 months)'),\n",
       " (-29.006187149937553,\n",
       "  'VTech Communications Safe &amp; Sounds Full Color Video and Audio Monitor'),\n",
       " (-28.699435116207379,\n",
       "  'The First Years True Choice P400 Premium Digital Monitor, 2 Parent Unit'),\n",
       " (-24.142893787196947, 'Safety 1st High-Def Digital Monitor'),\n",
       " (-24.138532459407298, 'Cloth Diaper Sprayer--styles may vary'),\n",
       " (-23.059055456365293,\n",
       "  'Motorola Digital Video Baby Monitor with Room Temperature Thermometer'),\n",
       " (-23.020936909567364, 'Philips AVENT Newborn Starter Set'),\n",
       " (-21.552960323679152, 'Ellaroo Mei Tai Baby Carrier - Hershey'),\n",
       " (-21.445981882524173, 'Cosco Alpha Omega Elite Convertible Car Seat'),\n",
       " (-21.171625385761221,\n",
       "  'Belkin WeMo Wi-Fi Baby Monitor for Apple iPhone, iPad, and iPod Touch (Firmware Update)'),\n",
       " (-21.153935615738881, 'Peg-Perego Tatamia High Chair, White Latte'),\n",
       " (-21.143719298029552, 'Chicco Cortina KeyFit 30 Travel System in Adventure'),\n",
       " (-21.139385557750742, 'NUK Cook-n-Blend Baby Food Maker'),\n",
       " (-20.921189832531073,\n",
       "  'VTech Communications Safe &amp; Sound Digital Audio Monitor with two Parent Units'),\n",
       " (-20.6362483888492, 'Safety 1st Deluxe 4-in-1 Bath Station'),\n",
       " (-20.30480803766407, 'Thirsties Hemp Inserts 2 Pack, Small 6-18 Lbs'),\n",
       " (-20.166219937480999, 'Regalo My Cot Portable Bed, Royal Blue')]"
      ]
     },
     "execution_count": 196,
     "metadata": {},
     "output_type": "execute_result"
    }
   ],
   "source": [
    "r[0:20]"
   ]
  },
  {
   "cell_type": "code",
   "execution_count": 199,
   "metadata": {
    "collapsed": true
   },
   "outputs": [],
   "source": [
    "y_pred=logreg.predict(test_matrix)"
   ]
  },
  {
   "cell_type": "code",
   "execution_count": 200,
   "metadata": {
    "collapsed": false
   },
   "outputs": [
    {
     "data": {
      "text/plain": [
       "array([1, 1, 1, ..., 1, 1, 1], dtype=int64)"
      ]
     },
     "execution_count": 200,
     "metadata": {},
     "output_type": "execute_result"
    }
   ],
   "source": [
    "y_pred"
   ]
  },
  {
   "cell_type": "code",
   "execution_count": 209,
   "metadata": {
    "collapsed": false
   },
   "outputs": [],
   "source": [
    "correctly_classified=test_data[y_pred==test_data['sentiment']]"
   ]
  },
  {
   "cell_type": "code",
   "execution_count": 211,
   "metadata": {
    "collapsed": false
   },
   "outputs": [
    {
     "data": {
      "text/plain": [
       "(31084, 5)"
      ]
     },
     "execution_count": 211,
     "metadata": {},
     "output_type": "execute_result"
    }
   ],
   "source": [
    "correctly_classified.shape"
   ]
  },
  {
   "cell_type": "code",
   "execution_count": 214,
   "metadata": {
    "collapsed": false
   },
   "outputs": [
    {
     "data": {
      "text/plain": [
       "0.9540436765058795"
      ]
     },
     "execution_count": 214,
     "metadata": {},
     "output_type": "execute_result"
    }
   ],
   "source": [
    "31804./33336."
   ]
  },
  {
   "cell_type": "markdown",
   "metadata": {},
   "source": [
    "# ----------------------------------------------------------------------------------------------------"
   ]
  },
  {
   "cell_type": "code",
   "execution_count": 215,
   "metadata": {
    "collapsed": true
   },
   "outputs": [],
   "source": [
    "significant_words = ['love', 'great', 'easy', 'old', 'little', 'perfect', 'loves', \n",
    "      'well', 'able', 'car', 'broke', 'less', 'even', 'waste', 'disappointed', \n",
    "      'work', 'product', 'money', 'would', 'return']"
   ]
  },
  {
   "cell_type": "code",
   "execution_count": 216,
   "metadata": {
    "collapsed": true
   },
   "outputs": [],
   "source": [
    "vectorizer_word_subset = CountVectorizer(vocabulary=significant_words)"
   ]
  },
  {
   "cell_type": "code",
   "execution_count": 217,
   "metadata": {
    "collapsed": true
   },
   "outputs": [],
   "source": [
    "train_matrix_word_subset = vectorizer_word_subset.fit_transform(train_data['review_clean'])\n",
    "test_matrix_word_subset = vectorizer_word_subset.transform(test_data['review_clean'])"
   ]
  },
  {
   "cell_type": "code",
   "execution_count": 218,
   "metadata": {
    "collapsed": false
   },
   "outputs": [
    {
     "data": {
      "text/plain": [
       "LogisticRegression(C=1.0, class_weight=None, dual=False, fit_intercept=True,\n",
       "          intercept_scaling=1, max_iter=100, multi_class='ovr',\n",
       "          penalty='l2', random_state=None, solver='liblinear', tol=0.0001,\n",
       "          verbose=0)"
      ]
     },
     "execution_count": 218,
     "metadata": {},
     "output_type": "execute_result"
    }
   ],
   "source": [
    "simple_model=LogisticRegression()\n",
    "simple_model.fit(train_matrix_word_subset,train_data['sentiment'])"
   ]
  },
  {
   "cell_type": "code",
   "execution_count": 221,
   "metadata": {
    "collapsed": false
   },
   "outputs": [],
   "source": [
    "coe=simple_model.coef_"
   ]
  },
  {
   "cell_type": "code",
   "execution_count": 222,
   "metadata": {
    "collapsed": false
   },
   "outputs": [
    {
     "data": {
      "text/plain": [
       "array([[ 1.36368976,  0.94399959,  1.19253827,  0.08551278,  0.52018576,\n",
       "         1.50981248,  1.67307389,  0.50376046,  0.19090857,  0.05885467,\n",
       "        -1.65157634, -0.20956286, -0.51137963, -2.03369861, -2.34829822,\n",
       "        -0.62116877, -0.32055624, -0.89803074, -0.36216674, -2.10933109]])"
      ]
     },
     "execution_count": 222,
     "metadata": {},
     "output_type": "execute_result"
    }
   ],
   "source": [
    "coe"
   ]
  },
  {
   "cell_type": "code",
   "execution_count": 223,
   "metadata": {
    "collapsed": true
   },
   "outputs": [],
   "source": [
    "coef=np.array(coe).tolist()"
   ]
  },
  {
   "cell_type": "code",
   "execution_count": 226,
   "metadata": {
    "collapsed": false
   },
   "outputs": [
    {
     "data": {
      "text/plain": [
       "[1.36368975931162,\n",
       " 0.9439995905719134,\n",
       " 1.1925382734892165,\n",
       " 0.08551277946318424,\n",
       " 0.520185762718104,\n",
       " 1.509812476692579,\n",
       " 1.6730738925938358,\n",
       " 0.5037604577675455,\n",
       " 0.19090857206464212,\n",
       " 0.05885467115243577,\n",
       " -1.6515763449649186,\n",
       " -0.20956286453443232,\n",
       " -0.5113796317987443,\n",
       " -2.033698613940551,\n",
       " -2.348298219501999,\n",
       " -0.6211687736413687,\n",
       " -0.3205562367345016,\n",
       " -0.898030737714631,\n",
       " -0.36216674227390977,\n",
       " -2.109331090318274]"
      ]
     },
     "execution_count": 226,
     "metadata": {},
     "output_type": "execute_result"
    }
   ],
   "source": [
    "coef[0]"
   ]
  },
  {
   "cell_type": "code",
   "execution_count": 227,
   "metadata": {
    "collapsed": false
   },
   "outputs": [
    {
     "data": {
      "text/plain": [
       "[('love', 1.36368975931162),\n",
       " ('great', 0.9439995905719134),\n",
       " ('easy', 1.1925382734892165),\n",
       " ('old', 0.08551277946318424),\n",
       " ('little', 0.520185762718104),\n",
       " ('perfect', 1.509812476692579),\n",
       " ('loves', 1.6730738925938358),\n",
       " ('well', 0.5037604577675455),\n",
       " ('able', 0.19090857206464212),\n",
       " ('car', 0.05885467115243577),\n",
       " ('broke', -1.6515763449649186),\n",
       " ('less', -0.20956286453443232),\n",
       " ('even', -0.5113796317987443),\n",
       " ('waste', -2.033698613940551),\n",
       " ('disappointed', -2.348298219501999),\n",
       " ('work', -0.6211687736413687),\n",
       " ('product', -0.3205562367345016),\n",
       " ('money', -0.898030737714631),\n",
       " ('would', -0.36216674227390977),\n",
       " ('return', -2.109331090318274)]"
      ]
     },
     "execution_count": 227,
     "metadata": {},
     "output_type": "execute_result"
    }
   ],
   "source": [
    "zip(significant_words,coef[0])"
   ]
  },
  {
   "cell_type": "code",
   "execution_count": 229,
   "metadata": {
    "collapsed": false
   },
   "outputs": [
    {
     "data": {
      "text/plain": [
       "<133416x121713 sparse matrix of type '<type 'numpy.int64'>'\n",
       "\twith 7327230 stored elements in Compressed Sparse Row format>"
      ]
     },
     "execution_count": 229,
     "metadata": {},
     "output_type": "execute_result"
    }
   ],
   "source": [
    "train_matrix"
   ]
  },
  {
   "cell_type": "code",
   "execution_count": 230,
   "metadata": {
    "collapsed": true
   },
   "outputs": [],
   "source": [
    "y_predi=simple_model.predict(test_matrix_word_subset)"
   ]
  },
  {
   "cell_type": "code",
   "execution_count": 231,
   "metadata": {
    "collapsed": true
   },
   "outputs": [],
   "source": [
    "correctly_classifieds=test_data[y_predi==test_data['sentiment']]"
   ]
  },
  {
   "cell_type": "code",
   "execution_count": 232,
   "metadata": {
    "collapsed": false
   },
   "outputs": [
    {
     "data": {
      "text/plain": [
       "(28981, 5)"
      ]
     },
     "execution_count": 232,
     "metadata": {},
     "output_type": "execute_result"
    }
   ],
   "source": [
    "correctly_classifieds.shape"
   ]
  },
  {
   "cell_type": "code",
   "execution_count": 233,
   "metadata": {
    "collapsed": false
   },
   "outputs": [
    {
     "data": {
      "text/plain": [
       "0.8693604511639069"
      ]
     },
     "execution_count": 233,
     "metadata": {},
     "output_type": "execute_result"
    }
   ],
   "source": [
    "28981./33336."
   ]
  },
  {
   "cell_type": "code",
   "execution_count": 234,
   "metadata": {
    "collapsed": true
   },
   "outputs": [],
   "source": [
    "y_pred=logreg.predict(train_matrix)\n",
    "y_predi=simple_model.predict(train_matrix_word_subset)"
   ]
  },
  {
   "cell_type": "code",
   "execution_count": 235,
   "metadata": {
    "collapsed": true
   },
   "outputs": [],
   "source": [
    "correctly_classified=train_data[y_pred==train_data['sentiment']]\n",
    "correctly_classifieds=train_data[y_predi==train_data['sentiment']]"
   ]
  },
  {
   "cell_type": "code",
   "execution_count": 236,
   "metadata": {
    "collapsed": false
   },
   "outputs": [
    {
     "data": {
      "text/plain": [
       "(129233, 5)"
      ]
     },
     "execution_count": 236,
     "metadata": {},
     "output_type": "execute_result"
    }
   ],
   "source": [
    "correctly_classified.shape"
   ]
  },
  {
   "cell_type": "code",
   "execution_count": 237,
   "metadata": {
    "collapsed": false
   },
   "outputs": [
    {
     "data": {
      "text/plain": [
       "(115648, 5)"
      ]
     },
     "execution_count": 237,
     "metadata": {},
     "output_type": "execute_result"
    }
   ],
   "source": [
    "correctly_classifieds.shape"
   ]
  },
  {
   "cell_type": "code",
   "execution_count": 238,
   "metadata": {
    "collapsed": false
   },
   "outputs": [
    {
     "data": {
      "text/plain": [
       "0.9686469388978833"
      ]
     },
     "execution_count": 238,
     "metadata": {},
     "output_type": "execute_result"
    }
   ],
   "source": [
    "129233./133416"
   ]
  },
  {
   "cell_type": "code",
   "execution_count": 239,
   "metadata": {
    "collapsed": false
   },
   "outputs": [
    {
     "data": {
      "text/plain": [
       "0.8668225700065959"
      ]
     },
     "execution_count": 239,
     "metadata": {},
     "output_type": "execute_result"
    }
   ],
   "source": [
    "115648./133416"
   ]
  },
  {
   "cell_type": "code",
   "execution_count": null,
   "metadata": {
    "collapsed": true
   },
   "outputs": [],
   "source": []
  }
 ],
 "metadata": {
  "kernelspec": {
   "display_name": "Python 2",
   "language": "python",
   "name": "python2"
  },
  "language_info": {
   "codemirror_mode": {
    "name": "ipython",
    "version": 2
   },
   "file_extension": ".py",
   "mimetype": "text/x-python",
   "name": "python",
   "nbconvert_exporter": "python",
   "pygments_lexer": "ipython2",
   "version": "2.7.11"
  }
 },
 "nbformat": 4,
 "nbformat_minor": 0
}
