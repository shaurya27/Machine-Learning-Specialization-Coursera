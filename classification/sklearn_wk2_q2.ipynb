{
 "cells": [
  {
   "cell_type": "code",
   "execution_count": 103,
   "metadata": {
    "collapsed": true
   },
   "outputs": [],
   "source": [
    "import numpy as np\n",
    "import pandas as pd"
   ]
  },
  {
   "cell_type": "code",
   "execution_count": 104,
   "metadata": {
    "collapsed": false
   },
   "outputs": [
    {
     "data": {
      "text/html": [
       "<div>\n",
       "<table border=\"1\" class=\"dataframe\">\n",
       "  <thead>\n",
       "    <tr style=\"text-align: right;\">\n",
       "      <th></th>\n",
       "      <th>name</th>\n",
       "      <th>review</th>\n",
       "      <th>rating</th>\n",
       "      <th>sentiment</th>\n",
       "    </tr>\n",
       "  </thead>\n",
       "  <tbody>\n",
       "    <tr>\n",
       "      <th>0</th>\n",
       "      <td>Stop Pacifier Sucking without tears with Thumb...</td>\n",
       "      <td>All of my kids have cried non-stop when I trie...</td>\n",
       "      <td>5</td>\n",
       "      <td>1</td>\n",
       "    </tr>\n",
       "    <tr>\n",
       "      <th>1</th>\n",
       "      <td>Nature's Lullabies Second Year Sticker Calendar</td>\n",
       "      <td>We wanted to get something to keep track of ou...</td>\n",
       "      <td>5</td>\n",
       "      <td>1</td>\n",
       "    </tr>\n",
       "    <tr>\n",
       "      <th>2</th>\n",
       "      <td>Nature's Lullabies Second Year Sticker Calendar</td>\n",
       "      <td>My daughter had her 1st baby over a year ago. ...</td>\n",
       "      <td>5</td>\n",
       "      <td>1</td>\n",
       "    </tr>\n",
       "    <tr>\n",
       "      <th>3</th>\n",
       "      <td>Lamaze Peekaboo, I Love You</td>\n",
       "      <td>One of baby's first and favorite books, and it...</td>\n",
       "      <td>4</td>\n",
       "      <td>1</td>\n",
       "    </tr>\n",
       "    <tr>\n",
       "      <th>4</th>\n",
       "      <td>SoftPlay Peek-A-Boo Where's Elmo A Children's ...</td>\n",
       "      <td>Very cute interactive book! My son loves this ...</td>\n",
       "      <td>5</td>\n",
       "      <td>1</td>\n",
       "    </tr>\n",
       "    <tr>\n",
       "      <th>5</th>\n",
       "      <td>Our Baby Girl Memory Book</td>\n",
       "      <td>Beautiful book, I love it to record cherished ...</td>\n",
       "      <td>5</td>\n",
       "      <td>1</td>\n",
       "    </tr>\n",
       "    <tr>\n",
       "      <th>6</th>\n",
       "      <td>Hunnt&amp;reg; Falling Flowers and Birds Kids Nurs...</td>\n",
       "      <td>Try this out for a spring project !Easy ,fun a...</td>\n",
       "      <td>5</td>\n",
       "      <td>1</td>\n",
       "    </tr>\n",
       "    <tr>\n",
       "      <th>7</th>\n",
       "      <td>Blessed By Pope Benedict XVI Divine Mercy Full...</td>\n",
       "      <td>very nice Divine Mercy Pendant of Jesus now on...</td>\n",
       "      <td>5</td>\n",
       "      <td>1</td>\n",
       "    </tr>\n",
       "    <tr>\n",
       "      <th>8</th>\n",
       "      <td>Cloth Diaper Pins Stainless Steel Traditional ...</td>\n",
       "      <td>We bought the pins as my 6 year old Autistic s...</td>\n",
       "      <td>4</td>\n",
       "      <td>1</td>\n",
       "    </tr>\n",
       "    <tr>\n",
       "      <th>9</th>\n",
       "      <td>Cloth Diaper Pins Stainless Steel Traditional ...</td>\n",
       "      <td>It has been many years since we needed diaper ...</td>\n",
       "      <td>5</td>\n",
       "      <td>1</td>\n",
       "    </tr>\n",
       "  </tbody>\n",
       "</table>\n",
       "</div>"
      ],
      "text/plain": [
       "                                                name  \\\n",
       "0  Stop Pacifier Sucking without tears with Thumb...   \n",
       "1    Nature's Lullabies Second Year Sticker Calendar   \n",
       "2    Nature's Lullabies Second Year Sticker Calendar   \n",
       "3                        Lamaze Peekaboo, I Love You   \n",
       "4  SoftPlay Peek-A-Boo Where's Elmo A Children's ...   \n",
       "5                          Our Baby Girl Memory Book   \n",
       "6  Hunnt&reg; Falling Flowers and Birds Kids Nurs...   \n",
       "7  Blessed By Pope Benedict XVI Divine Mercy Full...   \n",
       "8  Cloth Diaper Pins Stainless Steel Traditional ...   \n",
       "9  Cloth Diaper Pins Stainless Steel Traditional ...   \n",
       "\n",
       "                                              review  rating  sentiment  \n",
       "0  All of my kids have cried non-stop when I trie...       5          1  \n",
       "1  We wanted to get something to keep track of ou...       5          1  \n",
       "2  My daughter had her 1st baby over a year ago. ...       5          1  \n",
       "3  One of baby's first and favorite books, and it...       4          1  \n",
       "4  Very cute interactive book! My son loves this ...       5          1  \n",
       "5  Beautiful book, I love it to record cherished ...       5          1  \n",
       "6  Try this out for a spring project !Easy ,fun a...       5          1  \n",
       "7  very nice Divine Mercy Pendant of Jesus now on...       5          1  \n",
       "8  We bought the pins as my 6 year old Autistic s...       4          1  \n",
       "9  It has been many years since we needed diaper ...       5          1  "
      ]
     },
     "execution_count": 104,
     "metadata": {},
     "output_type": "execute_result"
    }
   ],
   "source": [
    "products=pd.read_csv('amazon_baby_subset.csv')\n",
    "products.head(10)"
   ]
  },
  {
   "cell_type": "code",
   "execution_count": 105,
   "metadata": {
    "collapsed": false
   },
   "outputs": [
    {
     "data": {
      "text/plain": [
       "(53072, 4)"
      ]
     },
     "execution_count": 105,
     "metadata": {},
     "output_type": "execute_result"
    }
   ],
   "source": [
    "products.shape"
   ]
  },
  {
   "cell_type": "code",
   "execution_count": 106,
   "metadata": {
    "collapsed": false
   },
   "outputs": [
    {
     "data": {
      "text/plain": [
       "(26493, 4)"
      ]
     },
     "execution_count": 106,
     "metadata": {},
     "output_type": "execute_result"
    }
   ],
   "source": [
    "products[products['sentiment']==-1].shape"
   ]
  },
  {
   "cell_type": "code",
   "execution_count": 107,
   "metadata": {
    "collapsed": false
   },
   "outputs": [
    {
     "data": {
      "text/plain": [
       "(26579, 4)"
      ]
     },
     "execution_count": 107,
     "metadata": {},
     "output_type": "execute_result"
    }
   ],
   "source": [
    "products[products['sentiment']==+1].shape"
   ]
  },
  {
   "cell_type": "code",
   "execution_count": 134,
   "metadata": {
    "collapsed": false
   },
   "outputs": [],
   "source": [
    "important_words=pd.read_json('https://s3.amazonaws.com/static.dato.com/files/coursera/course-3/important_words.json')"
   ]
  },
  {
   "cell_type": "code",
   "execution_count": 109,
   "metadata": {
    "collapsed": false
   },
   "outputs": [
    {
     "data": {
      "text/plain": [
       "(193, 1)"
      ]
     },
     "execution_count": 109,
     "metadata": {},
     "output_type": "execute_result"
    }
   ],
   "source": [
    "important_words.shape"
   ]
  },
  {
   "cell_type": "code",
   "execution_count": 110,
   "metadata": {
    "collapsed": true
   },
   "outputs": [],
   "source": [
    "products['review']=products['review'].astype(str)"
   ]
  },
  {
   "cell_type": "code",
   "execution_count": 111,
   "metadata": {
    "collapsed": false
   },
   "outputs": [],
   "source": [
    "def remove_punctuation(text):\n",
    "    import string\n",
    "    return text.translate(None, string.punctuation) \n",
    "\n",
    "products['review_clean'] = products['review'].apply(remove_punctuation)"
   ]
  },
  {
   "cell_type": "code",
   "execution_count": 112,
   "metadata": {
    "collapsed": false
   },
   "outputs": [
    {
     "data": {
      "text/html": [
       "<div>\n",
       "<table border=\"1\" class=\"dataframe\">\n",
       "  <thead>\n",
       "    <tr style=\"text-align: right;\">\n",
       "      <th></th>\n",
       "      <th>name</th>\n",
       "      <th>review</th>\n",
       "      <th>rating</th>\n",
       "      <th>sentiment</th>\n",
       "      <th>review_clean</th>\n",
       "    </tr>\n",
       "  </thead>\n",
       "  <tbody>\n",
       "    <tr>\n",
       "      <th>0</th>\n",
       "      <td>Stop Pacifier Sucking without tears with Thumb...</td>\n",
       "      <td>All of my kids have cried non-stop when I trie...</td>\n",
       "      <td>5</td>\n",
       "      <td>1</td>\n",
       "      <td>All of my kids have cried nonstop when I tried...</td>\n",
       "    </tr>\n",
       "    <tr>\n",
       "      <th>1</th>\n",
       "      <td>Nature's Lullabies Second Year Sticker Calendar</td>\n",
       "      <td>We wanted to get something to keep track of ou...</td>\n",
       "      <td>5</td>\n",
       "      <td>1</td>\n",
       "      <td>We wanted to get something to keep track of ou...</td>\n",
       "    </tr>\n",
       "    <tr>\n",
       "      <th>2</th>\n",
       "      <td>Nature's Lullabies Second Year Sticker Calendar</td>\n",
       "      <td>My daughter had her 1st baby over a year ago. ...</td>\n",
       "      <td>5</td>\n",
       "      <td>1</td>\n",
       "      <td>My daughter had her 1st baby over a year ago S...</td>\n",
       "    </tr>\n",
       "    <tr>\n",
       "      <th>3</th>\n",
       "      <td>Lamaze Peekaboo, I Love You</td>\n",
       "      <td>One of baby's first and favorite books, and it...</td>\n",
       "      <td>4</td>\n",
       "      <td>1</td>\n",
       "      <td>One of babys first and favorite books and it i...</td>\n",
       "    </tr>\n",
       "    <tr>\n",
       "      <th>4</th>\n",
       "      <td>SoftPlay Peek-A-Boo Where's Elmo A Children's ...</td>\n",
       "      <td>Very cute interactive book! My son loves this ...</td>\n",
       "      <td>5</td>\n",
       "      <td>1</td>\n",
       "      <td>Very cute interactive book My son loves this b...</td>\n",
       "    </tr>\n",
       "  </tbody>\n",
       "</table>\n",
       "</div>"
      ],
      "text/plain": [
       "                                                name  \\\n",
       "0  Stop Pacifier Sucking without tears with Thumb...   \n",
       "1    Nature's Lullabies Second Year Sticker Calendar   \n",
       "2    Nature's Lullabies Second Year Sticker Calendar   \n",
       "3                        Lamaze Peekaboo, I Love You   \n",
       "4  SoftPlay Peek-A-Boo Where's Elmo A Children's ...   \n",
       "\n",
       "                                              review  rating  sentiment  \\\n",
       "0  All of my kids have cried non-stop when I trie...       5          1   \n",
       "1  We wanted to get something to keep track of ou...       5          1   \n",
       "2  My daughter had her 1st baby over a year ago. ...       5          1   \n",
       "3  One of baby's first and favorite books, and it...       4          1   \n",
       "4  Very cute interactive book! My son loves this ...       5          1   \n",
       "\n",
       "                                        review_clean  \n",
       "0  All of my kids have cried nonstop when I tried...  \n",
       "1  We wanted to get something to keep track of ou...  \n",
       "2  My daughter had her 1st baby over a year ago S...  \n",
       "3  One of babys first and favorite books and it i...  \n",
       "4  Very cute interactive book My son loves this b...  "
      ]
     },
     "execution_count": 112,
     "metadata": {},
     "output_type": "execute_result"
    }
   ],
   "source": [
    "products.head()"
   ]
  },
  {
   "cell_type": "code",
   "execution_count": 113,
   "metadata": {
    "collapsed": false
   },
   "outputs": [
    {
     "data": {
      "text/html": [
       "<div>\n",
       "<table border=\"1\" class=\"dataframe\">\n",
       "  <thead>\n",
       "    <tr style=\"text-align: right;\">\n",
       "      <th></th>\n",
       "      <th>0</th>\n",
       "    </tr>\n",
       "  </thead>\n",
       "  <tbody>\n",
       "    <tr>\n",
       "      <th>0</th>\n",
       "      <td>baby</td>\n",
       "    </tr>\n",
       "    <tr>\n",
       "      <th>1</th>\n",
       "      <td>one</td>\n",
       "    </tr>\n",
       "    <tr>\n",
       "      <th>2</th>\n",
       "      <td>great</td>\n",
       "    </tr>\n",
       "    <tr>\n",
       "      <th>3</th>\n",
       "      <td>love</td>\n",
       "    </tr>\n",
       "    <tr>\n",
       "      <th>4</th>\n",
       "      <td>use</td>\n",
       "    </tr>\n",
       "  </tbody>\n",
       "</table>\n",
       "</div>"
      ],
      "text/plain": [
       "       0\n",
       "0   baby\n",
       "1    one\n",
       "2  great\n",
       "3   love\n",
       "4    use"
      ]
     },
     "execution_count": 113,
     "metadata": {},
     "output_type": "execute_result"
    }
   ],
   "source": [
    "important_words.head()"
   ]
  },
  {
   "cell_type": "code",
   "execution_count": 116,
   "metadata": {
    "collapsed": false
   },
   "outputs": [],
   "source": [
    "for word in important_words[0]:\n",
    "    products[word] = products['review_clean'].apply(lambda s : s.split().count(word))"
   ]
  },
  {
   "cell_type": "code",
   "execution_count": 117,
   "metadata": {
    "collapsed": false
   },
   "outputs": [
    {
     "data": {
      "text/html": [
       "<div>\n",
       "<table border=\"1\" class=\"dataframe\">\n",
       "  <thead>\n",
       "    <tr style=\"text-align: right;\">\n",
       "      <th></th>\n",
       "      <th>name</th>\n",
       "      <th>review</th>\n",
       "      <th>rating</th>\n",
       "      <th>sentiment</th>\n",
       "      <th>review_clean</th>\n",
       "      <th>0</th>\n",
       "      <th>baby</th>\n",
       "      <th>one</th>\n",
       "      <th>great</th>\n",
       "      <th>love</th>\n",
       "      <th>...</th>\n",
       "      <th>seems</th>\n",
       "      <th>picture</th>\n",
       "      <th>completely</th>\n",
       "      <th>wish</th>\n",
       "      <th>buying</th>\n",
       "      <th>babies</th>\n",
       "      <th>won</th>\n",
       "      <th>tub</th>\n",
       "      <th>almost</th>\n",
       "      <th>either</th>\n",
       "    </tr>\n",
       "  </thead>\n",
       "  <tbody>\n",
       "    <tr>\n",
       "      <th>0</th>\n",
       "      <td>Stop Pacifier Sucking without tears with Thumb...</td>\n",
       "      <td>All of my kids have cried non-stop when I trie...</td>\n",
       "      <td>5</td>\n",
       "      <td>1</td>\n",
       "      <td>All of my kids have cried nonstop when I tried...</td>\n",
       "      <td>0</td>\n",
       "      <td>0</td>\n",
       "      <td>0</td>\n",
       "      <td>1</td>\n",
       "      <td>0</td>\n",
       "      <td>...</td>\n",
       "      <td>0</td>\n",
       "      <td>0</td>\n",
       "      <td>0</td>\n",
       "      <td>0</td>\n",
       "      <td>0</td>\n",
       "      <td>0</td>\n",
       "      <td>0</td>\n",
       "      <td>0</td>\n",
       "      <td>0</td>\n",
       "      <td>0</td>\n",
       "    </tr>\n",
       "    <tr>\n",
       "      <th>1</th>\n",
       "      <td>Nature's Lullabies Second Year Sticker Calendar</td>\n",
       "      <td>We wanted to get something to keep track of ou...</td>\n",
       "      <td>5</td>\n",
       "      <td>1</td>\n",
       "      <td>We wanted to get something to keep track of ou...</td>\n",
       "      <td>0</td>\n",
       "      <td>0</td>\n",
       "      <td>0</td>\n",
       "      <td>0</td>\n",
       "      <td>0</td>\n",
       "      <td>...</td>\n",
       "      <td>0</td>\n",
       "      <td>0</td>\n",
       "      <td>0</td>\n",
       "      <td>0</td>\n",
       "      <td>0</td>\n",
       "      <td>0</td>\n",
       "      <td>0</td>\n",
       "      <td>0</td>\n",
       "      <td>0</td>\n",
       "      <td>0</td>\n",
       "    </tr>\n",
       "    <tr>\n",
       "      <th>2</th>\n",
       "      <td>Nature's Lullabies Second Year Sticker Calendar</td>\n",
       "      <td>My daughter had her 1st baby over a year ago. ...</td>\n",
       "      <td>5</td>\n",
       "      <td>1</td>\n",
       "      <td>My daughter had her 1st baby over a year ago S...</td>\n",
       "      <td>0</td>\n",
       "      <td>1</td>\n",
       "      <td>0</td>\n",
       "      <td>0</td>\n",
       "      <td>0</td>\n",
       "      <td>...</td>\n",
       "      <td>0</td>\n",
       "      <td>0</td>\n",
       "      <td>0</td>\n",
       "      <td>0</td>\n",
       "      <td>0</td>\n",
       "      <td>0</td>\n",
       "      <td>0</td>\n",
       "      <td>0</td>\n",
       "      <td>0</td>\n",
       "      <td>0</td>\n",
       "    </tr>\n",
       "    <tr>\n",
       "      <th>3</th>\n",
       "      <td>Lamaze Peekaboo, I Love You</td>\n",
       "      <td>One of baby's first and favorite books, and it...</td>\n",
       "      <td>4</td>\n",
       "      <td>1</td>\n",
       "      <td>One of babys first and favorite books and it i...</td>\n",
       "      <td>0</td>\n",
       "      <td>0</td>\n",
       "      <td>0</td>\n",
       "      <td>0</td>\n",
       "      <td>0</td>\n",
       "      <td>...</td>\n",
       "      <td>0</td>\n",
       "      <td>0</td>\n",
       "      <td>0</td>\n",
       "      <td>0</td>\n",
       "      <td>0</td>\n",
       "      <td>0</td>\n",
       "      <td>0</td>\n",
       "      <td>0</td>\n",
       "      <td>0</td>\n",
       "      <td>0</td>\n",
       "    </tr>\n",
       "    <tr>\n",
       "      <th>4</th>\n",
       "      <td>SoftPlay Peek-A-Boo Where's Elmo A Children's ...</td>\n",
       "      <td>Very cute interactive book! My son loves this ...</td>\n",
       "      <td>5</td>\n",
       "      <td>1</td>\n",
       "      <td>Very cute interactive book My son loves this b...</td>\n",
       "      <td>0</td>\n",
       "      <td>0</td>\n",
       "      <td>0</td>\n",
       "      <td>1</td>\n",
       "      <td>0</td>\n",
       "      <td>...</td>\n",
       "      <td>0</td>\n",
       "      <td>0</td>\n",
       "      <td>0</td>\n",
       "      <td>0</td>\n",
       "      <td>0</td>\n",
       "      <td>1</td>\n",
       "      <td>0</td>\n",
       "      <td>0</td>\n",
       "      <td>0</td>\n",
       "      <td>0</td>\n",
       "    </tr>\n",
       "  </tbody>\n",
       "</table>\n",
       "<p>5 rows × 199 columns</p>\n",
       "</div>"
      ],
      "text/plain": [
       "                                                name  \\\n",
       "0  Stop Pacifier Sucking without tears with Thumb...   \n",
       "1    Nature's Lullabies Second Year Sticker Calendar   \n",
       "2    Nature's Lullabies Second Year Sticker Calendar   \n",
       "3                        Lamaze Peekaboo, I Love You   \n",
       "4  SoftPlay Peek-A-Boo Where's Elmo A Children's ...   \n",
       "\n",
       "                                              review  rating  sentiment  \\\n",
       "0  All of my kids have cried non-stop when I trie...       5          1   \n",
       "1  We wanted to get something to keep track of ou...       5          1   \n",
       "2  My daughter had her 1st baby over a year ago. ...       5          1   \n",
       "3  One of baby's first and favorite books, and it...       4          1   \n",
       "4  Very cute interactive book! My son loves this ...       5          1   \n",
       "\n",
       "                                        review_clean  0  baby  one  great  \\\n",
       "0  All of my kids have cried nonstop when I tried...  0     0    0      1   \n",
       "1  We wanted to get something to keep track of ou...  0     0    0      0   \n",
       "2  My daughter had her 1st baby over a year ago S...  0     1    0      0   \n",
       "3  One of babys first and favorite books and it i...  0     0    0      0   \n",
       "4  Very cute interactive book My son loves this b...  0     0    0      1   \n",
       "\n",
       "   love   ...    seems  picture  completely  wish  buying  babies  won  tub  \\\n",
       "0     0   ...        0        0           0     0       0       0    0    0   \n",
       "1     0   ...        0        0           0     0       0       0    0    0   \n",
       "2     0   ...        0        0           0     0       0       0    0    0   \n",
       "3     0   ...        0        0           0     0       0       0    0    0   \n",
       "4     0   ...        0        0           0     0       0       1    0    0   \n",
       "\n",
       "   almost  either  \n",
       "0       0       0  \n",
       "1       0       0  \n",
       "2       0       0  \n",
       "3       0       0  \n",
       "4       0       0  \n",
       "\n",
       "[5 rows x 199 columns]"
      ]
     },
     "execution_count": 117,
     "metadata": {},
     "output_type": "execute_result"
    }
   ],
   "source": [
    "products.head()"
   ]
  },
  {
   "cell_type": "code",
   "execution_count": 119,
   "metadata": {
    "collapsed": false
   },
   "outputs": [
    {
     "data": {
      "text/plain": [
       "(2955, 199)"
      ]
     },
     "execution_count": 119,
     "metadata": {},
     "output_type": "execute_result"
    }
   ],
   "source": [
    "products[products['perfect']>=1].shape"
   ]
  },
  {
   "cell_type": "code",
   "execution_count": 142,
   "metadata": {
    "collapsed": false
   },
   "outputs": [],
   "source": [
    "features=[\"baby\", \"one\", \"great\", \"love\", \"use\", \"would\", \"like\", \"easy\", \"little\", \"seat\", \"old\", \"well\", \"get\", \"also\", \"really\", \"son\", \"time\", \"bought\", \"product\", \"good\", \"daughter\", \"much\", \"loves\", \"stroller\", \"put\", \"months\", \"car\", \"still\", \"back\", \"used\", \"recommend\", \"first\", \"even\", \"perfect\", \"nice\", \"bag\", \"two\", \"using\", \"got\", \"fit\", \"around\", \"diaper\", \"enough\", \"month\", \"price\", \"go\", \"could\", \"soft\", \"since\", \"buy\", \"room\", \"works\", \"made\", \"child\", \"keep\", \"size\", \"small\", \"need\", \"year\", \"big\", \"make\", \"take\", \"easily\", \"think\", \"crib\", \"clean\", \"way\", \"quality\", \"thing\", \"better\", \"without\", \"set\", \"new\", \"every\", \"cute\", \"best\", \"bottles\", \"work\", \"purchased\", \"right\", \"lot\", \"side\", \"happy\", \"comfortable\", \"toy\", \"able\", \"kids\", \"bit\", \"night\", \"long\", \"fits\", \"see\", \"us\", \"another\", \"play\", \"day\", \"money\", \"monitor\", \"tried\", \"thought\", \"never\", \"item\", \"hard\", \"plastic\", \"however\", \"disappointed\", \"reviews\", \"something\", \"going\", \"pump\", \"bottle\", \"cup\", \"waste\", \"return\", \"amazon\", \"different\", \"top\", \"want\", \"problem\", \"know\", \"water\", \"try\", \"received\", \"sure\", \"times\", \"chair\", \"find\", \"hold\", \"gate\", \"open\", \"bottom\", \"away\", \"actually\", \"cheap\", \"worked\", \"getting\", \"ordered\", \"came\", \"milk\", \"bad\", \"part\", \"worth\", \"found\", \"cover\", \"many\", \"design\", \"looking\", \"weeks\", \"say\", \"wanted\", \"look\", \"place\", \"purchase\", \"looks\", \"second\", \"piece\", \"box\", \"pretty\", \"trying\", \"difficult\", \"together\", \"though\", \"give\", \"started\", \"anything\", \"last\", \"company\", \"come\", \"returned\", \"maybe\", \"took\", \"broke\", \"makes\", \"stay\", \"instead\", \"idea\", \"head\", \"said\", \"less\", \"went\", \"working\", \"high\", \"unit\", \"seems\", \"picture\", \"completely\", \"wish\", \"buying\", \"babies\", \"won\", \"tub\", \"almost\", \"either\"]"
   ]
  },
  {
   "cell_type": "code",
   "execution_count": 251,
   "metadata": {
    "collapsed": true
   },
   "outputs": [],
   "source": [
    "label='sentiment'"
   ]
  },
  {
   "cell_type": "code",
   "execution_count": 252,
   "metadata": {
    "collapsed": false
   },
   "outputs": [],
   "source": [
    "def get_numpy_data(dataframe, features, label):\n",
    "    dataframe['constant'] = 1\n",
    "    features = ['constant'] + features\n",
    "    features_frame = dataframe[features]\n",
    "    feature_matrix = np.array(features_frame)\n",
    "    label_sarray = dataframe[label]\n",
    "    label_array = np.array(label_sarray)\n",
    "    return(feature_matrix, label_array)"
   ]
  },
  {
   "cell_type": "code",
   "execution_count": 253,
   "metadata": {
    "collapsed": false
   },
   "outputs": [],
   "source": [
    "feature_matrix, label_array=get_numpy_data(products,features, label)"
   ]
  },
  {
   "cell_type": "code",
   "execution_count": 254,
   "metadata": {
    "collapsed": false
   },
   "outputs": [
    {
     "data": {
      "text/plain": [
       "(53072L, 194L)"
      ]
     },
     "execution_count": 254,
     "metadata": {},
     "output_type": "execute_result"
    }
   ],
   "source": [
    "feature_matrix.shape"
   ]
  },
  {
   "cell_type": "code",
   "execution_count": 255,
   "metadata": {
    "collapsed": false
   },
   "outputs": [
    {
     "data": {
      "text/plain": [
       "(53072L,)"
      ]
     },
     "execution_count": 255,
     "metadata": {},
     "output_type": "execute_result"
    }
   ],
   "source": [
    "label_array.shape"
   ]
  },
  {
   "cell_type": "code",
   "execution_count": 256,
   "metadata": {
    "collapsed": false
   },
   "outputs": [
    {
     "data": {
      "text/plain": [
       "array([ 1,  1,  1, ..., -1, -1, -1], dtype=int64)"
      ]
     },
     "execution_count": 256,
     "metadata": {},
     "output_type": "execute_result"
    }
   ],
   "source": [
    "label_array"
   ]
  },
  {
   "cell_type": "code",
   "execution_count": 163,
   "metadata": {
    "collapsed": false
   },
   "outputs": [
    {
     "data": {
      "text/plain": [
       "array([[1, 0, 0, ..., 0, 0, 0],\n",
       "       [1, 0, 0, ..., 0, 0, 0],\n",
       "       [1, 1, 0, ..., 0, 0, 0],\n",
       "       ..., \n",
       "       [1, 0, 0, ..., 0, 0, 0],\n",
       "       [1, 0, 1, ..., 0, 0, 0],\n",
       "       [1, 0, 0, ..., 0, 0, 0]], dtype=int64)"
      ]
     },
     "execution_count": 163,
     "metadata": {},
     "output_type": "execute_result"
    }
   ],
   "source": [
    "feature_matrix"
   ]
  },
  {
   "cell_type": "code",
   "execution_count": 331,
   "metadata": {
    "collapsed": false
   },
   "outputs": [
    {
     "data": {
      "text/plain": [
       "(53072L, 194L)"
      ]
     },
     "execution_count": 331,
     "metadata": {},
     "output_type": "execute_result"
    }
   ],
   "source": [
    "feature_matrix.shape"
   ]
  },
  {
   "cell_type": "code",
   "execution_count": 257,
   "metadata": {
    "collapsed": true
   },
   "outputs": [],
   "source": [
    "def predict_probability(feature_matrix, coefficients):\n",
    "    # Take dot product of feature_matrix and coefficients  \n",
    "    dot_product = np.dot(feature_matrix, coefficients)\n",
    "    \n",
    "    # Compute P(y_i = +1 | x_i, w) using the link function\n",
    "    # Not the optimum solution, how can I do it better?\n",
    "    size = len(dot_product)\n",
    "    predictions = np.zeros(size)\n",
    "    for i in range(size):\n",
    "        predictions[i] = 1/(1 + np.exp(-dot_product[i]))\n",
    "    \n",
    "    # return predictions\n",
    "    return predictions"
   ]
  },
  {
   "cell_type": "code",
   "execution_count": 283,
   "metadata": {
    "collapsed": false
   },
   "outputs": [],
   "source": [
    "def feature_derivative(errors, feature):     \n",
    "    # Compute the dot product of errors and feature\n",
    "    derivatives =np.dot(feature,errors)\n",
    "        # Return the derivative\n",
    "    return derivatives"
   ]
  },
  {
   "cell_type": "code",
   "execution_count": 284,
   "metadata": {
    "collapsed": true
   },
   "outputs": [],
   "source": [
    "def compute_log_likelihood(feature_matrix, sentiment, coefficients):\n",
    "    indicator = (sentiment==+1)\n",
    "    scores = np.dot(feature_matrix, coefficients)\n",
    "    lp = np.sum((indicator-1)*scores - np.log(1. + np.exp(-scores)))\n",
    "    return lp"
   ]
  },
  {
   "cell_type": "code",
   "execution_count": 289,
   "metadata": {
    "collapsed": false
   },
   "outputs": [],
   "source": [
    "from math import sqrt\n",
    "def logistic_regression(feature_matrix, sentiment, initial_coefficients, step_size, max_iter):\n",
    "    coefficients = np.array(initial_coefficients) # make sure it's a numpy array\n",
    "    for itr in xrange(max_iter):\n",
    "        # Predict P(y_i = +1|x_1,w) using your predict_probability() function\n",
    "        # YOUR CODE HERE\n",
    "        predictions = predict_probability(feature_matrix, coefficients)\n",
    "           #print predictions.shape\n",
    "        # Compute indicator value for (y_i = +1)\n",
    "        indicator = (sentiment==+1)\n",
    "        #print indicator.shape\n",
    "        # Compute the errors as indicator - predictions\n",
    "        errors = indicator - predictions\n",
    "\n",
    "        for j in xrange(len(coefficients)): # loop over each coefficient\n",
    "            # Recall that feature_matrix[:,j] is the feature column associated with coefficients[j]\n",
    "            # compute the derivative for coefficients[j]. Save it in a variable called derivative\n",
    "            # YOUR CODE HERE\n",
    "            derivative = feature_derivative(errors, feature_matrix[:,j])\n",
    "            coefficients[j]=coefficients[j]+(step_size*derivative)\n",
    "\n",
    "            # add the step size times the derivative to the current coefficient\n",
    "            # YOUR CODE HERE\n",
    "        \n",
    "\n",
    "        # Checking whether log likelihood is increasing\n",
    "        if itr <= 15 or (itr <= 100 and itr % 10 == 0) or (itr <= 1000 and itr % 100 == 0) \\\n",
    "        or (itr <= 10000 and itr % 1000 == 0) or itr % 10000 == 0:\n",
    "            lp = compute_log_likelihood(feature_matrix, sentiment, coefficients)\n",
    "            print 'iteration %*d: log likelihood of observed labels = %.8f' % \\\n",
    "                (int(np.ceil(np.log10(max_iter))), itr, lp)\n",
    "    return coefficients"
   ]
  },
  {
   "cell_type": "code",
   "execution_count": 290,
   "metadata": {
    "collapsed": false
   },
   "outputs": [],
   "source": [
    "sentiment = np.array(products['sentiment'])\n",
    "initial_coefficients = np.zeros(194)\n",
    "step_size = 1e-7\n",
    "max_iter = 301"
   ]
  },
  {
   "cell_type": "code",
   "execution_count": 291,
   "metadata": {
    "collapsed": false
   },
   "outputs": [
    {
     "data": {
      "text/plain": [
       "(53072L,)"
      ]
     },
     "execution_count": 291,
     "metadata": {},
     "output_type": "execute_result"
    }
   ],
   "source": [
    "sentiment.shape"
   ]
  },
  {
   "cell_type": "code",
   "execution_count": 294,
   "metadata": {
    "collapsed": false
   },
   "outputs": [
    {
     "name": "stdout",
     "output_type": "stream",
     "text": [
      "iteration   0: log likelihood of observed labels = -36780.91768478\n",
      "iteration   1: log likelihood of observed labels = -36775.13434712\n",
      "iteration   2: log likelihood of observed labels = -36769.35713564\n",
      "iteration   3: log likelihood of observed labels = -36763.58603240\n",
      "iteration   4: log likelihood of observed labels = -36757.82101962\n",
      "iteration   5: log likelihood of observed labels = -36752.06207964\n",
      "iteration   6: log likelihood of observed labels = -36746.30919497\n",
      "iteration   7: log likelihood of observed labels = -36740.56234821\n",
      "iteration   8: log likelihood of observed labels = -36734.82152213\n",
      "iteration   9: log likelihood of observed labels = -36729.08669961\n",
      "iteration  10: log likelihood of observed labels = -36723.35786366\n",
      "iteration  11: log likelihood of observed labels = -36717.63499744\n",
      "iteration  12: log likelihood of observed labels = -36711.91808422\n",
      "iteration  13: log likelihood of observed labels = -36706.20710739\n",
      "iteration  14: log likelihood of observed labels = -36700.50205049\n",
      "iteration  15: log likelihood of observed labels = -36694.80289716\n",
      "iteration  20: log likelihood of observed labels = -36666.39512033\n",
      "iteration  30: log likelihood of observed labels = -36610.01327118\n",
      "iteration  40: log likelihood of observed labels = -36554.19728365\n",
      "iteration  50: log likelihood of observed labels = -36498.93316099\n",
      "iteration  60: log likelihood of observed labels = -36444.20783914\n",
      "iteration  70: log likelihood of observed labels = -36390.00909449\n",
      "iteration  80: log likelihood of observed labels = -36336.32546144\n",
      "iteration  90: log likelihood of observed labels = -36283.14615871\n",
      "iteration 100: log likelihood of observed labels = -36230.46102347\n",
      "iteration 200: log likelihood of observed labels = -35728.89418769\n",
      "iteration 300: log likelihood of observed labels = -35268.51212683\n"
     ]
    }
   ],
   "source": [
    "coefficients=logistic_regression(feature_matrix, sentiment, initial_coefficients, step_size, max_iter)"
   ]
  },
  {
   "cell_type": "code",
   "execution_count": 295,
   "metadata": {
    "collapsed": false
   },
   "outputs": [
    {
     "data": {
      "text/plain": [
       "(194L,)"
      ]
     },
     "execution_count": 295,
     "metadata": {},
     "output_type": "execute_result"
    }
   ],
   "source": [
    "coefficients.shape"
   ]
  },
  {
   "cell_type": "code",
   "execution_count": 312,
   "metadata": {
    "collapsed": true
   },
   "outputs": [],
   "source": [
    "scores=np.dot(feature_matrix,coefficients)"
   ]
  },
  {
   "cell_type": "code",
   "execution_count": 313,
   "metadata": {
    "collapsed": false
   },
   "outputs": [
    {
     "data": {
      "text/plain": [
       "(53072L,)"
      ]
     },
     "execution_count": 313,
     "metadata": {},
     "output_type": "execute_result"
    }
   ],
   "source": [
    "scores.shape"
   ]
  },
  {
   "cell_type": "code",
   "execution_count": 323,
   "metadata": {
    "collapsed": false
   },
   "outputs": [],
   "source": [
    "class_predictions=np.zeros(len(scores))\n",
    "for i in range(len(scores)):\n",
    "    if scores[i]>0:\n",
    "        class_predictions[i]=1\n",
    "    else:\n",
    "        class_predictions[i]=-1\n",
    "    "
   ]
  },
  {
   "cell_type": "code",
   "execution_count": 324,
   "metadata": {
    "collapsed": false
   },
   "outputs": [],
   "source": [
    "d=scores[class_predictions==1]"
   ]
  },
  {
   "cell_type": "code",
   "execution_count": 325,
   "metadata": {
    "collapsed": false
   },
   "outputs": [
    {
     "data": {
      "text/plain": [
       "(25126L,)"
      ]
     },
     "execution_count": 325,
     "metadata": {},
     "output_type": "execute_result"
    }
   ],
   "source": [
    "d.shape"
   ]
  },
  {
   "cell_type": "code",
   "execution_count": 326,
   "metadata": {
    "collapsed": false
   },
   "outputs": [
    {
     "name": "stdout",
     "output_type": "stream",
     "text": [
      "-----------------------------------------------------\n",
      "# Reviews   correctly classified = 39903\n",
      "# Reviews incorrectly classified = 13169\n",
      "# Reviews tot al                  = 53072\n",
      "-----------------------------------------------------\n",
      "Accuracy = 0.75\n"
     ]
    }
   ],
   "source": [
    "num_mistakes = 0\n",
    "\n",
    "for i in range(len(sentiment)):\n",
    "    if class_predictions[i] != sentiment[i]:\n",
    "        num_mistakes += 1\n",
    "accuracy = (len(sentiment) - float(num_mistakes))/len(sentiment)\n",
    "print \"-----------------------------------------------------\"\n",
    "print '# Reviews   correctly classified =', len(products) - num_mistakes\n",
    "print '# Reviews incorrectly classified =', num_mistakes\n",
    "print '# Reviews tot al                  =', len(products)\n",
    "print \"-----------------------------------------------------\"\n",
    "print 'Accuracy = %.2f' % accuracy"
   ]
  },
  {
   "cell_type": "code",
   "execution_count": 335,
   "metadata": {
    "collapsed": true
   },
   "outputs": [],
   "source": [
    "f=['1']+features"
   ]
  },
  {
   "cell_type": "code",
   "execution_count": 337,
   "metadata": {
    "collapsed": false
   },
   "outputs": [
    {
     "data": {
      "text/plain": [
       "[(0.066546084170457709, 'great'),\n",
       " (0.065890762922123258, 'love'),\n",
       " (0.064794586802578394, 'easy'),\n",
       " (0.045435626308421379, 'little'),\n",
       " (0.044976401394906038, 'loves'),\n",
       " (0.030135001092107063, 'well'),\n",
       " (0.029739937104968462, 'perfect'),\n",
       " (0.020077541034775392, 'old'),\n",
       " (0.018408707995268989, 'nice'),\n",
       " (0.017703199905701694, 'daughter'),\n",
       " (0.01757027224560289, 'soft'),\n",
       " (0.016882471071408715, 'fits'),\n",
       " (0.01680529588976808, 'happy'),\n",
       " (0.015565696580423501, 'baby'),\n",
       " (0.015408450108008665, 'recommend'),\n",
       " (0.015216196422918847, 'also'),\n",
       " (0.014991791565630266, 'best'),\n",
       " (0.013253990081584897, 'comfortable'),\n",
       " (0.012685935745813372, 'car'),\n",
       " (0.012018174433365524, 'clean'),\n",
       " (0.011944817713693951, 'son'),\n",
       " (0.011708248093123262, 'bit'),\n",
       " (0.011703160621987422, 'works'),\n",
       " (0.010715966516270305, 'size'),\n",
       " (0.0099091646359727361, 'stroller'),\n",
       " (0.0097832410215680614, 'room'),\n",
       " (0.0095727335435901798, 'price'),\n",
       " (0.0091784289839843113, 'play'),\n",
       " (0.009032818138954405, 'easily'),\n",
       " (0.0085828430043465263, 'kids'),\n",
       " (0.0082646669453744614, 'still'),\n",
       " (0.007999389349248329, 'lot'),\n",
       " (0.0075089180973143413, 'around'),\n",
       " (0.0071719072700270926, 'need'),\n",
       " (0.0067101233146641725, 'take'),\n",
       " (0.0064376680818701891, 'keep'),\n",
       " (0.0060027997886387052, 'crib'),\n",
       " (0.0059235361132202735, 'without'),\n",
       " (0.0057332000284878899, 'year'),\n",
       " (0.0056747899080565696, 'set'),\n",
       " (0.0055375123640590291, 'cute'),\n",
       " (0.0051622015728580283, '1'),\n",
       " (0.0050174388165654142, 'use'),\n",
       " (0.0046066187619706071, 'big'),\n",
       " (0.0042793828903547682, 'diaper'),\n",
       " (0.0040203765080997498, 'wish'),\n",
       " (0.003983533639413615, 'seat'),\n",
       " (0.0033448995950862924, 'though'),\n",
       " (0.0030814786398540429, 'every'),\n",
       " (0.0030678550129901081, 'enough'),\n",
       " (0.0029803067506612622, 'able'),\n",
       " (0.0028617875161052061, 'bag'),\n",
       " (0.0028581898513427404, 'babies'),\n",
       " (0.0028153321886465322, 'seems'),\n",
       " (0.0028082590666831477, 'night'),\n",
       " (0.002768203906397679, 'good'),\n",
       " (0.0026466106385121292, 'many'),\n",
       " (0.0023134923740490212, 'makes'),\n",
       " (0.0022363904560238454, 'pretty'),\n",
       " (0.0021872401621619432, 'long'),\n",
       " (0.0017456314732199945, 'think'),\n",
       " (0.0017230705102314378, 'toy'),\n",
       " (0.0015547861236921191, 'since'),\n",
       " (0.0015347116392846493, 'looking'),\n",
       " (0.0015136828514065376, 'us'),\n",
       " (0.001222578323510636, 'purchase'),\n",
       " (0.00089923908141546674, 'put'),\n",
       " (0.0008292511599959563, 'cover'),\n",
       " (0.00061012880897526496, 'used'),\n",
       " (0.00041209171300655653, 'found'),\n",
       " (0.0002725920624677591, 'really'),\n",
       " (0.00011988500346780872, 'won'),\n",
       " (9.9166682748142343e-05, 'go'),\n",
       " (1.3669928550230725e-05, 'looks'),\n",
       " (-0.00018648923566776302, 'high'),\n",
       " (-0.00018857228050011142, 'day'),\n",
       " (-0.00033566600034981705, 'bottles'),\n",
       " (-0.00051596048462622889, 'chair'),\n",
       " (-0.00065735036209234278, 'using'),\n",
       " (-0.00086139044376869049, 'side'),\n",
       " (-0.00097621967562233798, 'worth'),\n",
       " (-0.0011449351626316182, 'almost'),\n",
       " (-0.0012476158571719624, 'hold'),\n",
       " (-0.0013621951573487413, 'months'),\n",
       " (-0.0016457514473845504, 'look'),\n",
       " (-0.0016689531424132912, 'sure'),\n",
       " (-0.0019419955109540186, 'find'),\n",
       " (-0.001973209371896165, 'amazon'),\n",
       " (-0.0022031766056230698, 'month'),\n",
       " (-0.0022203440239695672, 'getting'),\n",
       " (-0.0024780569860886575, 'come'),\n",
       " (-0.0030186660106671843, 'second'),\n",
       " (-0.0030257887493928002, 'head'),\n",
       " (-0.0030534547593308705, 'small'),\n",
       " (-0.0033188773175082012, 'place'),\n",
       " (-0.0034133092891886507, 'together'),\n",
       " (-0.0034808852314084314, 'want'),\n",
       " (-0.0035048841333352098, 'like'),\n",
       " (-0.0035098451575682472, 'give'),\n",
       " (-0.0037369438587485202, 'say'),\n",
       " (-0.0038141640936843113, 'wanted'),\n",
       " (-0.0040749701003517042, 'know'),\n",
       " (-0.0042664438640147096, 'took'),\n",
       " (-0.0043970006745094325, 'much'),\n",
       " (-0.004659737406888566, 'see'),\n",
       " (-0.0047899094286734034, 'purchased'),\n",
       " (-0.0047957952780930185, 'fit'),\n",
       " (-0.0050129173061971254, 'gate'),\n",
       " (-0.005040821636249148, 'bottle'),\n",
       " (-0.0050412750790588155, 'different'),\n",
       " (-0.0051011560842950587, 'came'),\n",
       " (-0.0051028797848771106, 'however'),\n",
       " (-0.0052058842106071611, 'make'),\n",
       " (-0.0052878621959721525, 'new'),\n",
       " (-0.0054430034643825958, 'buying'),\n",
       " (-0.0054701615413924338, 'last'),\n",
       " (-0.0056057334752514136, 'actually'),\n",
       " (-0.0056549872222576951, 'less'),\n",
       " (-0.0060871403023475545, 'child'),\n",
       " (-0.0062628315031623043, 'started'),\n",
       " (-0.00630012671817946, 'instead'),\n",
       " (-0.0063005429622255433, 'water'),\n",
       " (-0.0064009893446270207, 'maybe'),\n",
       " (-0.0064095891550037818, 'problem'),\n",
       " (-0.0064136885850504784, 'right'),\n",
       " (-0.0064758768730180877, 'tub'),\n",
       " (-0.0067628971751120251, 'said'),\n",
       " (-0.0068705023944023837, 'went'),\n",
       " (-0.0069101081121460371, 'quality'),\n",
       " (-0.0069528691490619403, 'pump'),\n",
       " (-0.0070079191164656805, 'top'),\n",
       " (-0.0070417199084278062, 'part'),\n",
       " (-0.0070757309816473473, 'ordered'),\n",
       " (-0.00709205934413514, 'either'),\n",
       " (-0.0072209880120885648, 'bottom'),\n",
       " (-0.0072241994259100951, 'anything'),\n",
       " (-0.0073534593690945272, 'made'),\n",
       " (-0.0073726305977644116, 'weeks'),\n",
       " (-0.0077322878173709912, 'design'),\n",
       " (-0.0077641878083142468, 'times'),\n",
       " (-0.0081015029526760162, 'picture'),\n",
       " (-0.0083178298076960894, 'away'),\n",
       " (-0.0085020467457573648, 'one'),\n",
       " (-0.0089357286159934823, 'milk'),\n",
       " (-0.0090665333735902159, 'stay'),\n",
       " (-0.0091204919107482751, 'open'),\n",
       " (-0.0092591440431899763, 'cup'),\n",
       " (-0.0093152081919567198, 'worked'),\n",
       " (-0.0098742479801358762, 'trying'),\n",
       " (-0.010006213059178754, 'completely'),\n",
       " (-0.010147655511657527, 'got'),\n",
       " (-0.010219204790778673, 'difficult'),\n",
       " (-0.01028263431773541, 'piece'),\n",
       " (-0.010576801537792876, 'two'),\n",
       " (-0.010669132724912933, 'box'),\n",
       " (-0.010770935491004765, 'going'),\n",
       " (-0.010918793208793, 'try'),\n",
       " (-0.010950912169649831, 'another'),\n",
       " (-0.0115230475554972, 'unit'),\n",
       " (-0.011895059489782873, 'working'),\n",
       " (-0.012101030310887901, 'idea'),\n",
       " (-0.012170641997242545, 'bought'),\n",
       " (-0.012506394670958822, 'company'),\n",
       " (-0.012605189953662308, 'received'),\n",
       " (-0.012754571329579798, 'bad'),\n",
       " (-0.012808838024750812, 'something'),\n",
       " (-0.012969046546319293, 'never'),\n",
       " (-0.013213475301677043, 'first'),\n",
       " (-0.013756676731261401, 'hard'),\n",
       " (-0.013868727265297585, 'thing'),\n",
       " (-0.014709833465080669, 'cheap'),\n",
       " (-0.014866319449976982, 'reviews'),\n",
       " (-0.014977044903587942, 'plastic'),\n",
       " (-0.015040658977043386, 'better'),\n",
       " (-0.01553769895565389, 'broke'),\n",
       " (-0.016001798500102516, 'returned'),\n",
       " (-0.017137867010854794, 'item'),\n",
       " (-0.017737543997218046, 'buy'),\n",
       " (-0.018246193486087033, 'time'),\n",
       " (-0.018359460662945686, 'way'),\n",
       " (-0.018702371424325834, 'tried'),\n",
       " (-0.01984625666077721, 'could'),\n",
       " (-0.021394348543682482, 'thought'),\n",
       " (-0.024042748071154956, 'waste'),\n",
       " (-0.02448210054589172, 'monitor'),\n",
       " (-0.026592778462247283, 'return'),\n",
       " (-0.027742697230661331, 'back'),\n",
       " (-0.028711552980192588, 'get'),\n",
       " (-0.028978976142317068, 'disappointed'),\n",
       " (-0.030051249236035801, 'even'),\n",
       " (-0.033069515294752723, 'work'),\n",
       " (-0.038982037286487116, 'money'),\n",
       " (-0.041511033392108904, 'product'),\n",
       " (-0.053860148445203128, 'would')]"
      ]
     },
     "execution_count": 337,
     "metadata": {},
     "output_type": "execute_result"
    }
   ],
   "source": [
    "sorted(zip(coefficients,f),reverse=True)"
   ]
  },
  {
   "cell_type": "code",
   "execution_count": 338,
   "metadata": {
    "collapsed": false
   },
   "outputs": [
    {
     "data": {
      "text/plain": [
       "[(-0.053860148445203128, 'would'),\n",
       " (-0.041511033392108904, 'product'),\n",
       " (-0.038982037286487116, 'money'),\n",
       " (-0.033069515294752723, 'work'),\n",
       " (-0.030051249236035801, 'even'),\n",
       " (-0.028978976142317068, 'disappointed'),\n",
       " (-0.028711552980192588, 'get'),\n",
       " (-0.027742697230661331, 'back'),\n",
       " (-0.026592778462247283, 'return'),\n",
       " (-0.02448210054589172, 'monitor'),\n",
       " (-0.024042748071154956, 'waste'),\n",
       " (-0.021394348543682482, 'thought'),\n",
       " (-0.01984625666077721, 'could'),\n",
       " (-0.018702371424325834, 'tried'),\n",
       " (-0.018359460662945686, 'way'),\n",
       " (-0.018246193486087033, 'time'),\n",
       " (-0.017737543997218046, 'buy'),\n",
       " (-0.017137867010854794, 'item'),\n",
       " (-0.016001798500102516, 'returned'),\n",
       " (-0.01553769895565389, 'broke'),\n",
       " (-0.015040658977043386, 'better'),\n",
       " (-0.014977044903587942, 'plastic'),\n",
       " (-0.014866319449976982, 'reviews'),\n",
       " (-0.014709833465080669, 'cheap'),\n",
       " (-0.013868727265297585, 'thing'),\n",
       " (-0.013756676731261401, 'hard'),\n",
       " (-0.013213475301677043, 'first'),\n",
       " (-0.012969046546319293, 'never'),\n",
       " (-0.012808838024750812, 'something'),\n",
       " (-0.012754571329579798, 'bad'),\n",
       " (-0.012605189953662308, 'received'),\n",
       " (-0.012506394670958822, 'company'),\n",
       " (-0.012170641997242545, 'bought'),\n",
       " (-0.012101030310887901, 'idea'),\n",
       " (-0.011895059489782873, 'working'),\n",
       " (-0.0115230475554972, 'unit'),\n",
       " (-0.010950912169649831, 'another'),\n",
       " (-0.010918793208793, 'try'),\n",
       " (-0.010770935491004765, 'going'),\n",
       " (-0.010669132724912933, 'box'),\n",
       " (-0.010576801537792876, 'two'),\n",
       " (-0.01028263431773541, 'piece'),\n",
       " (-0.010219204790778673, 'difficult'),\n",
       " (-0.010147655511657527, 'got'),\n",
       " (-0.010006213059178754, 'completely'),\n",
       " (-0.0098742479801358762, 'trying'),\n",
       " (-0.0093152081919567198, 'worked'),\n",
       " (-0.0092591440431899763, 'cup'),\n",
       " (-0.0091204919107482751, 'open'),\n",
       " (-0.0090665333735902159, 'stay'),\n",
       " (-0.0089357286159934823, 'milk'),\n",
       " (-0.0085020467457573648, 'one'),\n",
       " (-0.0083178298076960894, 'away'),\n",
       " (-0.0081015029526760162, 'picture'),\n",
       " (-0.0077641878083142468, 'times'),\n",
       " (-0.0077322878173709912, 'design'),\n",
       " (-0.0073726305977644116, 'weeks'),\n",
       " (-0.0073534593690945272, 'made'),\n",
       " (-0.0072241994259100951, 'anything'),\n",
       " (-0.0072209880120885648, 'bottom'),\n",
       " (-0.00709205934413514, 'either'),\n",
       " (-0.0070757309816473473, 'ordered'),\n",
       " (-0.0070417199084278062, 'part'),\n",
       " (-0.0070079191164656805, 'top'),\n",
       " (-0.0069528691490619403, 'pump'),\n",
       " (-0.0069101081121460371, 'quality'),\n",
       " (-0.0068705023944023837, 'went'),\n",
       " (-0.0067628971751120251, 'said'),\n",
       " (-0.0064758768730180877, 'tub'),\n",
       " (-0.0064136885850504784, 'right'),\n",
       " (-0.0064095891550037818, 'problem'),\n",
       " (-0.0064009893446270207, 'maybe'),\n",
       " (-0.0063005429622255433, 'water'),\n",
       " (-0.00630012671817946, 'instead'),\n",
       " (-0.0062628315031623043, 'started'),\n",
       " (-0.0060871403023475545, 'child'),\n",
       " (-0.0056549872222576951, 'less'),\n",
       " (-0.0056057334752514136, 'actually'),\n",
       " (-0.0054701615413924338, 'last'),\n",
       " (-0.0054430034643825958, 'buying'),\n",
       " (-0.0052878621959721525, 'new'),\n",
       " (-0.0052058842106071611, 'make'),\n",
       " (-0.0051028797848771106, 'however'),\n",
       " (-0.0051011560842950587, 'came'),\n",
       " (-0.0050412750790588155, 'different'),\n",
       " (-0.005040821636249148, 'bottle'),\n",
       " (-0.0050129173061971254, 'gate'),\n",
       " (-0.0047957952780930185, 'fit'),\n",
       " (-0.0047899094286734034, 'purchased'),\n",
       " (-0.004659737406888566, 'see'),\n",
       " (-0.0043970006745094325, 'much'),\n",
       " (-0.0042664438640147096, 'took'),\n",
       " (-0.0040749701003517042, 'know'),\n",
       " (-0.0038141640936843113, 'wanted'),\n",
       " (-0.0037369438587485202, 'say'),\n",
       " (-0.0035098451575682472, 'give'),\n",
       " (-0.0035048841333352098, 'like'),\n",
       " (-0.0034808852314084314, 'want'),\n",
       " (-0.0034133092891886507, 'together'),\n",
       " (-0.0033188773175082012, 'place'),\n",
       " (-0.0030534547593308705, 'small'),\n",
       " (-0.0030257887493928002, 'head'),\n",
       " (-0.0030186660106671843, 'second'),\n",
       " (-0.0024780569860886575, 'come'),\n",
       " (-0.0022203440239695672, 'getting'),\n",
       " (-0.0022031766056230698, 'month'),\n",
       " (-0.001973209371896165, 'amazon'),\n",
       " (-0.0019419955109540186, 'find'),\n",
       " (-0.0016689531424132912, 'sure'),\n",
       " (-0.0016457514473845504, 'look'),\n",
       " (-0.0013621951573487413, 'months'),\n",
       " (-0.0012476158571719624, 'hold'),\n",
       " (-0.0011449351626316182, 'almost'),\n",
       " (-0.00097621967562233798, 'worth'),\n",
       " (-0.00086139044376869049, 'side'),\n",
       " (-0.00065735036209234278, 'using'),\n",
       " (-0.00051596048462622889, 'chair'),\n",
       " (-0.00033566600034981705, 'bottles'),\n",
       " (-0.00018857228050011142, 'day'),\n",
       " (-0.00018648923566776302, 'high'),\n",
       " (1.3669928550230725e-05, 'looks'),\n",
       " (9.9166682748142343e-05, 'go'),\n",
       " (0.00011988500346780872, 'won'),\n",
       " (0.0002725920624677591, 'really'),\n",
       " (0.00041209171300655653, 'found'),\n",
       " (0.00061012880897526496, 'used'),\n",
       " (0.0008292511599959563, 'cover'),\n",
       " (0.00089923908141546674, 'put'),\n",
       " (0.001222578323510636, 'purchase'),\n",
       " (0.0015136828514065376, 'us'),\n",
       " (0.0015347116392846493, 'looking'),\n",
       " (0.0015547861236921191, 'since'),\n",
       " (0.0017230705102314378, 'toy'),\n",
       " (0.0017456314732199945, 'think'),\n",
       " (0.0021872401621619432, 'long'),\n",
       " (0.0022363904560238454, 'pretty'),\n",
       " (0.0023134923740490212, 'makes'),\n",
       " (0.0026466106385121292, 'many'),\n",
       " (0.002768203906397679, 'good'),\n",
       " (0.0028082590666831477, 'night'),\n",
       " (0.0028153321886465322, 'seems'),\n",
       " (0.0028581898513427404, 'babies'),\n",
       " (0.0028617875161052061, 'bag'),\n",
       " (0.0029803067506612622, 'able'),\n",
       " (0.0030678550129901081, 'enough'),\n",
       " (0.0030814786398540429, 'every'),\n",
       " (0.0033448995950862924, 'though'),\n",
       " (0.003983533639413615, 'seat'),\n",
       " (0.0040203765080997498, 'wish'),\n",
       " (0.0042793828903547682, 'diaper'),\n",
       " (0.0046066187619706071, 'big'),\n",
       " (0.0050174388165654142, 'use'),\n",
       " (0.0051622015728580283, '1'),\n",
       " (0.0055375123640590291, 'cute'),\n",
       " (0.0056747899080565696, 'set'),\n",
       " (0.0057332000284878899, 'year'),\n",
       " (0.0059235361132202735, 'without'),\n",
       " (0.0060027997886387052, 'crib'),\n",
       " (0.0064376680818701891, 'keep'),\n",
       " (0.0067101233146641725, 'take'),\n",
       " (0.0071719072700270926, 'need'),\n",
       " (0.0075089180973143413, 'around'),\n",
       " (0.007999389349248329, 'lot'),\n",
       " (0.0082646669453744614, 'still'),\n",
       " (0.0085828430043465263, 'kids'),\n",
       " (0.009032818138954405, 'easily'),\n",
       " (0.0091784289839843113, 'play'),\n",
       " (0.0095727335435901798, 'price'),\n",
       " (0.0097832410215680614, 'room'),\n",
       " (0.0099091646359727361, 'stroller'),\n",
       " (0.010715966516270305, 'size'),\n",
       " (0.011703160621987422, 'works'),\n",
       " (0.011708248093123262, 'bit'),\n",
       " (0.011944817713693951, 'son'),\n",
       " (0.012018174433365524, 'clean'),\n",
       " (0.012685935745813372, 'car'),\n",
       " (0.013253990081584897, 'comfortable'),\n",
       " (0.014991791565630266, 'best'),\n",
       " (0.015216196422918847, 'also'),\n",
       " (0.015408450108008665, 'recommend'),\n",
       " (0.015565696580423501, 'baby'),\n",
       " (0.01680529588976808, 'happy'),\n",
       " (0.016882471071408715, 'fits'),\n",
       " (0.01757027224560289, 'soft'),\n",
       " (0.017703199905701694, 'daughter'),\n",
       " (0.018408707995268989, 'nice'),\n",
       " (0.020077541034775392, 'old'),\n",
       " (0.029739937104968462, 'perfect'),\n",
       " (0.030135001092107063, 'well'),\n",
       " (0.044976401394906038, 'loves'),\n",
       " (0.045435626308421379, 'little'),\n",
       " (0.064794586802578394, 'easy'),\n",
       " (0.065890762922123258, 'love'),\n",
       " (0.066546084170457709, 'great')]"
      ]
     },
     "execution_count": 338,
     "metadata": {},
     "output_type": "execute_result"
    }
   ],
   "source": [
    "sorted(zip(coefficients,f))"
   ]
  },
  {
   "cell_type": "code",
   "execution_count": 332,
   "metadata": {
    "collapsed": false
   },
   "outputs": [
    {
     "data": {
      "text/plain": [
       "(194L,)"
      ]
     },
     "execution_count": 332,
     "metadata": {},
     "output_type": "execute_result"
    }
   ],
   "source": [
    "coefficients.shape"
   ]
  },
  {
   "cell_type": "code",
   "execution_count": 334,
   "metadata": {
    "collapsed": false
   },
   "outputs": [
    {
     "ename": "AttributeError",
     "evalue": "'list' object has no attribute 'shape'",
     "output_type": "error",
     "traceback": [
      "\u001b[1;31m---------------------------------------------------------------------------\u001b[0m",
      "\u001b[1;31mAttributeError\u001b[0m                            Traceback (most recent call last)",
      "\u001b[1;32m<ipython-input-334-0ef472c72be7>\u001b[0m in \u001b[0;36m<module>\u001b[1;34m()\u001b[0m\n\u001b[1;32m----> 1\u001b[1;33m \u001b[0mfeatures\u001b[0m\u001b[1;33m.\u001b[0m\u001b[0mshape\u001b[0m\u001b[1;33m(\u001b[0m\u001b[1;33m)\u001b[0m\u001b[1;33m\u001b[0m\u001b[0m\n\u001b[0m",
      "\u001b[1;31mAttributeError\u001b[0m: 'list' object has no attribute 'shape'"
     ]
    }
   ],
   "source": []
  },
  {
   "cell_type": "code",
   "execution_count": null,
   "metadata": {
    "collapsed": true
   },
   "outputs": [],
   "source": []
  }
 ],
 "metadata": {
  "kernelspec": {
   "display_name": "Python 2",
   "language": "python",
   "name": "python2"
  },
  "language_info": {
   "codemirror_mode": {
    "name": "ipython",
    "version": 2
   },
   "file_extension": ".py",
   "mimetype": "text/x-python",
   "name": "python",
   "nbconvert_exporter": "python",
   "pygments_lexer": "ipython2",
   "version": "2.7.11"
  }
 },
 "nbformat": 4,
 "nbformat_minor": 0
}
