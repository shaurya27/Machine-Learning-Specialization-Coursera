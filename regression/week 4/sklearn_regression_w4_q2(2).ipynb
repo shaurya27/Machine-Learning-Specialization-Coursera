{
 "cells": [
  {
   "cell_type": "code",
   "execution_count": 1,
   "metadata": {
    "collapsed": true
   },
   "outputs": [],
   "source": [
    "import numpy as np\n",
    "import pandas as pd\n",
    "import matplotlib.pyplot as plt\n",
    "%matplotlib inline"
   ]
  },
  {
   "cell_type": "code",
   "execution_count": 2,
   "metadata": {
    "collapsed": true
   },
   "outputs": [],
   "source": [
    "def polynomial_sframe(feature,degree):\n",
    "    poly_frame=pd.DataFrame()\n",
    "    poly_frame['power_1']=feature\n",
    "    for power in range(2,degree+1):\n",
    "        name='power_'+str(power)\n",
    "        poly_frame[name]=feature.apply(lambda x: x**power)\n",
    "    return(poly_frame)"
   ]
  },
  {
   "cell_type": "code",
   "execution_count": 3,
   "metadata": {
    "collapsed": true
   },
   "outputs": [],
   "source": [
    "train_valid_shuffled = pd.read_csv('wk3_kc_house_train_valid_shuffled.csv')"
   ]
  },
  {
   "cell_type": "code",
   "execution_count": 4,
   "metadata": {
    "collapsed": true
   },
   "outputs": [],
   "source": [
    "train_valid_shuffled['sqft_living']=train_valid_shuffled['sqft_living'].astype(float)\n",
    "train_valid_shuffled=train_valid_shuffled.sort('sqft_living')"
   ]
  },
  {
   "cell_type": "code",
   "execution_count": 5,
   "metadata": {
    "collapsed": true
   },
   "outputs": [],
   "source": [
    "valid15_shuffled=polynomial_sframe(train_valid_shuffled['sqft_living'],15)"
   ]
  },
  {
   "cell_type": "code",
   "execution_count": 6,
   "metadata": {
    "collapsed": true
   },
   "outputs": [],
   "source": [
    "def get_residual_sum_of_squares(model, f, output):\n",
    "    \"\"\"\n",
    "    Purpose: Compute Residual Sum of Squares (RSS)\n",
    "    Input  : features (x), output (y) and estimated model \n",
    "    Output : Residual sum of squares = sum((actual output (y) - predicted output)^2)\n",
    "    \"\"\"\n",
    "    RSS = np.sum((output -f)** 2)\n",
    "    return(RSS)"
   ]
  },
  {
   "cell_type": "code",
   "execution_count": 69,
   "metadata": {
    "collapsed": false
   },
   "outputs": [],
   "source": [
    "def k_fold_cross_validation(k,penalties,data, output):\n",
    "    m={}\n",
    "    for penalty in penalties:\n",
    "        print penalty\n",
    "        l2_penalty=penalty\n",
    "        names='rss_dict_'+str(penalty)\n",
    "        names={}\n",
    "        n = len(data)\n",
    "        validation=0.0\n",
    "        for i in range(k):\n",
    "            start =(n*i)/k\n",
    "            end = (n*(i+1))/k-1\n",
    "            x=data[0:start].append(data[end+1:n])\n",
    "            y=output[0:start].append(output[end+1:n])\n",
    "            model=Ridge(alpha=l2_penalty,normalize=True)\n",
    "            model.fit(x,y)\n",
    "            name='rss_'+str(i)\n",
    "            #rss=(metrics.mean_squared_error(output[start:end+1],model.predict(data[start:end+1])))*(n/k)\n",
    "            rss=get_residual_sum_of_squares(model, model.predict(data[start:end+1]),output[start:end+1])\n",
    "            validation+=rss\n",
    "        #return(validation)\n",
    "            names[name]=rss\n",
    "        m[str(penalty)]=names\n",
    "    return(m)"
   ]
  },
  {
   "cell_type": "code",
   "execution_count": 60,
   "metadata": {
    "collapsed": false
   },
   "outputs": [],
   "source": [
    "from sklearn.linear_model import Ridge\n",
    "from sklearn import metrics"
   ]
  },
  {
   "cell_type": "code",
   "execution_count": 61,
   "metadata": {
    "collapsed": true
   },
   "outputs": [],
   "source": [
    "penalties=np.logspace(3, 9, num=13)"
   ]
  },
  {
   "cell_type": "code",
   "execution_count": 68,
   "metadata": {
    "collapsed": false
   },
   "outputs": [
    {
     "data": {
      "text/plain": [
       "3162.2776601683795"
      ]
     },
     "execution_count": 68,
     "metadata": {},
     "output_type": "execute_result"
    }
   ],
   "source": [
    "penalties[1]"
   ]
  },
  {
   "cell_type": "code",
   "execution_count": 70,
   "metadata": {
    "collapsed": false
   },
   "outputs": [
    {
     "name": "stdout",
     "output_type": "stream",
     "text": [
      "1000.0\n",
      "3162.27766017\n",
      "10000.0\n",
      "31622.7766017\n",
      "100000.0\n",
      "316227.766017\n",
      "1000000.0\n",
      "3162277.66017\n",
      "10000000.0\n",
      "31622776.6017\n",
      "100000000.0\n",
      "316227766.017\n",
      "1000000000.0\n"
     ]
    }
   ],
   "source": [
    "d=k_fold_cross_validation(10,penalties, valid15_shuffled, train_valid_shuffled['price'])"
   ]
  },
  {
   "cell_type": "code",
   "execution_count": 71,
   "metadata": {
    "collapsed": false
   },
   "outputs": [
    {
     "data": {
      "text/plain": [
       "{'1000.0': {'rss_0': 157039434848896.75,\n",
       "  'rss_1': 117628798362295.94,\n",
       "  'rss_2': 98233206898076.2,\n",
       "  'rss_3': 83780534104339.36,\n",
       "  'rss_4': 78273280760867.9,\n",
       "  'rss_5': 76526635226669.7,\n",
       "  'rss_6': 81185387088474.08,\n",
       "  'rss_7': 120690217136337.36,\n",
       "  'rss_8': 261227794967515.72,\n",
       "  'rss_9': 2.6799981220621565e+24},\n",
       " '10000.0': {'rss_0': 157730911298608.2,\n",
       "  'rss_1': 118066421793945.23,\n",
       "  'rss_2': 98542509343318.73,\n",
       "  'rss_3': 83968527415158.33,\n",
       "  'rss_4': 78391537712804.8,\n",
       "  'rss_5': 76564674718601.97,\n",
       "  'rss_6': 81189048998797.08,\n",
       "  'rss_7': 120749332009225.39,\n",
       "  'rss_8': 261660447908666.16,\n",
       "  'rss_9': 2.760118120647343e+22},\n",
       " '100000.0': {'rss_0': 157800433548127.6,\n",
       "  'rss_1': 118110425727168.44,\n",
       "  'rss_2': 98573611471352.22,\n",
       "  'rss_3': 83987435076931.92,\n",
       "  'rss_4': 78403431663549.38,\n",
       "  'rss_5': 76568502905258.14,\n",
       "  'rss_6': 81189417490719.5,\n",
       "  'rss_7': 120755268983754.72,\n",
       "  'rss_8': 261703925274319.5,\n",
       "  'rss_9': 2.76735229010177e+20},\n",
       " '1000000.0': {'rss_0': 157807389546811.97,\n",
       "  'rss_1': 118114828554674.17,\n",
       "  'rss_2': 98576723416297.0,\n",
       "  'rss_3': 83989326935069.64,\n",
       "  'rss_4': 78404621746877.84,\n",
       "  'rss_5': 76568885968528.6,\n",
       "  'rss_6': 81189454363121.53,\n",
       "  'rss_7': 120755862937300.7,\n",
       "  'rss_8': 261708275145622.47,\n",
       "  'rss_9': 2.7601720485400806e+18},\n",
       " '10000000.0': {'rss_0': 157808085184445.66,\n",
       "  'rss_1': 118115268861784.98,\n",
       "  'rss_2': 98577034628125.67,\n",
       "  'rss_3': 83989516131812.11,\n",
       "  'rss_4': 78404740762099.06,\n",
       "  'rss_5': 76568924277304.02,\n",
       "  'rss_6': 81189458050594.22,\n",
       "  'rss_7': 120755922335217.61,\n",
       "  'rss_8': 261708710154114.25,\n",
       "  'rss_9': 2.843910523294683e+16},\n",
       " '100000000.0': {'rss_0': 157808154748587.2,\n",
       "  'rss_1': 118115312892739.78,\n",
       "  'rss_2': 98577065749482.28,\n",
       "  'rss_3': 83989535051595.78,\n",
       "  'rss_4': 78404752663689.88,\n",
       "  'rss_5': 76568928108205.97,\n",
       "  'rss_6': 81189458419343.62,\n",
       "  'rss_7': 120755928275035.02,\n",
       "  'rss_8': 261708753655176.72,\n",
       "  'rss_9': 2004795139833543.2},\n",
       " '1000000000.0': {'rss_0': 157808161705004.66,\n",
       "  'rss_1': 118115317295837.31,\n",
       "  'rss_2': 98577068861620.11,\n",
       "  'rss_3': 83989536943574.98,\n",
       "  'rss_4': 78404753853849.77,\n",
       "  'rss_5': 76568928491296.4,\n",
       "  'rss_6': 81189458456218.58,\n",
       "  'rss_7': 120755928869017.05,\n",
       "  'rss_8': 261708758005285.84,\n",
       "  'rss_9': 1828835247577590.0},\n",
       " '3162.27766017': {'rss_0': 157564161749876.2,\n",
       "  'rss_1': 117960881457371.47,\n",
       "  'rss_2': 98467913935224.34,\n",
       "  'rss_3': 83923182121658.97,\n",
       "  'rss_4': 78363013143795.64,\n",
       "  'rss_5': 76555495507688.08,\n",
       "  'rss_6': 81188165405723.06,\n",
       "  'rss_7': 120735087248344.27,\n",
       "  'rss_8': 261556150514251.06,\n",
       "  'rss_9': 2.7406292017254946e+23},\n",
       " '31622.7766017': {'rss_0': 157783724353389.66,\n",
       "  'rss_1': 118099849608681.55,\n",
       "  'rss_2': 98566136215911.98,\n",
       "  'rss_3': 83982890641550.89,\n",
       "  'rss_4': 78400572963548.3,\n",
       "  'rss_5': 76567582765871.7,\n",
       "  'rss_6': 81189328920899.22,\n",
       "  'rss_7': 120753842182484.88,\n",
       "  'rss_8': 261693476161983.44,\n",
       "  'rss_9': 2.7661092834598343e+21},\n",
       " '316227.766017': {'rss_0': 157805718284084.75,\n",
       "  'rss_1': 118113770721412.5,\n",
       "  'rss_2': 98575975733195.27,\n",
       "  'rss_3': 83988872392204.19,\n",
       "  'rss_4': 78404335814270.52,\n",
       "  'rss_5': 76568793932338.28,\n",
       "  'rss_6': 81189445504028.23,\n",
       "  'rss_7': 120755720233884.48,\n",
       "  'rss_8': 261707230040227.53,\n",
       "  'rss_9': 2.7657824023619965e+19},\n",
       " '3162277.66017': {'rss_0': 157807918054739.78,\n",
       "  'rss_1': 118115163076244.39,\n",
       "  'rss_2': 98576959858239.8,\n",
       "  'rss_3': 83989470676532.14,\n",
       "  'rss_4': 78404712168211.77,\n",
       "  'rss_5': 76568915073462.47,\n",
       "  'rss_6': 81189457164663.55,\n",
       "  'rss_7': 120755908064643.1,\n",
       "  'rss_8': 261708605641632.94,\n",
       "  'rss_9': 2.75317335275295e+17},\n",
       " '31622776.6017': {'rss_0': 157808138035581.8,\n",
       "  'rss_1': 118115302314163.27,\n",
       "  'rss_2': 98577058272478.14,\n",
       "  'rss_3': 83989530506057.55,\n",
       "  'rss_4': 78404749804294.9,\n",
       "  'rss_5': 76568927187819.61,\n",
       "  'rss_6': 81189458330750.33,\n",
       "  'rss_7': 120755926847975.12,\n",
       "  'rss_8': 261708743203909.94,\n",
       "  'rss_9': 4261257258219905.5},\n",
       " '316227766.017': {'rss_0': 157808160033704.3,\n",
       "  'rss_1': 118115316237980.05,\n",
       "  'rss_2': 98577068113919.12,\n",
       "  'rss_3': 83989536489020.89,\n",
       "  'rss_4': 78404753567910.31,\n",
       "  'rss_5': 76568928399257.86,\n",
       "  'rss_6': 81189458447359.28,\n",
       "  'rss_7': 120755928726310.88,\n",
       "  'rss_8': 261708756960158.56,\n",
       "  'rss_9': 1830165359168599.0}}"
      ]
     },
     "execution_count": 71,
     "metadata": {},
     "output_type": "execute_result"
    }
   ],
   "source": [
    "d"
   ]
  },
  {
   "cell_type": "code",
   "execution_count": 64,
   "metadata": {
    "collapsed": true
   },
   "outputs": [],
   "source": [
    "penalty_dataframe=pd.DataFrame(d)"
   ]
  },
  {
   "cell_type": "code",
   "execution_count": 65,
   "metadata": {
    "collapsed": false
   },
   "outputs": [
    {
     "data": {
      "text/html": [
       "<div>\n",
       "<table border=\"1\" class=\"dataframe\">\n",
       "  <thead>\n",
       "    <tr style=\"text-align: right;\">\n",
       "      <th></th>\n",
       "      <th>1000.0</th>\n",
       "      <th>10000.0</th>\n",
       "      <th>100000.0</th>\n",
       "      <th>1000000.0</th>\n",
       "      <th>10000000.0</th>\n",
       "      <th>100000000.0</th>\n",
       "      <th>1000000000.0</th>\n",
       "      <th>3162.27766017</th>\n",
       "      <th>31622.7766017</th>\n",
       "      <th>316227.766017</th>\n",
       "      <th>3162277.66017</th>\n",
       "      <th>31622776.6017</th>\n",
       "      <th>316227766.017</th>\n",
       "    </tr>\n",
       "  </thead>\n",
       "  <tbody>\n",
       "    <tr>\n",
       "      <th>rss_0</th>\n",
       "      <td>1.570394e+14</td>\n",
       "      <td>1.577309e+14</td>\n",
       "      <td>1.578004e+14</td>\n",
       "      <td>1.578074e+14</td>\n",
       "      <td>1.578081e+14</td>\n",
       "      <td>1.578082e+14</td>\n",
       "      <td>1.578082e+14</td>\n",
       "      <td>1.575642e+14</td>\n",
       "      <td>1.577837e+14</td>\n",
       "      <td>1.578057e+14</td>\n",
       "      <td>1.578079e+14</td>\n",
       "      <td>1.578081e+14</td>\n",
       "      <td>1.578082e+14</td>\n",
       "    </tr>\n",
       "    <tr>\n",
       "      <th>rss_1</th>\n",
       "      <td>1.176288e+14</td>\n",
       "      <td>1.180664e+14</td>\n",
       "      <td>1.181104e+14</td>\n",
       "      <td>1.181148e+14</td>\n",
       "      <td>1.181153e+14</td>\n",
       "      <td>1.181153e+14</td>\n",
       "      <td>1.181153e+14</td>\n",
       "      <td>1.179609e+14</td>\n",
       "      <td>1.180998e+14</td>\n",
       "      <td>1.181138e+14</td>\n",
       "      <td>1.181152e+14</td>\n",
       "      <td>1.181153e+14</td>\n",
       "      <td>1.181153e+14</td>\n",
       "    </tr>\n",
       "    <tr>\n",
       "      <th>rss_2</th>\n",
       "      <td>9.823321e+13</td>\n",
       "      <td>9.854251e+13</td>\n",
       "      <td>9.857361e+13</td>\n",
       "      <td>9.857672e+13</td>\n",
       "      <td>9.857703e+13</td>\n",
       "      <td>9.857707e+13</td>\n",
       "      <td>9.857707e+13</td>\n",
       "      <td>9.846791e+13</td>\n",
       "      <td>9.856614e+13</td>\n",
       "      <td>9.857598e+13</td>\n",
       "      <td>9.857696e+13</td>\n",
       "      <td>9.857706e+13</td>\n",
       "      <td>9.857707e+13</td>\n",
       "    </tr>\n",
       "    <tr>\n",
       "      <th>rss_3</th>\n",
       "      <td>8.378053e+13</td>\n",
       "      <td>8.396853e+13</td>\n",
       "      <td>8.398744e+13</td>\n",
       "      <td>8.398933e+13</td>\n",
       "      <td>8.398952e+13</td>\n",
       "      <td>8.398954e+13</td>\n",
       "      <td>8.398954e+13</td>\n",
       "      <td>8.392318e+13</td>\n",
       "      <td>8.398289e+13</td>\n",
       "      <td>8.398887e+13</td>\n",
       "      <td>8.398947e+13</td>\n",
       "      <td>8.398953e+13</td>\n",
       "      <td>8.398954e+13</td>\n",
       "    </tr>\n",
       "    <tr>\n",
       "      <th>rss_4</th>\n",
       "      <td>7.827328e+13</td>\n",
       "      <td>7.839154e+13</td>\n",
       "      <td>7.840343e+13</td>\n",
       "      <td>7.840462e+13</td>\n",
       "      <td>7.840474e+13</td>\n",
       "      <td>7.840475e+13</td>\n",
       "      <td>7.840475e+13</td>\n",
       "      <td>7.836301e+13</td>\n",
       "      <td>7.840057e+13</td>\n",
       "      <td>7.840434e+13</td>\n",
       "      <td>7.840471e+13</td>\n",
       "      <td>7.840475e+13</td>\n",
       "      <td>7.840475e+13</td>\n",
       "    </tr>\n",
       "    <tr>\n",
       "      <th>rss_5</th>\n",
       "      <td>7.652664e+13</td>\n",
       "      <td>7.656467e+13</td>\n",
       "      <td>7.656850e+13</td>\n",
       "      <td>7.656889e+13</td>\n",
       "      <td>7.656892e+13</td>\n",
       "      <td>7.656893e+13</td>\n",
       "      <td>7.656893e+13</td>\n",
       "      <td>7.655550e+13</td>\n",
       "      <td>7.656758e+13</td>\n",
       "      <td>7.656879e+13</td>\n",
       "      <td>7.656892e+13</td>\n",
       "      <td>7.656893e+13</td>\n",
       "      <td>7.656893e+13</td>\n",
       "    </tr>\n",
       "    <tr>\n",
       "      <th>rss_6</th>\n",
       "      <td>8.118539e+13</td>\n",
       "      <td>8.118905e+13</td>\n",
       "      <td>8.118942e+13</td>\n",
       "      <td>8.118945e+13</td>\n",
       "      <td>8.118946e+13</td>\n",
       "      <td>8.118946e+13</td>\n",
       "      <td>8.118946e+13</td>\n",
       "      <td>8.118817e+13</td>\n",
       "      <td>8.118933e+13</td>\n",
       "      <td>8.118945e+13</td>\n",
       "      <td>8.118946e+13</td>\n",
       "      <td>8.118946e+13</td>\n",
       "      <td>8.118946e+13</td>\n",
       "    </tr>\n",
       "    <tr>\n",
       "      <th>rss_7</th>\n",
       "      <td>1.206902e+14</td>\n",
       "      <td>1.207493e+14</td>\n",
       "      <td>1.207553e+14</td>\n",
       "      <td>1.207559e+14</td>\n",
       "      <td>1.207559e+14</td>\n",
       "      <td>1.207559e+14</td>\n",
       "      <td>1.207559e+14</td>\n",
       "      <td>1.207351e+14</td>\n",
       "      <td>1.207538e+14</td>\n",
       "      <td>1.207557e+14</td>\n",
       "      <td>1.207559e+14</td>\n",
       "      <td>1.207559e+14</td>\n",
       "      <td>1.207559e+14</td>\n",
       "    </tr>\n",
       "    <tr>\n",
       "      <th>rss_8</th>\n",
       "      <td>2.612278e+14</td>\n",
       "      <td>2.616604e+14</td>\n",
       "      <td>2.617039e+14</td>\n",
       "      <td>2.617083e+14</td>\n",
       "      <td>2.617087e+14</td>\n",
       "      <td>2.617088e+14</td>\n",
       "      <td>2.617088e+14</td>\n",
       "      <td>2.615562e+14</td>\n",
       "      <td>2.616935e+14</td>\n",
       "      <td>2.617072e+14</td>\n",
       "      <td>2.617086e+14</td>\n",
       "      <td>2.617087e+14</td>\n",
       "      <td>2.617088e+14</td>\n",
       "    </tr>\n",
       "    <tr>\n",
       "      <th>rss_9</th>\n",
       "      <td>2.679998e+24</td>\n",
       "      <td>2.760118e+22</td>\n",
       "      <td>2.767352e+20</td>\n",
       "      <td>2.760172e+18</td>\n",
       "      <td>2.843911e+16</td>\n",
       "      <td>2.004795e+15</td>\n",
       "      <td>1.828835e+15</td>\n",
       "      <td>2.740629e+23</td>\n",
       "      <td>2.766109e+21</td>\n",
       "      <td>2.765782e+19</td>\n",
       "      <td>2.753173e+17</td>\n",
       "      <td>4.261257e+15</td>\n",
       "      <td>1.830165e+15</td>\n",
       "    </tr>\n",
       "  </tbody>\n",
       "</table>\n",
       "</div>"
      ],
      "text/plain": [
       "             1000.0       10000.0      100000.0     1000000.0    10000000.0  \\\n",
       "rss_0  1.570394e+14  1.577309e+14  1.578004e+14  1.578074e+14  1.578081e+14   \n",
       "rss_1  1.176288e+14  1.180664e+14  1.181104e+14  1.181148e+14  1.181153e+14   \n",
       "rss_2  9.823321e+13  9.854251e+13  9.857361e+13  9.857672e+13  9.857703e+13   \n",
       "rss_3  8.378053e+13  8.396853e+13  8.398744e+13  8.398933e+13  8.398952e+13   \n",
       "rss_4  7.827328e+13  7.839154e+13  7.840343e+13  7.840462e+13  7.840474e+13   \n",
       "rss_5  7.652664e+13  7.656467e+13  7.656850e+13  7.656889e+13  7.656892e+13   \n",
       "rss_6  8.118539e+13  8.118905e+13  8.118942e+13  8.118945e+13  8.118946e+13   \n",
       "rss_7  1.206902e+14  1.207493e+14  1.207553e+14  1.207559e+14  1.207559e+14   \n",
       "rss_8  2.612278e+14  2.616604e+14  2.617039e+14  2.617083e+14  2.617087e+14   \n",
       "rss_9  2.679998e+24  2.760118e+22  2.767352e+20  2.760172e+18  2.843911e+16   \n",
       "\n",
       "        100000000.0  1000000000.0  3162.27766017  31622.7766017  \\\n",
       "rss_0  1.578082e+14  1.578082e+14   1.575642e+14   1.577837e+14   \n",
       "rss_1  1.181153e+14  1.181153e+14   1.179609e+14   1.180998e+14   \n",
       "rss_2  9.857707e+13  9.857707e+13   9.846791e+13   9.856614e+13   \n",
       "rss_3  8.398954e+13  8.398954e+13   8.392318e+13   8.398289e+13   \n",
       "rss_4  7.840475e+13  7.840475e+13   7.836301e+13   7.840057e+13   \n",
       "rss_5  7.656893e+13  7.656893e+13   7.655550e+13   7.656758e+13   \n",
       "rss_6  8.118946e+13  8.118946e+13   8.118817e+13   8.118933e+13   \n",
       "rss_7  1.207559e+14  1.207559e+14   1.207351e+14   1.207538e+14   \n",
       "rss_8  2.617088e+14  2.617088e+14   2.615562e+14   2.616935e+14   \n",
       "rss_9  2.004795e+15  1.828835e+15   2.740629e+23   2.766109e+21   \n",
       "\n",
       "       316227.766017  3162277.66017  31622776.6017  316227766.017  \n",
       "rss_0   1.578057e+14   1.578079e+14   1.578081e+14   1.578082e+14  \n",
       "rss_1   1.181138e+14   1.181152e+14   1.181153e+14   1.181153e+14  \n",
       "rss_2   9.857598e+13   9.857696e+13   9.857706e+13   9.857707e+13  \n",
       "rss_3   8.398887e+13   8.398947e+13   8.398953e+13   8.398954e+13  \n",
       "rss_4   7.840434e+13   7.840471e+13   7.840475e+13   7.840475e+13  \n",
       "rss_5   7.656879e+13   7.656892e+13   7.656893e+13   7.656893e+13  \n",
       "rss_6   8.118945e+13   8.118946e+13   8.118946e+13   8.118946e+13  \n",
       "rss_7   1.207557e+14   1.207559e+14   1.207559e+14   1.207559e+14  \n",
       "rss_8   2.617072e+14   2.617086e+14   2.617087e+14   2.617088e+14  \n",
       "rss_9   2.765782e+19   2.753173e+17   4.261257e+15   1.830165e+15  "
      ]
     },
     "execution_count": 65,
     "metadata": {},
     "output_type": "execute_result"
    }
   ],
   "source": [
    "penalty_dataframe"
   ]
  },
  {
   "cell_type": "code",
   "execution_count": 66,
   "metadata": {
    "collapsed": false
   },
   "outputs": [
    {
     "data": {
      "text/plain": [
       "1000.0           2.679998e+23\n",
       "10000.0          2.760118e+21\n",
       "100000.0         2.767363e+19\n",
       "1000000.0        2.761249e+17\n",
       "10000000.0       2.951622e+15\n",
       "100000000.0      3.081913e+14\n",
       "1000000000.0     2.905953e+14\n",
       "3162.27766017    2.740629e+22\n",
       "31622.7766017    2.766110e+20\n",
       "316227.766017    2.765890e+18\n",
       "3162277.66017    2.763945e+16\n",
       "31622776.6017    5.338375e+14\n",
       "316227766.017    2.907283e+14\n",
       "dtype: float64"
      ]
     },
     "execution_count": 66,
     "metadata": {},
     "output_type": "execute_result"
    }
   ],
   "source": [
    "(penalty_dataframe.sum(axis=0))/10"
   ]
  },
  {
   "cell_type": "code",
   "execution_count": null,
   "metadata": {
    "collapsed": true
   },
   "outputs": [],
   "source": []
  },
  {
   "cell_type": "code",
   "execution_count": null,
   "metadata": {
    "collapsed": true
   },
   "outputs": [],
   "source": []
  }
 ],
 "metadata": {
  "kernelspec": {
   "display_name": "Python 2",
   "language": "python",
   "name": "python2"
  },
  "language_info": {
   "codemirror_mode": {
    "name": "ipython",
    "version": 2
   },
   "file_extension": ".py",
   "mimetype": "text/x-python",
   "name": "python",
   "nbconvert_exporter": "python",
   "pygments_lexer": "ipython2",
   "version": "2.7.11"
  }
 },
 "nbformat": 4,
 "nbformat_minor": 0
}
