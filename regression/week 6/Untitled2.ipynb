{
 "cells": [
  {
   "cell_type": "code",
   "execution_count": 5,
   "metadata": {
    "collapsed": true
   },
   "outputs": [],
   "source": [
    "\"\"\"\n",
    "k-Nearest Neighbours Regression\n",
    "\"\"\"\n",
    "\n",
    "# Imports\n",
    "import numpy as np\n",
    "\n",
    "# Functions\n",
    "def get_data(data_frame, features, output):\n",
    "    \"\"\"\n",
    "    Purpose: Extract features and prepare a feature matrix\n",
    "             Set the first feature x0 = 1\n",
    "    Input  : Original Dataframe, list of feature variables, output variable\n",
    "    Output : Feature matrix array, output array\n",
    "    \"\"\"\n",
    "    data_frame['constant'] = 1.0\n",
    "    features = ['constant'] + features\n",
    "    features_matrix = np.array(data_frame[features])\n",
    "    if output != None:    \n",
    "        output_array = np.array(data_frame[output])\n",
    "    else:\n",
    "        output_array = []   \n",
    "    return(features_matrix, output_array.reshape((len(output_array))))\n",
    "\n",
    "def normalize(features):\n",
    "    \"\"\"\n",
    "    Purpose: Normalize feature matrix, each column of the matrix is a feature\n",
    "    Input  : Unnormalized feature matrix\n",
    "    Output : Normalized feature matrix, feature norms\n",
    "    \"\"\"\n",
    "    norms = np.linalg.norm(features, axis=0)\n",
    "    normalized_features = features/norms\n",
    "    return (normalized_features, norms)\n",
    "\n",
    "def compute_distances(features_instances, features_query):\n",
    "    \"\"\"\n",
    "    Purpose: Compute distances between normalized training features\n",
    "             and a query feature\n",
    "    Input  : Normalized training features and normalized\n",
    "             query features\n",
    "    Output : Distances between the training and the query features\n",
    "    \"\"\"\n",
    "    diff = features_instances - features_query\n",
    "    distances = np.sqrt(np.sum(diff ** 2, axis=1))\n",
    "    return(distances)\n",
    "    \n",
    "def k_nearest_neighbors(k, features_train, features_query):\n",
    "    \"\"\"\n",
    "    Purpose: Determine the k nearest neighbours for one query\n",
    "    Input  : Number of neighbours, normalized training features\n",
    "             and query feature\n",
    "    Output : \n",
    "    \"\"\"\n",
    "    distances = compute_distances(features_train, features_query)\n",
    "    sorted_distances_idx = np.argsort(distances)\n",
    "    neighbors = sorted_distances_idx[0:k]\n",
    "    return(neighbors)\n",
    "    \n",
    "def predict_output_of_query(k, features_train, output_train, features_query):\n",
    "    \"\"\"\n",
    "    Purpose: Predict the outputs for one query\n",
    "    Input  : Number of neighbours, normalized training features,\n",
    "             training output and normalized query features\n",
    "    Output : Predictions for query features\n",
    "    \"\"\"\n",
    "    k_nearest = k_nearest_neighbors(k, features_train, features_query)\n",
    "    prediction = np.mean(output_train[k_nearest])\n",
    "    return(prediction)\n",
    "\n",
    "def predict(k, features_train, output_train, features_query):\n",
    "    \"\"\"\n",
    "    Purpose: Predict the outputs for a multiple queries\n",
    "    Input  : Number of neighbours, normalized training features,\n",
    "             training output and normalized query features\n",
    "    Output : Predictions for query features\n",
    "    \"\"\"\n",
    "    predictions = np.zeros((features_query.shape[0]))\n",
    "    for idx in range(features_query.shape[0]):\n",
    "        predictions[idx] = predict_output_of_query(k, features_train, output_train, features_query[idx])\n",
    "    return predictions\n",
    "\n",
    "def get_residual_sum_of_squares(predictions, output):\n",
    "    \"\"\"\n",
    "    Purpose: Compute residual sum of squares\n",
    "    Input  : Predicted outputs and actual outputs\n",
    "    Output : Residual sum of squares\n",
    "    \"\"\"\n",
    "    residual = np.sum((predictions - output) ** 2)\n",
    "    return(residual)"
   ]
  },
  {
   "cell_type": "code",
   "execution_count": 6,
   "metadata": {
    "collapsed": false
   },
   "outputs": [],
   "source": [
    "import numpy as np\n",
    "import pandas as pd\n",
    "#import k_nearest_neighbours_regression as knn\n",
    "\n",
    "# Data type for house sales data\n",
    "dtype_dict = {'bathrooms':float, 'waterfront':int, 'sqft_above':int,\n",
    "              'sqft_living15':float, 'grade':int, 'yr_renovated':int,\n",
    "              'price':float, 'bedrooms':float, 'zipcode':str,\n",
    "              'long':float, 'sqft_lot15':float, 'sqft_living':float,\n",
    "              'floors':float, 'condition':int, 'lat':float, 'date':str,\n",
    "              'sqft_basement':int, 'yr_built':int, 'id':str,\n",
    "              'sqft_lot':int, 'view':int}\n",
    "\n",
    "# Read house sales data\n",
    "train = pd.read_csv('kc_house_data_small_train.csv', dtype=dtype_dict)\n",
    "valid = pd.read_csv('kc_house_data_validation.csv', dtype=dtype_dict)\n",
    "test = pd.read_csv('kc_house_data_small_test.csv', dtype=dtype_dict)\n",
    "# Feature list\n",
    "feature_list = ['bedrooms', 'bathrooms', 'sqft_living',\n",
    "                'sqft_lot', 'floors', 'waterfront',  \n",
    "                'view', 'condition', 'grade', 'sqft_above',  \n",
    "                'sqft_basement', 'yr_built', 'yr_renovated',  \n",
    "                'lat', 'long', 'sqft_living15', 'sqft_lot15']\n",
    "\n",
    "# Extract training, validation and test data                \n",
    "features_train, output_train = get_data(train, feature_list, 'price')\n",
    "features_test, output_test = get_data(test, feature_list, 'price')\n",
    "features_valid, output_valid = get_data(valid, feature_list, 'price')\n",
    "\n",
    "# Normalize training, validation and test data\n",
    "norm_features_train, norms = normalize(features_train)\n",
    "norm_features_test = features_test / norms\n",
    "norm_features_valid = features_valid / norms\n"
   ]
  },
  {
   "cell_type": "code",
   "execution_count": 7,
   "metadata": {
    "collapsed": false
   },
   "outputs": [
    {
     "name": "stdout",
     "output_type": "stream",
     "text": [
      "0.059723593714\n"
     ]
    }
   ],
   "source": [
    "dist_q_test_10 = np.sqrt(np.sum((norm_features_test[0] - norm_features_train[9]) ** 2.0))\n",
    "print dist_q_test_10"
   ]
  },
  {
   "cell_type": "code",
   "execution_count": 20,
   "metadata": {
    "collapsed": false
   },
   "outputs": [
    {
     "data": {
      "text/plain": [
       "array([[ 0.01345102,  0.01551285,  0.01807473, ..., -0.01346922,\n",
       "         0.01375926,  0.0016225 ],\n",
       "       [ 0.01345102,  0.01551285,  0.00602491, ..., -0.0134657 ,\n",
       "         0.01035159,  0.00174419],\n",
       "       [ 0.01345102,  0.01163464,  0.01054359, ..., -0.01346141,\n",
       "         0.00977293,  0.00252907],\n",
       "       ..., \n",
       "       [ 0.01345102,  0.00775643,  0.01355605, ..., -0.01343598,\n",
       "         0.00797265,  0.00030422],\n",
       "       [ 0.01345102,  0.01551285,  0.02108718, ..., -0.01344908,\n",
       "         0.01832425,  0.00231531],\n",
       "       [ 0.01345102,  0.01163464,  0.01054359, ..., -0.01342817,\n",
       "         0.00848702,  0.00458478]])"
      ]
     },
     "execution_count": 20,
     "metadata": {},
     "output_type": "execute_result"
    }
   ],
   "source": [
    "norm_features_test"
   ]
  },
  {
   "cell_type": "code",
   "execution_count": null,
   "metadata": {
    "collapsed": true
   },
   "outputs": [],
   "source": []
  }
 ],
 "metadata": {
  "kernelspec": {
   "display_name": "Python 2",
   "language": "python",
   "name": "python2"
  },
  "language_info": {
   "codemirror_mode": {
    "name": "ipython",
    "version": 2
   },
   "file_extension": ".py",
   "mimetype": "text/x-python",
   "name": "python",
   "nbconvert_exporter": "python",
   "pygments_lexer": "ipython2",
   "version": "2.7.11"
  }
 },
 "nbformat": 4,
 "nbformat_minor": 0
}
