{
 "cells": [
  {
   "cell_type": "code",
   "execution_count": 76,
   "metadata": {
    "collapsed": false
   },
   "outputs": [],
   "source": [
    "import numpy as np \n",
    "import pandas as pd\n",
    "import matplotlib.pyplot as plt\n",
    "%matplotlib inline"
   ]
  },
  {
   "cell_type": "code",
   "execution_count": 274,
   "metadata": {
    "collapsed": false
   },
   "outputs": [],
   "source": [
    "data=pd.read_csv('kc_house_data.csv')\n",
    "train_data=pd.read_csv('wk3_kc_house_train_data.csv')\n",
    "test_data=pd.read_csv('wk3_kc_house_test_data.csv')\n",
    "valid_data=pd.read_csv('wk3_kc_house_valid_data.csv')\n",
    "set1_data=pd.read_csv('wk3_kc_house_set_1_data.csv')\n",
    "set2_data=pd.read_csv('wk3_kc_house_set_2_data.csv')\n",
    "set3_data=pd.read_csv('wk3_kc_house_set_3_data.csv')\n",
    "set4_data=pd.read_csv('wk3_kc_house_set_4_data.csv')"
   ]
  },
  {
   "cell_type": "code",
   "execution_count": 210,
   "metadata": {
    "collapsed": false
   },
   "outputs": [
    {
     "data": {
      "text/plain": [
       "(21613, 21)"
      ]
     },
     "execution_count": 210,
     "metadata": {},
     "output_type": "execute_result"
    }
   ],
   "source": [
    "data.shape"
   ]
  },
  {
   "cell_type": "code",
   "execution_count": 305,
   "metadata": {
    "collapsed": false
   },
   "outputs": [],
   "source": [
    "train_data['sqft_living']=train_data['sqft_living'].astype(float)\n",
    "valid_data['sqft_living']=valid_data['sqft_living'].astype(float)\n",
    "data['sqft_living']=data['sqft_living'].astype(float)\n",
    "test_data['sqft_living']=test_data['sqft_living'].astype(float)\n",
    "set1_data['sqft_living']=set1_data['sqft_living'].astype(float)\n",
    "set2_data['sqft_living']=set2_data['sqft_living'].astype(float)\n",
    "set3_data['sqft_living']=set3_data['sqft_living'].astype(float)\n",
    "set4_data['sqft_living']=set4_data['sqft_living'].astype(float)"
   ]
  },
  {
   "cell_type": "code",
   "execution_count": 211,
   "metadata": {
    "collapsed": false
   },
   "outputs": [
    {
     "data": {
      "text/plain": [
       "id                 int64\n",
       "date              object\n",
       "price            float64\n",
       "bedrooms           int64\n",
       "bathrooms        float64\n",
       "sqft_living      float64\n",
       "sqft_lot           int64\n",
       "floors           float64\n",
       "waterfront         int64\n",
       "view               int64\n",
       "condition          int64\n",
       "grade              int64\n",
       "sqft_above         int64\n",
       "sqft_basement      int64\n",
       "yr_built           int64\n",
       "yr_renovated       int64\n",
       "zipcode            int64\n",
       "lat              float64\n",
       "long             float64\n",
       "sqft_living15      int64\n",
       "sqft_lot15         int64\n",
       "dtype: object"
      ]
     },
     "execution_count": 211,
     "metadata": {},
     "output_type": "execute_result"
    }
   ],
   "source": [
    "data.dtypes"
   ]
  },
  {
   "cell_type": "code",
   "execution_count": 212,
   "metadata": {
    "collapsed": false
   },
   "outputs": [],
   "source": [
    "my_dataframe=pd.DataFrame()"
   ]
  },
  {
   "cell_type": "code",
   "execution_count": 213,
   "metadata": {
    "collapsed": false
   },
   "outputs": [],
   "source": [
    "my_dataframe['power_1']=data['sqft_living']"
   ]
  },
  {
   "cell_type": "code",
   "execution_count": 214,
   "metadata": {
    "collapsed": false
   },
   "outputs": [
    {
     "data": {
      "text/html": [
       "<div>\n",
       "<table border=\"1\" class=\"dataframe\">\n",
       "  <thead>\n",
       "    <tr style=\"text-align: right;\">\n",
       "      <th></th>\n",
       "      <th>power_1</th>\n",
       "    </tr>\n",
       "  </thead>\n",
       "  <tbody>\n",
       "    <tr>\n",
       "      <th>0</th>\n",
       "      <td>1180</td>\n",
       "    </tr>\n",
       "    <tr>\n",
       "      <th>1</th>\n",
       "      <td>2570</td>\n",
       "    </tr>\n",
       "    <tr>\n",
       "      <th>2</th>\n",
       "      <td>770</td>\n",
       "    </tr>\n",
       "    <tr>\n",
       "      <th>3</th>\n",
       "      <td>1960</td>\n",
       "    </tr>\n",
       "    <tr>\n",
       "      <th>4</th>\n",
       "      <td>1680</td>\n",
       "    </tr>\n",
       "  </tbody>\n",
       "</table>\n",
       "</div>"
      ],
      "text/plain": [
       "   power_1\n",
       "0     1180\n",
       "1     2570\n",
       "2      770\n",
       "3     1960\n",
       "4     1680"
      ]
     },
     "execution_count": 214,
     "metadata": {},
     "output_type": "execute_result"
    }
   ],
   "source": [
    "my_dataframe.head()"
   ]
  },
  {
   "cell_type": "code",
   "execution_count": 273,
   "metadata": {
    "collapsed": true
   },
   "outputs": [],
   "source": [
    "def polynomial_sframe(feature, degree):\n",
    "    poly_dataframe=pd.DataFrame()\n",
    "    poly_dataframe['power_1']=feature\n",
    "    if degree>1:\n",
    "        for power in range(2,degree+1):\n",
    "            name='power_'+str(power)\n",
    "            poly_dataframe[name]=feature.apply(lambda x: x**power)\n",
    "    return(poly_dataframe)\n",
    "        "
   ]
  },
  {
   "cell_type": "code",
   "execution_count": 178,
   "metadata": {
    "collapsed": false
   },
   "outputs": [
    {
     "data": {
      "text/plain": [
       "[2, 3, 4, 5, 6, 7, 8, 9]"
      ]
     },
     "execution_count": 178,
     "metadata": {},
     "output_type": "execute_result"
    }
   ],
   "source": [
    "range(2,10)"
   ]
  },
  {
   "cell_type": "code",
   "execution_count": 216,
   "metadata": {
    "collapsed": false
   },
   "outputs": [
    {
     "data": {
      "text/html": [
       "<div>\n",
       "<table border=\"1\" class=\"dataframe\">\n",
       "  <thead>\n",
       "    <tr style=\"text-align: right;\">\n",
       "      <th></th>\n",
       "      <th>sqft_living</th>\n",
       "      <th>price</th>\n",
       "    </tr>\n",
       "  </thead>\n",
       "  <tbody>\n",
       "    <tr>\n",
       "      <th>0</th>\n",
       "      <td>1180</td>\n",
       "      <td>221900</td>\n",
       "    </tr>\n",
       "    <tr>\n",
       "      <th>1</th>\n",
       "      <td>2570</td>\n",
       "      <td>538000</td>\n",
       "    </tr>\n",
       "    <tr>\n",
       "      <th>2</th>\n",
       "      <td>770</td>\n",
       "      <td>180000</td>\n",
       "    </tr>\n",
       "    <tr>\n",
       "      <th>3</th>\n",
       "      <td>1960</td>\n",
       "      <td>604000</td>\n",
       "    </tr>\n",
       "    <tr>\n",
       "      <th>4</th>\n",
       "      <td>1680</td>\n",
       "      <td>510000</td>\n",
       "    </tr>\n",
       "  </tbody>\n",
       "</table>\n",
       "</div>"
      ],
      "text/plain": [
       "   sqft_living   price\n",
       "0         1180  221900\n",
       "1         2570  538000\n",
       "2          770  180000\n",
       "3         1960  604000\n",
       "4         1680  510000"
      ]
     },
     "execution_count": 216,
     "metadata": {},
     "output_type": "execute_result"
    }
   ],
   "source": [
    "data[['sqft_living','price']].head()"
   ]
  },
  {
   "cell_type": "code",
   "execution_count": 276,
   "metadata": {
    "collapsed": true
   },
   "outputs": [],
   "source": [
    "data=data.sort(['sqft_living'])\n",
    "train_data=train_data.sort(['sqft_living'])\n",
    "test_data=test_data.sort(['sqft_living'])\n",
    "set1_data=set1_data.sort(['sqft_living'])\n",
    "set2_data=set2_data.sort(['sqft_living'])\n",
    "set3_data=set3_data.sort(['sqft_living'])\n",
    "set4_data=set4_data.sort(['sqft_living'])"
   ]
  },
  {
   "cell_type": "code",
   "execution_count": 218,
   "metadata": {
    "collapsed": false
   },
   "outputs": [
    {
     "data": {
      "text/html": [
       "<div>\n",
       "<table border=\"1\" class=\"dataframe\">\n",
       "  <thead>\n",
       "    <tr style=\"text-align: right;\">\n",
       "      <th></th>\n",
       "      <th>id</th>\n",
       "      <th>date</th>\n",
       "      <th>price</th>\n",
       "      <th>bedrooms</th>\n",
       "      <th>bathrooms</th>\n",
       "      <th>sqft_living</th>\n",
       "      <th>sqft_lot</th>\n",
       "      <th>floors</th>\n",
       "      <th>waterfront</th>\n",
       "      <th>view</th>\n",
       "      <th>...</th>\n",
       "      <th>grade</th>\n",
       "      <th>sqft_above</th>\n",
       "      <th>sqft_basement</th>\n",
       "      <th>yr_built</th>\n",
       "      <th>yr_renovated</th>\n",
       "      <th>zipcode</th>\n",
       "      <th>lat</th>\n",
       "      <th>long</th>\n",
       "      <th>sqft_living15</th>\n",
       "      <th>sqft_lot15</th>\n",
       "    </tr>\n",
       "  </thead>\n",
       "  <tbody>\n",
       "    <tr>\n",
       "      <th>19452</th>\n",
       "      <td>3980300371</td>\n",
       "      <td>20140926T000000</td>\n",
       "      <td>142000</td>\n",
       "      <td>0</td>\n",
       "      <td>0.00</td>\n",
       "      <td>290</td>\n",
       "      <td>20875</td>\n",
       "      <td>1</td>\n",
       "      <td>0</td>\n",
       "      <td>0</td>\n",
       "      <td>...</td>\n",
       "      <td>1</td>\n",
       "      <td>290</td>\n",
       "      <td>0</td>\n",
       "      <td>1963</td>\n",
       "      <td>0</td>\n",
       "      <td>98024</td>\n",
       "      <td>47.5308</td>\n",
       "      <td>-121.888</td>\n",
       "      <td>1620</td>\n",
       "      <td>22850</td>\n",
       "    </tr>\n",
       "    <tr>\n",
       "      <th>15381</th>\n",
       "      <td>2856101479</td>\n",
       "      <td>20140701T000000</td>\n",
       "      <td>276000</td>\n",
       "      <td>1</td>\n",
       "      <td>0.75</td>\n",
       "      <td>370</td>\n",
       "      <td>1801</td>\n",
       "      <td>1</td>\n",
       "      <td>0</td>\n",
       "      <td>0</td>\n",
       "      <td>...</td>\n",
       "      <td>5</td>\n",
       "      <td>370</td>\n",
       "      <td>0</td>\n",
       "      <td>1923</td>\n",
       "      <td>0</td>\n",
       "      <td>98117</td>\n",
       "      <td>47.6778</td>\n",
       "      <td>-122.389</td>\n",
       "      <td>1340</td>\n",
       "      <td>5000</td>\n",
       "    </tr>\n",
       "    <tr>\n",
       "      <th>860</th>\n",
       "      <td>1723049033</td>\n",
       "      <td>20140620T000000</td>\n",
       "      <td>245000</td>\n",
       "      <td>1</td>\n",
       "      <td>0.75</td>\n",
       "      <td>380</td>\n",
       "      <td>15000</td>\n",
       "      <td>1</td>\n",
       "      <td>0</td>\n",
       "      <td>0</td>\n",
       "      <td>...</td>\n",
       "      <td>5</td>\n",
       "      <td>380</td>\n",
       "      <td>0</td>\n",
       "      <td>1963</td>\n",
       "      <td>0</td>\n",
       "      <td>98168</td>\n",
       "      <td>47.4810</td>\n",
       "      <td>-122.323</td>\n",
       "      <td>1170</td>\n",
       "      <td>15000</td>\n",
       "    </tr>\n",
       "    <tr>\n",
       "      <th>18379</th>\n",
       "      <td>1222029077</td>\n",
       "      <td>20141029T000000</td>\n",
       "      <td>265000</td>\n",
       "      <td>0</td>\n",
       "      <td>0.75</td>\n",
       "      <td>384</td>\n",
       "      <td>213444</td>\n",
       "      <td>1</td>\n",
       "      <td>0</td>\n",
       "      <td>0</td>\n",
       "      <td>...</td>\n",
       "      <td>4</td>\n",
       "      <td>384</td>\n",
       "      <td>0</td>\n",
       "      <td>2003</td>\n",
       "      <td>0</td>\n",
       "      <td>98070</td>\n",
       "      <td>47.4177</td>\n",
       "      <td>-122.491</td>\n",
       "      <td>1920</td>\n",
       "      <td>224341</td>\n",
       "    </tr>\n",
       "    <tr>\n",
       "      <th>4868</th>\n",
       "      <td>6896300380</td>\n",
       "      <td>20141002T000000</td>\n",
       "      <td>228000</td>\n",
       "      <td>0</td>\n",
       "      <td>1.00</td>\n",
       "      <td>390</td>\n",
       "      <td>5900</td>\n",
       "      <td>1</td>\n",
       "      <td>0</td>\n",
       "      <td>0</td>\n",
       "      <td>...</td>\n",
       "      <td>4</td>\n",
       "      <td>390</td>\n",
       "      <td>0</td>\n",
       "      <td>1953</td>\n",
       "      <td>0</td>\n",
       "      <td>98118</td>\n",
       "      <td>47.5260</td>\n",
       "      <td>-122.261</td>\n",
       "      <td>2170</td>\n",
       "      <td>6000</td>\n",
       "    </tr>\n",
       "  </tbody>\n",
       "</table>\n",
       "<p>5 rows × 21 columns</p>\n",
       "</div>"
      ],
      "text/plain": [
       "               id             date   price  bedrooms  bathrooms  sqft_living  \\\n",
       "19452  3980300371  20140926T000000  142000         0       0.00          290   \n",
       "15381  2856101479  20140701T000000  276000         1       0.75          370   \n",
       "860    1723049033  20140620T000000  245000         1       0.75          380   \n",
       "18379  1222029077  20141029T000000  265000         0       0.75          384   \n",
       "4868   6896300380  20141002T000000  228000         0       1.00          390   \n",
       "\n",
       "       sqft_lot  floors  waterfront  view     ...      grade  sqft_above  \\\n",
       "19452     20875       1           0     0     ...          1         290   \n",
       "15381      1801       1           0     0     ...          5         370   \n",
       "860       15000       1           0     0     ...          5         380   \n",
       "18379    213444       1           0     0     ...          4         384   \n",
       "4868       5900       1           0     0     ...          4         390   \n",
       "\n",
       "       sqft_basement  yr_built  yr_renovated  zipcode      lat     long  \\\n",
       "19452              0      1963             0    98024  47.5308 -121.888   \n",
       "15381              0      1923             0    98117  47.6778 -122.389   \n",
       "860                0      1963             0    98168  47.4810 -122.323   \n",
       "18379              0      2003             0    98070  47.4177 -122.491   \n",
       "4868               0      1953             0    98118  47.5260 -122.261   \n",
       "\n",
       "       sqft_living15  sqft_lot15  \n",
       "19452           1620       22850  \n",
       "15381           1340        5000  \n",
       "860             1170       15000  \n",
       "18379           1920      224341  \n",
       "4868            2170        6000  \n",
       "\n",
       "[5 rows x 21 columns]"
      ]
     },
     "execution_count": 218,
     "metadata": {},
     "output_type": "execute_result"
    }
   ],
   "source": [
    "data.head()"
   ]
  },
  {
   "cell_type": "code",
   "execution_count": 219,
   "metadata": {
    "collapsed": false
   },
   "outputs": [
    {
     "data": {
      "text/html": [
       "<div>\n",
       "<table border=\"1\" class=\"dataframe\">\n",
       "  <thead>\n",
       "    <tr style=\"text-align: right;\">\n",
       "      <th></th>\n",
       "      <th>id</th>\n",
       "      <th>date</th>\n",
       "      <th>price</th>\n",
       "      <th>bedrooms</th>\n",
       "      <th>bathrooms</th>\n",
       "      <th>sqft_living</th>\n",
       "      <th>sqft_lot</th>\n",
       "      <th>floors</th>\n",
       "      <th>waterfront</th>\n",
       "      <th>view</th>\n",
       "      <th>...</th>\n",
       "      <th>grade</th>\n",
       "      <th>sqft_above</th>\n",
       "      <th>sqft_basement</th>\n",
       "      <th>yr_built</th>\n",
       "      <th>yr_renovated</th>\n",
       "      <th>zipcode</th>\n",
       "      <th>lat</th>\n",
       "      <th>long</th>\n",
       "      <th>sqft_living15</th>\n",
       "      <th>sqft_lot15</th>\n",
       "    </tr>\n",
       "  </thead>\n",
       "  <tbody>\n",
       "    <tr>\n",
       "      <th>9731</th>\n",
       "      <td>2787320140</td>\n",
       "      <td>20150324T000000</td>\n",
       "      <td>255000</td>\n",
       "      <td>3</td>\n",
       "      <td>2.25</td>\n",
       "      <td>1890</td>\n",
       "      <td>7314</td>\n",
       "      <td>1</td>\n",
       "      <td>0</td>\n",
       "      <td>0</td>\n",
       "      <td>...</td>\n",
       "      <td>7</td>\n",
       "      <td>1100</td>\n",
       "      <td>790</td>\n",
       "      <td>1981</td>\n",
       "      <td>0</td>\n",
       "      <td>98031</td>\n",
       "      <td>47.4121</td>\n",
       "      <td>-122.172</td>\n",
       "      <td>1520</td>\n",
       "      <td>7676</td>\n",
       "    </tr>\n",
       "    <tr>\n",
       "      <th>10944</th>\n",
       "      <td>2413300810</td>\n",
       "      <td>20140923T000000</td>\n",
       "      <td>291000</td>\n",
       "      <td>4</td>\n",
       "      <td>2.25</td>\n",
       "      <td>1890</td>\n",
       "      <td>7616</td>\n",
       "      <td>1</td>\n",
       "      <td>0</td>\n",
       "      <td>0</td>\n",
       "      <td>...</td>\n",
       "      <td>8</td>\n",
       "      <td>1260</td>\n",
       "      <td>630</td>\n",
       "      <td>1979</td>\n",
       "      <td>0</td>\n",
       "      <td>98003</td>\n",
       "      <td>47.3275</td>\n",
       "      <td>-122.329</td>\n",
       "      <td>1890</td>\n",
       "      <td>7420</td>\n",
       "    </tr>\n",
       "    <tr>\n",
       "      <th>1466</th>\n",
       "      <td>6370000070</td>\n",
       "      <td>20140919T000000</td>\n",
       "      <td>359000</td>\n",
       "      <td>4</td>\n",
       "      <td>1.50</td>\n",
       "      <td>1890</td>\n",
       "      <td>6052</td>\n",
       "      <td>1</td>\n",
       "      <td>0</td>\n",
       "      <td>0</td>\n",
       "      <td>...</td>\n",
       "      <td>7</td>\n",
       "      <td>1890</td>\n",
       "      <td>0</td>\n",
       "      <td>1955</td>\n",
       "      <td>0</td>\n",
       "      <td>98125</td>\n",
       "      <td>47.7055</td>\n",
       "      <td>-122.300</td>\n",
       "      <td>1510</td>\n",
       "      <td>6072</td>\n",
       "    </tr>\n",
       "    <tr>\n",
       "      <th>4351</th>\n",
       "      <td>2719100042</td>\n",
       "      <td>20140623T000000</td>\n",
       "      <td>458500</td>\n",
       "      <td>3</td>\n",
       "      <td>2.00</td>\n",
       "      <td>1890</td>\n",
       "      <td>1599</td>\n",
       "      <td>2</td>\n",
       "      <td>0</td>\n",
       "      <td>0</td>\n",
       "      <td>...</td>\n",
       "      <td>9</td>\n",
       "      <td>1430</td>\n",
       "      <td>460</td>\n",
       "      <td>2012</td>\n",
       "      <td>0</td>\n",
       "      <td>98136</td>\n",
       "      <td>47.5438</td>\n",
       "      <td>-122.385</td>\n",
       "      <td>1780</td>\n",
       "      <td>1562</td>\n",
       "    </tr>\n",
       "    <tr>\n",
       "      <th>5459</th>\n",
       "      <td>1672000170</td>\n",
       "      <td>20140908T000000</td>\n",
       "      <td>575000</td>\n",
       "      <td>3</td>\n",
       "      <td>1.75</td>\n",
       "      <td>1890</td>\n",
       "      <td>11141</td>\n",
       "      <td>1</td>\n",
       "      <td>0</td>\n",
       "      <td>0</td>\n",
       "      <td>...</td>\n",
       "      <td>8</td>\n",
       "      <td>1890</td>\n",
       "      <td>0</td>\n",
       "      <td>1968</td>\n",
       "      <td>0</td>\n",
       "      <td>98006</td>\n",
       "      <td>47.5697</td>\n",
       "      <td>-122.163</td>\n",
       "      <td>2720</td>\n",
       "      <td>11144</td>\n",
       "    </tr>\n",
       "  </tbody>\n",
       "</table>\n",
       "<p>5 rows × 21 columns</p>\n",
       "</div>"
      ],
      "text/plain": [
       "               id             date   price  bedrooms  bathrooms  sqft_living  \\\n",
       "9731   2787320140  20150324T000000  255000         3       2.25         1890   \n",
       "10944  2413300810  20140923T000000  291000         4       2.25         1890   \n",
       "1466   6370000070  20140919T000000  359000         4       1.50         1890   \n",
       "4351   2719100042  20140623T000000  458500         3       2.00         1890   \n",
       "5459   1672000170  20140908T000000  575000         3       1.75         1890   \n",
       "\n",
       "       sqft_lot  floors  waterfront  view     ...      grade  sqft_above  \\\n",
       "9731       7314       1           0     0     ...          7        1100   \n",
       "10944      7616       1           0     0     ...          8        1260   \n",
       "1466       6052       1           0     0     ...          7        1890   \n",
       "4351       1599       2           0     0     ...          9        1430   \n",
       "5459      11141       1           0     0     ...          8        1890   \n",
       "\n",
       "       sqft_basement  yr_built  yr_renovated  zipcode      lat     long  \\\n",
       "9731             790      1981             0    98031  47.4121 -122.172   \n",
       "10944            630      1979             0    98003  47.3275 -122.329   \n",
       "1466               0      1955             0    98125  47.7055 -122.300   \n",
       "4351             460      2012             0    98136  47.5438 -122.385   \n",
       "5459               0      1968             0    98006  47.5697 -122.163   \n",
       "\n",
       "       sqft_living15  sqft_lot15  \n",
       "9731            1520        7676  \n",
       "10944           1890        7420  \n",
       "1466            1510        6072  \n",
       "4351            1780        1562  \n",
       "5459            2720       11144  \n",
       "\n",
       "[5 rows x 21 columns]"
      ]
     },
     "execution_count": 219,
     "metadata": {},
     "output_type": "execute_result"
    }
   ],
   "source": [
    "data[data['sqft_living']==1890].head()"
   ]
  },
  {
   "cell_type": "code",
   "execution_count": 258,
   "metadata": {
    "collapsed": true
   },
   "outputs": [],
   "source": [
    "poly1_data=polynomial_sframe(data['sqft_living'],1)"
   ]
  },
  {
   "cell_type": "code",
   "execution_count": 259,
   "metadata": {
    "collapsed": false
   },
   "outputs": [
    {
     "data": {
      "text/html": [
       "<div>\n",
       "<table border=\"1\" class=\"dataframe\">\n",
       "  <thead>\n",
       "    <tr style=\"text-align: right;\">\n",
       "      <th></th>\n",
       "      <th>power_1</th>\n",
       "    </tr>\n",
       "  </thead>\n",
       "  <tbody>\n",
       "    <tr>\n",
       "      <th>19452</th>\n",
       "      <td>290</td>\n",
       "    </tr>\n",
       "    <tr>\n",
       "      <th>15381</th>\n",
       "      <td>370</td>\n",
       "    </tr>\n",
       "    <tr>\n",
       "      <th>860</th>\n",
       "      <td>380</td>\n",
       "    </tr>\n",
       "    <tr>\n",
       "      <th>18379</th>\n",
       "      <td>384</td>\n",
       "    </tr>\n",
       "    <tr>\n",
       "      <th>4868</th>\n",
       "      <td>390</td>\n",
       "    </tr>\n",
       "  </tbody>\n",
       "</table>\n",
       "</div>"
      ],
      "text/plain": [
       "       power_1\n",
       "19452      290\n",
       "15381      370\n",
       "860        380\n",
       "18379      384\n",
       "4868       390"
      ]
     },
     "execution_count": 259,
     "metadata": {},
     "output_type": "execute_result"
    }
   ],
   "source": [
    "poly1_data.head()"
   ]
  },
  {
   "cell_type": "code",
   "execution_count": 260,
   "metadata": {
    "collapsed": true
   },
   "outputs": [],
   "source": [
    "def linear_regression(x,y,feature):\n",
    "    #x=x.reshape(x.shape[0],1)\n",
    "    from sklearn.linear_model import LinearRegression\n",
    "    linreg=LinearRegression()\n",
    "    linreg.fit(x,y)\n",
    "    plt.plot(feature,y,'.',\n",
    "    feature, linreg.predict(x),'-')\n",
    "    return(linreg)\n",
    "    "
   ]
  },
  {
   "cell_type": "code",
   "execution_count": 261,
   "metadata": {
    "collapsed": false
   },
   "outputs": [
    {
     "data": {
      "image/png": "[encoded data removed]",
      "text/plain": [
       "<matplotlib.figure.Figure at 0x1c3c0048>"
      ]
     },
     "metadata": {},
     "output_type": "display_data"
    }
   ],
   "source": [
    "model1=linear_regression(poly1_data,data['price'],poly1_data['power_1'])"
   ]
  },
  {
   "cell_type": "code",
   "execution_count": 250,
   "metadata": {
    "collapsed": false
   },
   "outputs": [],
   "source": [
    "poly2_data=polynomial_sframe(data['sqft_living'],2)"
   ]
  },
  {
   "cell_type": "code",
   "execution_count": 251,
   "metadata": {
    "collapsed": false
   },
   "outputs": [
    {
     "data": {
      "text/html": [
       "<div>\n",
       "<table border=\"1\" class=\"dataframe\">\n",
       "  <thead>\n",
       "    <tr style=\"text-align: right;\">\n",
       "      <th></th>\n",
       "      <th>power_1</th>\n",
       "      <th>power_2</th>\n",
       "    </tr>\n",
       "  </thead>\n",
       "  <tbody>\n",
       "    <tr>\n",
       "      <th>19452</th>\n",
       "      <td>290</td>\n",
       "      <td>84100</td>\n",
       "    </tr>\n",
       "    <tr>\n",
       "      <th>15381</th>\n",
       "      <td>370</td>\n",
       "      <td>136900</td>\n",
       "    </tr>\n",
       "    <tr>\n",
       "      <th>860</th>\n",
       "      <td>380</td>\n",
       "      <td>144400</td>\n",
       "    </tr>\n",
       "    <tr>\n",
       "      <th>18379</th>\n",
       "      <td>384</td>\n",
       "      <td>147456</td>\n",
       "    </tr>\n",
       "    <tr>\n",
       "      <th>4868</th>\n",
       "      <td>390</td>\n",
       "      <td>152100</td>\n",
       "    </tr>\n",
       "  </tbody>\n",
       "</table>\n",
       "</div>"
      ],
      "text/plain": [
       "       power_1  power_2\n",
       "19452      290    84100\n",
       "15381      370   136900\n",
       "860        380   144400\n",
       "18379      384   147456\n",
       "4868       390   152100"
      ]
     },
     "execution_count": 251,
     "metadata": {},
     "output_type": "execute_result"
    }
   ],
   "source": [
    "poly2_data.head()"
   ]
  },
  {
   "cell_type": "code",
   "execution_count": 265,
   "metadata": {
    "collapsed": false
   },
   "outputs": [
    {
     "data": {
      "image/png": "[encoded data removed]",
      "text/plain": [
       "<matplotlib.figure.Figure at 0x1d5be390>"
      ]
     },
     "metadata": {},
     "output_type": "display_data"
    }
   ],
   "source": [
    "model2=linear_regression(poly2_data,data['price'],poly2_data['power_1'])"
   ]
  },
  {
   "cell_type": "code",
   "execution_count": 262,
   "metadata": {
    "collapsed": true
   },
   "outputs": [],
   "source": [
    "poly3_data=polynomial_sframe(data['sqft_living'],3)"
   ]
  },
  {
   "cell_type": "code",
   "execution_count": 264,
   "metadata": {
    "collapsed": false
   },
   "outputs": [
    {
     "data": {
      "text/html": [
       "<div>\n",
       "<table border=\"1\" class=\"dataframe\">\n",
       "  <thead>\n",
       "    <tr style=\"text-align: right;\">\n",
       "      <th></th>\n",
       "      <th>power_1</th>\n",
       "      <th>power_2</th>\n",
       "      <th>power_3</th>\n",
       "    </tr>\n",
       "  </thead>\n",
       "  <tbody>\n",
       "    <tr>\n",
       "      <th>19452</th>\n",
       "      <td>290</td>\n",
       "      <td>84100</td>\n",
       "      <td>24389000</td>\n",
       "    </tr>\n",
       "    <tr>\n",
       "      <th>15381</th>\n",
       "      <td>370</td>\n",
       "      <td>136900</td>\n",
       "      <td>50653000</td>\n",
       "    </tr>\n",
       "    <tr>\n",
       "      <th>860</th>\n",
       "      <td>380</td>\n",
       "      <td>144400</td>\n",
       "      <td>54872000</td>\n",
       "    </tr>\n",
       "    <tr>\n",
       "      <th>18379</th>\n",
       "      <td>384</td>\n",
       "      <td>147456</td>\n",
       "      <td>56623104</td>\n",
       "    </tr>\n",
       "    <tr>\n",
       "      <th>4868</th>\n",
       "      <td>390</td>\n",
       "      <td>152100</td>\n",
       "      <td>59319000</td>\n",
       "    </tr>\n",
       "  </tbody>\n",
       "</table>\n",
       "</div>"
      ],
      "text/plain": [
       "       power_1  power_2   power_3\n",
       "19452      290    84100  24389000\n",
       "15381      370   136900  50653000\n",
       "860        380   144400  54872000\n",
       "18379      384   147456  56623104\n",
       "4868       390   152100  59319000"
      ]
     },
     "execution_count": 264,
     "metadata": {},
     "output_type": "execute_result"
    }
   ],
   "source": [
    "poly3_data.head()"
   ]
  },
  {
   "cell_type": "code",
   "execution_count": 266,
   "metadata": {
    "collapsed": false
   },
   "outputs": [
    {
     "data": {
      "image/png": "[encoded data removed]",
      "text/plain": [
       "<matplotlib.figure.Figure at 0x195b1748>"
      ]
     },
     "metadata": {},
     "output_type": "display_data"
    }
   ],
   "source": [
    "model3=linear_regression(poly3_data,data['price'],poly3_data['power_1'])"
   ]
  },
  {
   "cell_type": "code",
   "execution_count": 267,
   "metadata": {
    "collapsed": true
   },
   "outputs": [],
   "source": [
    "poly15_data=polynomial_sframe(data['sqft_living'],15)"
   ]
  },
  {
   "cell_type": "code",
   "execution_count": 268,
   "metadata": {
    "collapsed": false
   },
   "outputs": [
    {
     "data": {
      "text/html": [
       "<div>\n",
       "<table border=\"1\" class=\"dataframe\">\n",
       "  <thead>\n",
       "    <tr style=\"text-align: right;\">\n",
       "      <th></th>\n",
       "      <th>power_1</th>\n",
       "      <th>power_2</th>\n",
       "      <th>power_3</th>\n",
       "      <th>power_4</th>\n",
       "      <th>power_5</th>\n",
       "      <th>power_6</th>\n",
       "      <th>power_7</th>\n",
       "      <th>power_8</th>\n",
       "      <th>power_9</th>\n",
       "      <th>power_10</th>\n",
       "      <th>power_11</th>\n",
       "      <th>power_12</th>\n",
       "      <th>power_13</th>\n",
       "      <th>power_14</th>\n",
       "      <th>power_15</th>\n",
       "    </tr>\n",
       "  </thead>\n",
       "  <tbody>\n",
       "    <tr>\n",
       "      <th>19452</th>\n",
       "      <td>290</td>\n",
       "      <td>84100</td>\n",
       "      <td>24389000</td>\n",
       "      <td>7072810000</td>\n",
       "      <td>2.051115e+12</td>\n",
       "      <td>5.948233e+14</td>\n",
       "      <td>1.724988e+17</td>\n",
       "      <td>5.002464e+19</td>\n",
       "      <td>1.450715e+22</td>\n",
       "      <td>4.207072e+24</td>\n",
       "      <td>1.220051e+27</td>\n",
       "      <td>3.538148e+29</td>\n",
       "      <td>1.026063e+32</td>\n",
       "      <td>2.975582e+34</td>\n",
       "      <td>8.629189e+36</td>\n",
       "    </tr>\n",
       "    <tr>\n",
       "      <th>15381</th>\n",
       "      <td>370</td>\n",
       "      <td>136900</td>\n",
       "      <td>50653000</td>\n",
       "      <td>18741610000</td>\n",
       "      <td>6.934396e+12</td>\n",
       "      <td>2.565726e+15</td>\n",
       "      <td>9.493188e+17</td>\n",
       "      <td>3.512479e+20</td>\n",
       "      <td>1.299617e+23</td>\n",
       "      <td>4.808584e+25</td>\n",
       "      <td>1.779176e+28</td>\n",
       "      <td>6.582952e+30</td>\n",
       "      <td>2.435692e+33</td>\n",
       "      <td>9.012061e+35</td>\n",
       "      <td>3.334463e+38</td>\n",
       "    </tr>\n",
       "    <tr>\n",
       "      <th>860</th>\n",
       "      <td>380</td>\n",
       "      <td>144400</td>\n",
       "      <td>54872000</td>\n",
       "      <td>20851360000</td>\n",
       "      <td>7.923517e+12</td>\n",
       "      <td>3.010936e+15</td>\n",
       "      <td>1.144156e+18</td>\n",
       "      <td>4.347792e+20</td>\n",
       "      <td>1.652161e+23</td>\n",
       "      <td>6.278212e+25</td>\n",
       "      <td>2.385721e+28</td>\n",
       "      <td>9.065738e+30</td>\n",
       "      <td>3.444980e+33</td>\n",
       "      <td>1.309093e+36</td>\n",
       "      <td>4.974552e+38</td>\n",
       "    </tr>\n",
       "    <tr>\n",
       "      <th>18379</th>\n",
       "      <td>384</td>\n",
       "      <td>147456</td>\n",
       "      <td>56623104</td>\n",
       "      <td>21743271936</td>\n",
       "      <td>8.349416e+12</td>\n",
       "      <td>3.206176e+15</td>\n",
       "      <td>1.231172e+18</td>\n",
       "      <td>4.727699e+20</td>\n",
       "      <td>1.815436e+23</td>\n",
       "      <td>6.971275e+25</td>\n",
       "      <td>2.676970e+28</td>\n",
       "      <td>1.027956e+31</td>\n",
       "      <td>3.947353e+33</td>\n",
       "      <td>1.515783e+36</td>\n",
       "      <td>5.820608e+38</td>\n",
       "    </tr>\n",
       "    <tr>\n",
       "      <th>4868</th>\n",
       "      <td>390</td>\n",
       "      <td>152100</td>\n",
       "      <td>59319000</td>\n",
       "      <td>23134410000</td>\n",
       "      <td>9.022420e+12</td>\n",
       "      <td>3.518744e+15</td>\n",
       "      <td>1.372310e+18</td>\n",
       "      <td>5.352009e+20</td>\n",
       "      <td>2.087284e+23</td>\n",
       "      <td>8.140406e+25</td>\n",
       "      <td>3.174758e+28</td>\n",
       "      <td>1.238156e+31</td>\n",
       "      <td>4.828807e+33</td>\n",
       "      <td>1.883235e+36</td>\n",
       "      <td>7.344616e+38</td>\n",
       "    </tr>\n",
       "  </tbody>\n",
       "</table>\n",
       "</div>"
      ],
      "text/plain": [
       "       power_1  power_2   power_3      power_4       power_5       power_6  \\\n",
       "19452      290    84100  24389000   7072810000  2.051115e+12  5.948233e+14   \n",
       "15381      370   136900  50653000  18741610000  6.934396e+12  2.565726e+15   \n",
       "860        380   144400  54872000  20851360000  7.923517e+12  3.010936e+15   \n",
       "18379      384   147456  56623104  21743271936  8.349416e+12  3.206176e+15   \n",
       "4868       390   152100  59319000  23134410000  9.022420e+12  3.518744e+15   \n",
       "\n",
       "            power_7       power_8       power_9      power_10      power_11  \\\n",
       "19452  1.724988e+17  5.002464e+19  1.450715e+22  4.207072e+24  1.220051e+27   \n",
       "15381  9.493188e+17  3.512479e+20  1.299617e+23  4.808584e+25  1.779176e+28   \n",
       "860    1.144156e+18  4.347792e+20  1.652161e+23  6.278212e+25  2.385721e+28   \n",
       "18379  1.231172e+18  4.727699e+20  1.815436e+23  6.971275e+25  2.676970e+28   \n",
       "4868   1.372310e+18  5.352009e+20  2.087284e+23  8.140406e+25  3.174758e+28   \n",
       "\n",
       "           power_12      power_13      power_14      power_15  \n",
       "19452  3.538148e+29  1.026063e+32  2.975582e+34  8.629189e+36  \n",
       "15381  6.582952e+30  2.435692e+33  9.012061e+35  3.334463e+38  \n",
       "860    9.065738e+30  3.444980e+33  1.309093e+36  4.974552e+38  \n",
       "18379  1.027956e+31  3.947353e+33  1.515783e+36  5.820608e+38  \n",
       "4868   1.238156e+31  4.828807e+33  1.883235e+36  7.344616e+38  "
      ]
     },
     "execution_count": 268,
     "metadata": {},
     "output_type": "execute_result"
    }
   ],
   "source": [
    "poly15_data.head()"
   ]
  },
  {
   "cell_type": "code",
   "execution_count": 281,
   "metadata": {
    "collapsed": false
   },
   "outputs": [
    {
     "data": {
      "image/png": "[encoded data removed]",
      "text/plain": [
       "<matplotlib.figure.Figure at 0x1bbb37f0>"
      ]
     },
     "metadata": {},
     "output_type": "display_data"
    }
   ],
   "source": [
    "model15=linear_regression(poly15_data,data['price'],poly15_data['power_1'])"
   ]
  },
  {
   "cell_type": "markdown",
   "metadata": {},
   "source": [
    "# --------------------------------------------------------------------------------------------------------"
   ]
  },
  {
   "cell_type": "code",
   "execution_count": 279,
   "metadata": {
    "collapsed": true
   },
   "outputs": [],
   "source": [
    "poly15_set1_data=polynomial_sframe(set1_data['sqft_living'],15)"
   ]
  },
  {
   "cell_type": "code",
   "execution_count": 280,
   "metadata": {
    "collapsed": false
   },
   "outputs": [
    {
     "data": {
      "text/html": [
       "<div>\n",
       "<table border=\"1\" class=\"dataframe\">\n",
       "  <thead>\n",
       "    <tr style=\"text-align: right;\">\n",
       "      <th></th>\n",
       "      <th>power_1</th>\n",
       "      <th>power_2</th>\n",
       "      <th>power_3</th>\n",
       "      <th>power_4</th>\n",
       "      <th>power_5</th>\n",
       "      <th>power_6</th>\n",
       "      <th>power_7</th>\n",
       "      <th>power_8</th>\n",
       "      <th>power_9</th>\n",
       "      <th>power_10</th>\n",
       "      <th>power_11</th>\n",
       "      <th>power_12</th>\n",
       "      <th>power_13</th>\n",
       "      <th>power_14</th>\n",
       "      <th>power_15</th>\n",
       "    </tr>\n",
       "  </thead>\n",
       "  <tbody>\n",
       "    <tr>\n",
       "      <th>0</th>\n",
       "      <td>430</td>\n",
       "      <td>184900</td>\n",
       "      <td>79507000</td>\n",
       "      <td>34188010000</td>\n",
       "      <td>1.470084e+13</td>\n",
       "      <td>6.321363e+15</td>\n",
       "      <td>2.718186e+18</td>\n",
       "      <td>1.168820e+21</td>\n",
       "      <td>5.025926e+23</td>\n",
       "      <td>2.161148e+26</td>\n",
       "      <td>9.292937e+28</td>\n",
       "      <td>3.995963e+31</td>\n",
       "      <td>1.718264e+34</td>\n",
       "      <td>7.388536e+36</td>\n",
       "      <td>3.177070e+39</td>\n",
       "    </tr>\n",
       "    <tr>\n",
       "      <th>1</th>\n",
       "      <td>460</td>\n",
       "      <td>211600</td>\n",
       "      <td>97336000</td>\n",
       "      <td>44774560000</td>\n",
       "      <td>2.059630e+13</td>\n",
       "      <td>9.474297e+15</td>\n",
       "      <td>4.358177e+18</td>\n",
       "      <td>2.004761e+21</td>\n",
       "      <td>9.221902e+23</td>\n",
       "      <td>4.242075e+26</td>\n",
       "      <td>1.951354e+29</td>\n",
       "      <td>8.976230e+31</td>\n",
       "      <td>4.129066e+34</td>\n",
       "      <td>1.899370e+37</td>\n",
       "      <td>8.737103e+39</td>\n",
       "    </tr>\n",
       "    <tr>\n",
       "      <th>2</th>\n",
       "      <td>470</td>\n",
       "      <td>220900</td>\n",
       "      <td>103823000</td>\n",
       "      <td>48796810000</td>\n",
       "      <td>2.293450e+13</td>\n",
       "      <td>1.077922e+16</td>\n",
       "      <td>5.066231e+18</td>\n",
       "      <td>2.381129e+21</td>\n",
       "      <td>1.119130e+24</td>\n",
       "      <td>5.259913e+26</td>\n",
       "      <td>2.472159e+29</td>\n",
       "      <td>1.161915e+32</td>\n",
       "      <td>5.461000e+34</td>\n",
       "      <td>2.566670e+37</td>\n",
       "      <td>1.206335e+40</td>\n",
       "    </tr>\n",
       "    <tr>\n",
       "      <th>3</th>\n",
       "      <td>490</td>\n",
       "      <td>240100</td>\n",
       "      <td>117649000</td>\n",
       "      <td>57648010000</td>\n",
       "      <td>2.824752e+13</td>\n",
       "      <td>1.384129e+16</td>\n",
       "      <td>6.782231e+18</td>\n",
       "      <td>3.323293e+21</td>\n",
       "      <td>1.628414e+24</td>\n",
       "      <td>7.979227e+26</td>\n",
       "      <td>3.909821e+29</td>\n",
       "      <td>1.915812e+32</td>\n",
       "      <td>9.387480e+34</td>\n",
       "      <td>4.599865e+37</td>\n",
       "      <td>2.253934e+40</td>\n",
       "    </tr>\n",
       "    <tr>\n",
       "      <th>4</th>\n",
       "      <td>500</td>\n",
       "      <td>250000</td>\n",
       "      <td>125000000</td>\n",
       "      <td>62500000000</td>\n",
       "      <td>3.125000e+13</td>\n",
       "      <td>1.562500e+16</td>\n",
       "      <td>7.812500e+18</td>\n",
       "      <td>3.906250e+21</td>\n",
       "      <td>1.953125e+24</td>\n",
       "      <td>9.765625e+26</td>\n",
       "      <td>4.882812e+29</td>\n",
       "      <td>2.441406e+32</td>\n",
       "      <td>1.220703e+35</td>\n",
       "      <td>6.103516e+37</td>\n",
       "      <td>3.051758e+40</td>\n",
       "    </tr>\n",
       "  </tbody>\n",
       "</table>\n",
       "</div>"
      ],
      "text/plain": [
       "   power_1  power_2    power_3      power_4       power_5       power_6  \\\n",
       "0      430   184900   79507000  34188010000  1.470084e+13  6.321363e+15   \n",
       "1      460   211600   97336000  44774560000  2.059630e+13  9.474297e+15   \n",
       "2      470   220900  103823000  48796810000  2.293450e+13  1.077922e+16   \n",
       "3      490   240100  117649000  57648010000  2.824752e+13  1.384129e+16   \n",
       "4      500   250000  125000000  62500000000  3.125000e+13  1.562500e+16   \n",
       "\n",
       "        power_7       power_8       power_9      power_10      power_11  \\\n",
       "0  2.718186e+18  1.168820e+21  5.025926e+23  2.161148e+26  9.292937e+28   \n",
       "1  4.358177e+18  2.004761e+21  9.221902e+23  4.242075e+26  1.951354e+29   \n",
       "2  5.066231e+18  2.381129e+21  1.119130e+24  5.259913e+26  2.472159e+29   \n",
       "3  6.782231e+18  3.323293e+21  1.628414e+24  7.979227e+26  3.909821e+29   \n",
       "4  7.812500e+18  3.906250e+21  1.953125e+24  9.765625e+26  4.882812e+29   \n",
       "\n",
       "       power_12      power_13      power_14      power_15  \n",
       "0  3.995963e+31  1.718264e+34  7.388536e+36  3.177070e+39  \n",
       "1  8.976230e+31  4.129066e+34  1.899370e+37  8.737103e+39  \n",
       "2  1.161915e+32  5.461000e+34  2.566670e+37  1.206335e+40  \n",
       "3  1.915812e+32  9.387480e+34  4.599865e+37  2.253934e+40  \n",
       "4  2.441406e+32  1.220703e+35  6.103516e+37  3.051758e+40  "
      ]
     },
     "execution_count": 280,
     "metadata": {},
     "output_type": "execute_result"
    }
   ],
   "source": [
    "poly15_set1_data.head()"
   ]
  },
  {
   "cell_type": "code",
   "execution_count": 283,
   "metadata": {
    "collapsed": false
   },
   "outputs": [
    {
     "data": {
      "image/png": "[encoded data removed]",
      "text/plain": [
       "<matplotlib.figure.Figure at 0x2010f390>"
      ]
     },
     "metadata": {},
     "output_type": "display_data"
    }
   ],
   "source": [
    "model15_set1=linear_regression(poly15_set1_data,set1_data['price'],poly15_set1_data['power_1'])"
   ]
  },
  {
   "cell_type": "code",
   "execution_count": 294,
   "metadata": {
    "collapsed": false
   },
   "outputs": [
    {
     "data": {
      "text/plain": [
       "array([  3.05794168e-90,  -4.61178503e-49,   6.30196191e-55,\n",
       "         3.24764373e-60,   4.63562611e-74,   1.10358333e-70,\n",
       "         8.37724029e-67,   6.23411957e-63,   4.49156443e-59,\n",
       "         3.06938763e-55,   1.91749300e-51,   1.01335180e-47,\n",
       "         3.62176959e-44,  -5.63501661e-48,   2.18641117e-52])"
      ]
     },
     "execution_count": 294,
     "metadata": {},
     "output_type": "execute_result"
    }
   ],
   "source": [
    "model15_set1.coef_"
   ]
  },
  {
   "cell_type": "code",
   "execution_count": 284,
   "metadata": {
    "collapsed": true
   },
   "outputs": [],
   "source": [
    "poly15_set2_data=polynomial_sframe(set2_data['sqft_living'],15)"
   ]
  },
  {
   "cell_type": "code",
   "execution_count": 285,
   "metadata": {
    "collapsed": false
   },
   "outputs": [
    {
     "data": {
      "image/png": "[encoded data removed]",
      "text/plain": [
       "<matplotlib.figure.Figure at 0x1ff2fe80>"
      ]
     },
     "metadata": {},
     "output_type": "display_data"
    }
   ],
   "source": [
    "model15_set2=linear_regression(poly15_set2_data,set2_data['price'],poly15_set2_data['power_1'])"
   ]
  },
  {
   "cell_type": "code",
   "execution_count": 293,
   "metadata": {
    "collapsed": false
   },
   "outputs": [
    {
     "data": {
      "text/plain": [
       "array([  2.71472503e-77,  -2.52923730e-39,   6.94292196e-45,\n",
       "        -4.19770327e-51,   1.05015688e-53,   1.14300931e-56,\n",
       "         3.64581291e-55,   1.50496920e-51,   5.76555835e-48,\n",
       "         1.96021755e-44,   5.40248357e-41,   9.42099030e-38,\n",
       "        -3.64131800e-41,   4.66177108e-45,  -1.97470097e-49])"
      ]
     },
     "execution_count": 293,
     "metadata": {},
     "output_type": "execute_result"
    }
   ],
   "source": [
    "model15_set2.coef_"
   ]
  },
  {
   "cell_type": "code",
   "execution_count": 286,
   "metadata": {
    "collapsed": true
   },
   "outputs": [],
   "source": [
    "poly15_set3_data=polynomial_sframe(set3_data['sqft_living'],15)"
   ]
  },
  {
   "cell_type": "code",
   "execution_count": 287,
   "metadata": {
    "collapsed": true
   },
   "outputs": [],
   "source": [
    "poly15_set4_data=polynomial_sframe(set4_data['sqft_living'],15)"
   ]
  },
  {
   "cell_type": "code",
   "execution_count": 288,
   "metadata": {
    "collapsed": false
   },
   "outputs": [
    {
     "data": {
      "image/png": "[encoded data removed]",
      "text/plain": [
       "<matplotlib.figure.Figure at 0x2010f400>"
      ]
     },
     "metadata": {},
     "output_type": "display_data"
    }
   ],
   "source": [
    "model15_set3=linear_regression(poly15_set3_data,set3_data['price'],poly15_set3_data['power_1'])"
   ]
  },
  {
   "cell_type": "code",
   "execution_count": 292,
   "metadata": {
    "collapsed": false
   },
   "outputs": [
    {
     "data": {
      "text/plain": [
       "array([  2.83751934e-88,   8.49513508e-50,   2.88938057e-55,\n",
       "         1.63512324e-58,   1.45972449e-72,   4.27894908e-69,\n",
       "         2.68009626e-65,   1.63911362e-61,   9.66435015e-58,\n",
       "         5.38044653e-54,   2.72563636e-50,   1.16253248e-46,\n",
       "         3.33756141e-43,  -6.76238818e-47,   3.43132932e-51])"
      ]
     },
     "execution_count": 292,
     "metadata": {},
     "output_type": "execute_result"
    }
   ],
   "source": [
    "model15_set3.coef_"
   ]
  },
  {
   "cell_type": "code",
   "execution_count": 289,
   "metadata": {
    "collapsed": false
   },
   "outputs": [
    {
     "data": {
      "image/png": "[encoded data removed]",
      "text/plain": [
       "<matplotlib.figure.Figure at 0x1dfa3ef0>"
      ]
     },
     "metadata": {},
     "output_type": "display_data"
    }
   ],
   "source": [
    "model15_set4=linear_regression(poly15_set4_data,set4_data['price'],poly15_set4_data['power_1'])"
   ]
  },
  {
   "cell_type": "code",
   "execution_count": 290,
   "metadata": {
    "collapsed": false
   },
   "outputs": [
    {
     "data": {
      "text/plain": [
       "array([  1.37116054e-76,   2.79734952e-40,  -2.09982102e-44,\n",
       "         5.06988409e-49,   3.99140130e-53,  -2.39810761e-58,\n",
       "         1.27070047e-54,   4.87868978e-51,   1.73549024e-47,\n",
       "         5.47058327e-44,   1.39587601e-40,   2.25041874e-37,\n",
       "        -9.43954130e-41,   1.31573062e-44,  -6.09164933e-49])"
      ]
     },
     "execution_count": 290,
     "metadata": {},
     "output_type": "execute_result"
    }
   ],
   "source": [
    "model15_set4.coef_"
   ]
  },
  {
   "cell_type": "markdown",
   "metadata": {},
   "source": [
    "# ---------------------------------------------------------------------------------------------------"
   ]
  },
  {
   "cell_type": "code",
   "execution_count": 309,
   "metadata": {
    "collapsed": false
   },
   "outputs": [
    {
     "data": {
      "text/plain": [
       "'rss_6'"
      ]
     },
     "execution_count": 309,
     "metadata": {},
     "output_type": "execute_result"
    }
   ],
   "source": [
    "from sklearn import metrics\n",
    "results={}\n",
    "result_test={}\n",
    "for i in range(1,16):\n",
    "    model_train=polynomial_sframe(train_data['sqft_living'],i)\n",
    "    model_valid=polynomial_sframe(valid_data['sqft_living'],i)\n",
    "    model_test=polynomial_sframe(test_data['sqft_living'],i)\n",
    "    reg=LinearRegression()\n",
    "    reg.fit(model_train,train_data['price'])\n",
    "    pred=reg.predict(model_valid)\n",
    "    pred1=reg.predict(model_test)\n",
    "    name='rss_'+str(i)\n",
    "    rss=(metrics.mean_squared_error(valid_data['price'],pred))*valid_data.shape[0]\n",
    "    rss1=(metrics.mean_squared_error(test_data['price'],pred1))*test_data.shape[0]\n",
    "    results[name]=rss\n",
    "    result_test[name]=rss1\n",
    "min(results, key=results.get)"
   ]
  },
  {
   "cell_type": "code",
   "execution_count": 310,
   "metadata": {
    "collapsed": false
   },
   "outputs": [
    {
     "data": {
      "text/plain": [
       "{'rss_1': 629097886299586.75,\n",
       " 'rss_10': 2.4759214423260246e+17,\n",
       " 'rss_11': 1.1938929198942461e+18,\n",
       " 'rss_12': 5.2466385973387192e+18,\n",
       " 'rss_13': 7.6162300212585293e+17,\n",
       " 'rss_14': 2.2975609251850529e+18,\n",
       " 'rss_15': 6.9550380964628029e+18,\n",
       " 'rss_2': 623955062706518.12,\n",
       " 'rss_3': 625820280251625.87,\n",
       " 'rss_4': 629987339569205.5,\n",
       " 'rss_5': 628282806733194.75,\n",
       " 'rss_6': 566268590919411.87,\n",
       " 'rss_7': 1073844950363244.1,\n",
       " 'rss_8': 7087513435874482.0,\n",
       " 'rss_9': 45306274785935336.0}"
      ]
     },
     "execution_count": 310,
     "metadata": {},
     "output_type": "execute_result"
    }
   ],
   "source": [
    "results"
   ]
  },
  {
   "cell_type": "code",
   "execution_count": 311,
   "metadata": {
    "collapsed": false
   },
   "outputs": [
    {
     "data": {
      "text/plain": [
       "{'rss_1': 142347931358638.78,\n",
       " 'rss_10': 163697502524815.56,\n",
       " 'rss_11': 184483630171704.06,\n",
       " 'rss_12': 204209283900058.0,\n",
       " 'rss_13': 269960927584758.09,\n",
       " 'rss_14': 274049430547840.91,\n",
       " 'rss_15': 276693705522739.31,\n",
       " 'rss_2': 135542039274080.44,\n",
       " 'rss_3': 135585996079052.8,\n",
       " 'rss_4': 135382681393099.45,\n",
       " 'rss_5': 135496642005026.66,\n",
       " 'rss_6': 135225114566962.3,\n",
       " 'rss_7': 133047311234379.44,\n",
       " 'rss_8': 134874030488625.69,\n",
       " 'rss_9': 145662402190453.75}"
      ]
     },
     "execution_count": 311,
     "metadata": {},
     "output_type": "execute_result"
    }
   ],
   "source": [
    "result_test"
   ]
  },
  {
   "cell_type": "code",
   "execution_count": null,
   "metadata": {
    "collapsed": true
   },
   "outputs": [],
   "source": []
  }
 ],
 "metadata": {
  "kernelspec": {
   "display_name": "Python 2",
   "language": "python",
   "name": "python2"
  },
  "language_info": {
   "codemirror_mode": {
    "name": "ipython",
    "version": 2
   },
   "file_extension": ".py",
   "mimetype": "text/x-python",
   "name": "python",
   "nbconvert_exporter": "python",
   "pygments_lexer": "ipython2",
   "version": "2.7.11"
  }
 },
 "nbformat": 4,
 "nbformat_minor": 0
}
