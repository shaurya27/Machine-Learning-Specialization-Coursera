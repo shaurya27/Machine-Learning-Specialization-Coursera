{
 "cells": [
  {
   "cell_type": "code",
   "execution_count": 1,
   "metadata": {
    "collapsed": true
   },
   "outputs": [],
   "source": [
    "import numpy as np\n",
    "import pandas as pd\n",
    "from math import sqrt"
   ]
  },
  {
   "cell_type": "code",
   "execution_count": 2,
   "metadata": {
    "collapsed": true
   },
   "outputs": [],
   "source": [
    "data=pd.read_csv(\"kc_house_data.csv\")\n",
    "train_data=pd.read_csv(\"kc_house_train_data.csv\")\n",
    "test_data=pd.read_csv(\"kc_house_test_data.csv\")"
   ]
  },
  {
   "cell_type": "code",
   "execution_count": 3,
   "metadata": {
    "collapsed": true
   },
   "outputs": [],
   "source": [
    "feature_sqft=np.array([np.ones(17384),train_data['sqft_living']])\n",
    "feature_sqft=feature_sqft.transpose()"
   ]
  },
  {
   "cell_type": "code",
   "execution_count": 4,
   "metadata": {
    "collapsed": false
   },
   "outputs": [
    {
     "data": {
      "text/plain": [
       "array([[  1.00000000e+00,   1.18000000e+03],\n",
       "       [  1.00000000e+00,   2.57000000e+03],\n",
       "       [  1.00000000e+00,   7.70000000e+02],\n",
       "       ..., \n",
       "       [  1.00000000e+00,   1.53000000e+03],\n",
       "       [  1.00000000e+00,   1.60000000e+03],\n",
       "       [  1.00000000e+00,   1.02000000e+03]])"
      ]
     },
     "execution_count": 4,
     "metadata": {},
     "output_type": "execute_result"
    }
   ],
   "source": [
    "feature_sqft"
   ]
  },
  {
   "cell_type": "code",
   "execution_count": 5,
   "metadata": {
    "collapsed": true
   },
   "outputs": [],
   "source": [
    "output=np.array(train_data['price'])"
   ]
  },
  {
   "cell_type": "code",
   "execution_count": 7,
   "metadata": {
    "collapsed": false
   },
   "outputs": [
    {
     "name": "stdout",
     "output_type": "stream",
     "text": [
      "1181.0\n"
     ]
    }
   ],
   "source": [
    "my_weights = np.array([1.,1.]) # the example weights\n",
    "my_features = feature_sqft[0,] # we'll use the first data point\n",
    "predicted_value = np.dot(my_features, my_weights)\n",
    "print predicted_value"
   ]
  },
  {
   "cell_type": "code",
   "execution_count": 8,
   "metadata": {
    "collapsed": false
   },
   "outputs": [],
   "source": [
    "weight_sqft=np.array([-4700.0,1.0])"
   ]
  },
  {
   "cell_type": "code",
   "execution_count": 9,
   "metadata": {
    "collapsed": false
   },
   "outputs": [
    {
     "data": {
      "text/plain": [
       "1.0"
      ]
     },
     "execution_count": 9,
     "metadata": {},
     "output_type": "execute_result"
    }
   ],
   "source": [
    "weight_sqft[1]"
   ]
  },
  {
   "cell_type": "code",
   "execution_count": 10,
   "metadata": {
    "collapsed": true
   },
   "outputs": [],
   "source": [
    "def predict_outcome(feature_matrix,weights):\n",
    "    predictions=np.dot(feature_matrix,weights)\n",
    "    return(predictions)"
   ]
  },
  {
   "cell_type": "code",
   "execution_count": 11,
   "metadata": {
    "collapsed": false
   },
   "outputs": [
    {
     "name": "stdout",
     "output_type": "stream",
     "text": [
      "1181.0\n",
      "2571.0\n"
     ]
    }
   ],
   "source": [
    "test_predictions = predict_outcome(feature_sqft, my_weights)\n",
    "print test_predictions[0] # should be 1181.0\n",
    "print test_predictions[1]"
   ]
  },
  {
   "cell_type": "code",
   "execution_count": 12,
   "metadata": {
    "collapsed": true
   },
   "outputs": [],
   "source": [
    "def feature_derivative(errors, feature):\n",
    "    derivative = 2*np.dot(errors, feature)\n",
    "    return(derivative)"
   ]
  },
  {
   "cell_type": "code",
   "execution_count": 34,
   "metadata": {
    "collapsed": false
   },
   "outputs": [
    {
     "name": "stdout",
     "output_type": "stream",
     "text": [
      "[-267720. -582430. -226230. ..., -405470. -445400. -370980.]\n",
      "-20314476454.0\n",
      "-5.05515267032e+13\n",
      "5.0551530785e+13\n"
     ]
    }
   ],
   "source": [
    "my_weights = np.array([-47000.0,1.])\n",
    "test_predictions = predict_outcome(feature_sqft, my_weights) \n",
    "#print feature_sqft.shape\n",
    "#print my_weights.shape\n",
    "#print test_predictions\n",
    "#k=np.dot(feature_sqft,my_weights)\n",
    "#print k\n",
    "# just like SFrames 2 numpy arrays can be elementwise subtracted with '-': \n",
    "errors = test_predictions - output\n",
    "print errors\n",
    "# prediction errors in this case is just the -example_output\n",
    "#print (errors.sum())*2\n",
    "feature = feature_sqft[:,0]# let's compute the derivative with respect to 'constant', the \":\" indicates \"all rows\"\n",
    "featuree = feature_sqft[:,1]\n",
    "#print feature\n",
    "#print my_weights\n",
    "derivative = feature_derivative(errors, feature)\n",
    "derivativee = feature_derivative(errors, featuree)\n",
    "s=np.sqrt(derivative**2+derivativee**2)\n",
    "print derivative\n",
    "print derivativee\n",
    "print s\n",
    "#print -np.sum(output)*2"
   ]
  },
  {
   "cell_type": "code",
   "execution_count": 16,
   "metadata": {
    "collapsed": false
   },
   "outputs": [
    {
     "data": {
      "text/plain": [
       "array([ 0.,  0.,  0., ...,  0.,  0.,  0.])"
      ]
     },
     "execution_count": 16,
     "metadata": {},
     "output_type": "execute_result"
    }
   ],
   "source": [
    "test_predictions"
   ]
  },
  {
   "cell_type": "code",
   "execution_count": 22,
   "metadata": {
    "collapsed": false
   },
   "outputs": [
    {
     "name": "stdout",
     "output_type": "stream",
     "text": [
      "[[  1.00000000e+00   1.18000000e+03]\n",
      " [  1.00000000e+00   2.57000000e+03]\n",
      " [  1.00000000e+00   7.70000000e+02]\n",
      " ..., \n",
      " [  1.00000000e+00   1.53000000e+03]\n",
      " [  1.00000000e+00   1.60000000e+03]\n",
      " [  1.00000000e+00   1.02000000e+03]]\n",
      "[ -4.70000000e+04   1.00000000e+00]\n",
      "[-45820. -44430. -46230. ..., -45470. -45400. -45980.]\n",
      "[-267720. -582430. -226230. ..., -405470. -445400. -370980.]\n"
     ]
    }
   ],
   "source": [
    "regression_gradient_descent(feature_sqft,output,np.array([-47000., 1.]),7e-12,2.5e7)"
   ]
  },
  {
   "cell_type": "code",
   "execution_count": 38,
   "metadata": {
    "collapsed": true
   },
   "outputs": [],
   "source": [
    "def regression_gradient_descent(feature_matrix,output,initial_weights,step_size, tolerance):\n",
    "    weights = initial_weights\n",
    "    prediction=predict_outcome(feature_matrix,weights)\n",
    "    gradient_magnitude=0\n",
    "    converged=False\n",
    "    while not converged:\n",
    "        prediction=predict_outcome(feature_matrix,weights)\n",
    "        error=prediction-output\n",
    "        gradient_sum_square=0\n",
    "        for i in range(len(weights)):\n",
    "            derivative=feature_derivative(error, feature_matrix[:,i])\n",
    "            gradient_sum_square+= derivative*derivative\n",
    "            weights[i]-=(step_size*derivative)\n",
    "        gradient_magnitude=sqrt(gradient_sum_square)\n",
    "        print weights\n",
    "        print gradient_magnitude\n",
    "        if(gradient_magnitude<tolerance):\n",
    "  \n",
    "8converged=True\n",
    "    return(weights)\n",
    "       \n",
    "        "
   ]
  },
  {
   "cell_type": "code",
   "execution_count": 39,
   "metadata": {
    "collapsed": false
   },
   "outputs": [
    {
     "name": "stdout",
     "output_type": "stream",
     "text": [
      "[-46999.85779866    354.86068692]\n",
      "5.0551530785e+13\n",
      "[-46999.894732      262.96853716]\n",
      "1.31274510263e+13\n",
      "[-46999.88514683    286.83150782]\n",
      "3.40899608324e+12\n",
      "[-46999.88764179    280.63466326]\n",
      "8.85263580285e+11\n",
      "[-46999.88699974    282.24388799]\n",
      "2.29889265768e+11\n",
      "[-46999.88717231    281.82599721]\n",
      "59698688272.2\n",
      "[-46999.88713334    281.93451699]\n",
      "15502826425.3\n",
      "[-46999.88714931    281.90633608]\n",
      "4025844402.35\n",
      "[-46999.88715101    281.91365423]\n",
      "1045449748.38\n",
      "[-46999.88715641    281.91175382]\n",
      "271487891.952\n",
      "[-46999.88716085    281.91224733]\n",
      "70504114.843\n",
      "[-46999.88716555    281.91211918]\n",
      "18320017.2682\n"
     ]
    },
    {
     "data": {
      "text/plain": [
       "array([-46999.88716555,    281.91211918])"
      ]
     },
     "execution_count": 39,
     "metadata": {},
     "output_type": "execute_result"
    }
   ],
   "source": [
    "regression_gradient_descent(feature_sqft,output,np.array([-47000.0,1.0]),7e-12,2.5e7)"
   ]
  },
  {
   "cell_type": "code",
   "execution_count": null,
   "metadata": {
    "collapsed": true
   },
   "outputs": [],
   "source": []
  }
 ],
 "metadata": {
  "kernelspec": {
   "display_name": "Python 2",
   "language": "python",
   "name": "python2"
  },
  "language_info": {
   "codemirror_mode": {
    "name": "ipython",
    "version": 2
   },
   "file_extension": ".py",
   "mimetype": "text/x-python",
   "name": "python",
   "nbconvert_exporter": "python",
   "pygments_lexer": "ipython2",
   "version": "2.7.11"
  }
 },
 "nbformat": 4,
 "nbformat_minor": 0
}
