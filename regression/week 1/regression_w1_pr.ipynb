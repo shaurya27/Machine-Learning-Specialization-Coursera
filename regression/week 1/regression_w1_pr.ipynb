{
 "cells": [
  {
   "cell_type": "code",
   "execution_count": 1,
   "metadata": {
    "collapsed": false
   },
   "outputs": [],
   "source": [
    "import pandas as pd\n",
    "import numpy as np\n",
    "import matplotlib.pyplot as plt\n",
    "%matplotlib inline"
   ]
  },
  {
   "cell_type": "code",
   "execution_count": 2,
   "metadata": {
    "collapsed": true
   },
   "outputs": [],
   "source": [
    "data=pd.read_csv(\"Philadelphia_Crime_Rate_noNA.csv\")"
   ]
  },
  {
   "cell_type": "code",
   "execution_count": 3,
   "metadata": {
    "collapsed": false
   },
   "outputs": [
    {
     "data": {
      "text/html": [
       "<div>\n",
       "<table border=\"1\" class=\"dataframe\">\n",
       "  <thead>\n",
       "    <tr style=\"text-align: right;\">\n",
       "      <th></th>\n",
       "      <th>HousePrice</th>\n",
       "      <th>HsPrc ($10,000)</th>\n",
       "      <th>CrimeRate</th>\n",
       "      <th>MilesPhila</th>\n",
       "      <th>PopChg</th>\n",
       "      <th>Name</th>\n",
       "      <th>County</th>\n",
       "    </tr>\n",
       "  </thead>\n",
       "  <tbody>\n",
       "    <tr>\n",
       "      <th>0</th>\n",
       "      <td>140463</td>\n",
       "      <td>14.0463</td>\n",
       "      <td>29.7</td>\n",
       "      <td>10</td>\n",
       "      <td>-1.0</td>\n",
       "      <td>Abington</td>\n",
       "      <td>Montgome</td>\n",
       "    </tr>\n",
       "    <tr>\n",
       "      <th>1</th>\n",
       "      <td>113033</td>\n",
       "      <td>11.3033</td>\n",
       "      <td>24.1</td>\n",
       "      <td>18</td>\n",
       "      <td>4.0</td>\n",
       "      <td>Ambler</td>\n",
       "      <td>Montgome</td>\n",
       "    </tr>\n",
       "    <tr>\n",
       "      <th>2</th>\n",
       "      <td>124186</td>\n",
       "      <td>12.4186</td>\n",
       "      <td>19.5</td>\n",
       "      <td>25</td>\n",
       "      <td>8.0</td>\n",
       "      <td>Aston</td>\n",
       "      <td>Delaware</td>\n",
       "    </tr>\n",
       "    <tr>\n",
       "      <th>3</th>\n",
       "      <td>110490</td>\n",
       "      <td>11.0490</td>\n",
       "      <td>49.4</td>\n",
       "      <td>25</td>\n",
       "      <td>2.7</td>\n",
       "      <td>Bensalem</td>\n",
       "      <td>Bucks</td>\n",
       "    </tr>\n",
       "    <tr>\n",
       "      <th>4</th>\n",
       "      <td>79124</td>\n",
       "      <td>7.9124</td>\n",
       "      <td>54.1</td>\n",
       "      <td>19</td>\n",
       "      <td>3.9</td>\n",
       "      <td>Bristol B.</td>\n",
       "      <td>Bucks</td>\n",
       "    </tr>\n",
       "  </tbody>\n",
       "</table>\n",
       "</div>"
      ],
      "text/plain": [
       "   HousePrice  HsPrc ($10,000)  CrimeRate  MilesPhila  PopChg        Name  \\\n",
       "0      140463          14.0463       29.7          10    -1.0    Abington   \n",
       "1      113033          11.3033       24.1          18     4.0      Ambler   \n",
       "2      124186          12.4186       19.5          25     8.0       Aston   \n",
       "3      110490          11.0490       49.4          25     2.7    Bensalem   \n",
       "4       79124           7.9124       54.1          19     3.9  Bristol B.   \n",
       "\n",
       "     County  \n",
       "0  Montgome  \n",
       "1  Montgome  \n",
       "2  Delaware  \n",
       "3     Bucks  \n",
       "4     Bucks  "
      ]
     },
     "execution_count": 3,
     "metadata": {},
     "output_type": "execute_result"
    }
   ],
   "source": [
    "data.head()"
   ]
  },
  {
   "cell_type": "code",
   "execution_count": 4,
   "metadata": {
    "collapsed": false
   },
   "outputs": [
    {
     "data": {
      "text/plain": [
       "pandas.core.series.Series"
      ]
     },
     "execution_count": 4,
     "metadata": {},
     "output_type": "execute_result"
    }
   ],
   "source": [
    "type(data['HousePrice'])"
   ]
  },
  {
   "cell_type": "code",
   "execution_count": 5,
   "metadata": {
    "collapsed": false
   },
   "outputs": [
    {
     "data": {
      "text/plain": [
       "(99, 7)"
      ]
     },
     "execution_count": 5,
     "metadata": {},
     "output_type": "execute_result"
    }
   ],
   "source": [
    "data.shape"
   ]
  },
  {
   "cell_type": "code",
   "execution_count": 6,
   "metadata": {
    "collapsed": false
   },
   "outputs": [],
   "source": [
    "y=data['HousePrice']\n",
    "x=data['CrimeRate']"
   ]
  },
  {
   "cell_type": "code",
   "execution_count": 7,
   "metadata": {
    "collapsed": false
   },
   "outputs": [
    {
     "data": {
      "text/plain": [
       "0     29.7\n",
       "1     24.1\n",
       "2     19.5\n",
       "3     49.4\n",
       "4     54.1\n",
       "5     48.6\n",
       "6     30.8\n",
       "7     10.8\n",
       "8     20.2\n",
       "9     20.4\n",
       "10    17.3\n",
       "11    50.3\n",
       "12    34.2\n",
       "13    33.7\n",
       "14    45.7\n",
       "15    22.3\n",
       "16    48.1\n",
       "17    19.4\n",
       "18    71.9\n",
       "19    45.1\n",
       "20    31.3\n",
       "21    24.9\n",
       "22    27.2\n",
       "23    17.7\n",
       "24    29.0\n",
       "25    21.4\n",
       "26    28.6\n",
       "27    29.3\n",
       "28    17.5\n",
       "29    16.5\n",
       "      ... \n",
       "69    24.1\n",
       "70    21.2\n",
       "71     9.8\n",
       "72    29.9\n",
       "73     7.2\n",
       "74    19.4\n",
       "75    41.1\n",
       "76    11.2\n",
       "77    21.2\n",
       "78    42.8\n",
       "79     9.4\n",
       "80    61.7\n",
       "81    19.4\n",
       "82     6.6\n",
       "83    15.9\n",
       "84    18.8\n",
       "85    13.2\n",
       "86    34.5\n",
       "87    22.1\n",
       "88    22.1\n",
       "89    71.9\n",
       "90    31.9\n",
       "91    44.6\n",
       "92    28.6\n",
       "93    24.0\n",
       "94    13.8\n",
       "95    29.9\n",
       "96     9.9\n",
       "97    22.6\n",
       "98    13.0\n",
       "Name: CrimeRate, dtype: float64"
      ]
     },
     "execution_count": 7,
     "metadata": {},
     "output_type": "execute_result"
    }
   ],
   "source": [
    "x"
   ]
  },
  {
   "cell_type": "code",
   "execution_count": 8,
   "metadata": {
    "collapsed": false
   },
   "outputs": [],
   "source": [
    "x=np.reshape(x,(99,1))\n",
    "y=np.reshape(y,(99,1))"
   ]
  },
  {
   "cell_type": "code",
   "execution_count": 9,
   "metadata": {
    "collapsed": false
   },
   "outputs": [
    {
     "data": {
      "text/plain": [
       "array([[  29.7],\n",
       "       [  24.1],\n",
       "       [  19.5],\n",
       "       [  49.4],\n",
       "       [  54.1],\n",
       "       [  48.6],\n",
       "       [  30.8],\n",
       "       [  10.8],\n",
       "       [  20.2],\n",
       "       [  20.4],\n",
       "       [  17.3],\n",
       "       [  50.3],\n",
       "       [  34.2],\n",
       "       [  33.7],\n",
       "       [  45.7],\n",
       "       [  22.3],\n",
       "       [  48.1],\n",
       "       [  19.4],\n",
       "       [  71.9],\n",
       "       [  45.1],\n",
       "       [  31.3],\n",
       "       [  24.9],\n",
       "       [  27.2],\n",
       "       [  17.7],\n",
       "       [  29. ],\n",
       "       [  21.4],\n",
       "       [  28.6],\n",
       "       [  29.3],\n",
       "       [  17.5],\n",
       "       [  16.5],\n",
       "       [  17.8],\n",
       "       [  17.3],\n",
       "       [  31.2],\n",
       "       [  14.5],\n",
       "       [  15.7],\n",
       "       [  28.6],\n",
       "       [  20.8],\n",
       "       [  29.3],\n",
       "       [  19.3],\n",
       "       [  39.5],\n",
       "       [  13. ],\n",
       "       [  24.1],\n",
       "       [  38. ],\n",
       "       [  40.1],\n",
       "       [  36.1],\n",
       "       [  26.6],\n",
       "       [  25.1],\n",
       "       [  14.6],\n",
       "       [  18.2],\n",
       "       [  15.3],\n",
       "       [  15.2],\n",
       "       [  17.4],\n",
       "       [  73.3],\n",
       "       [   7.1],\n",
       "       [  12.5],\n",
       "       [  45.8],\n",
       "       [  44.9],\n",
       "       [  65. ],\n",
       "       [  49.9],\n",
       "       [  54.8],\n",
       "       [  53.5],\n",
       "       [  69.9],\n",
       "       [ 366.1],\n",
       "       [  24.6],\n",
       "       [  58.6],\n",
       "       [  53.2],\n",
       "       [  17.4],\n",
       "       [  15.5],\n",
       "       [  14.5],\n",
       "       [  24.1],\n",
       "       [  21.2],\n",
       "       [   9.8],\n",
       "       [  29.9],\n",
       "       [   7.2],\n",
       "       [  19.4],\n",
       "       [  41.1],\n",
       "       [  11.2],\n",
       "       [  21.2],\n",
       "       [  42.8],\n",
       "       [   9.4],\n",
       "       [  61.7],\n",
       "       [  19.4],\n",
       "       [   6.6],\n",
       "       [  15.9],\n",
       "       [  18.8],\n",
       "       [  13.2],\n",
       "       [  34.5],\n",
       "       [  22.1],\n",
       "       [  22.1],\n",
       "       [  71.9],\n",
       "       [  31.9],\n",
       "       [  44.6],\n",
       "       [  28.6],\n",
       "       [  24. ],\n",
       "       [  13.8],\n",
       "       [  29.9],\n",
       "       [   9.9],\n",
       "       [  22.6],\n",
       "       [  13. ]])"
      ]
     },
     "execution_count": 9,
     "metadata": {},
     "output_type": "execute_result"
    }
   ],
   "source": [
    "x"
   ]
  },
  {
   "cell_type": "code",
   "execution_count": 10,
   "metadata": {
    "collapsed": false
   },
   "outputs": [
    {
     "data": {
      "text/plain": [
       "<matplotlib.collections.PathCollection at 0xc1f1a90>"
      ]
     },
     "execution_count": 10,
     "metadata": {},
     "output_type": "execute_result"
    },
    {
     "data": {
      "image/png": "[encoded data removed]",
      "text/plain": [
       "<matplotlib.figure.Figure at 0xc0e5be0>"
      ]
     },
     "metadata": {},
     "output_type": "display_data"
    }
   ],
   "source": [
    "fig=plt.figure()\n",
    "ax=fig.add_subplot(111)\n",
    "ax.scatter(x,y)"
   ]
  },
  {
   "cell_type": "code",
   "execution_count": 11,
   "metadata": {
    "collapsed": true
   },
   "outputs": [],
   "source": [
    "from sklearn.linear_model import LinearRegression\n",
    "linreg=LinearRegression()"
   ]
  },
  {
   "cell_type": "code",
   "execution_count": 32,
   "metadata": {
    "collapsed": false
   },
   "outputs": [
    {
     "data": {
      "text/plain": [
       "LinearRegression(copy_X=True, fit_intercept=True, n_jobs=1, normalize=False)"
      ]
     },
     "execution_count": 32,
     "metadata": {},
     "output_type": "execute_result"
    }
   ],
   "source": [
    "linreg.fit(x,y)"
   ]
  },
  {
   "cell_type": "code",
   "execution_count": 33,
   "metadata": {
    "collapsed": true
   },
   "outputs": [],
   "source": [
    "crime_model=linreg.predict(x)"
   ]
  },
  {
   "cell_type": "code",
   "execution_count": 34,
   "metadata": {
    "collapsed": false
   },
   "outputs": [
    {
     "data": {
      "text/plain": [
       "[<matplotlib.lines.Line2D at 0xc2dd3c8>,\n",
       " <matplotlib.lines.Line2D at 0x196d63c8>]"
      ]
     },
     "execution_count": 34,
     "metadata": {},
     "output_type": "execute_result"
    },
    {
     "data": {
      "image/png": "[encoded data removed]",
      "text/plain": [
       "<matplotlib.figure.Figure at 0x199920f0>"
      ]
     },
     "metadata": {},
     "output_type": "display_data"
    }
   ],
   "source": [
    "fig1=plt.figure()\n",
    "ax=fig1.add_subplot(111)\n",
    "ax.plot(x,y,'.',x,crime_model,'-')"
   ]
  },
  {
   "cell_type": "code",
   "execution_count": 35,
   "metadata": {
    "collapsed": false
   },
   "outputs": [
    {
     "data": {
      "text/plain": [
       "array([[-576.90812768]])"
      ]
     },
     "execution_count": 35,
     "metadata": {},
     "output_type": "execute_result"
    }
   ],
   "source": [
    "linreg.coef_"
   ]
  },
  {
   "cell_type": "code",
   "execution_count": 36,
   "metadata": {
    "collapsed": false
   },
   "outputs": [
    {
     "name": "stdout",
     "output_type": "stream",
     "text": [
      "[ 176629.40810695]\n",
      "[[-576.90812768]]\n"
     ]
    }
   ],
   "source": [
    "print linreg.intercept_\n",
    "print linreg.coef_"
   ]
  },
  {
   "cell_type": "code",
   "execution_count": 16,
   "metadata": {
    "collapsed": false
   },
   "outputs": [],
   "source": [
    "data_nocc=data[data['MilesPhila']!=0.0]"
   ]
  },
  {
   "cell_type": "code",
   "execution_count": 17,
   "metadata": {
    "collapsed": true
   },
   "outputs": [],
   "source": [
    "y_nocc=data_nocc['HousePrice']\n",
    "x_nocc=data_nocc['CrimeRate']"
   ]
  },
  {
   "cell_type": "code",
   "execution_count": 18,
   "metadata": {
    "collapsed": false
   },
   "outputs": [
    {
     "data": {
      "text/plain": [
       "(98L,)"
      ]
     },
     "execution_count": 18,
     "metadata": {},
     "output_type": "execute_result"
    }
   ],
   "source": [
    "x_nocc.shape"
   ]
  },
  {
   "cell_type": "code",
   "execution_count": 19,
   "metadata": {
    "collapsed": true
   },
   "outputs": [],
   "source": [
    "x_nocc=np.reshape(x_nocc,(98,1))\n",
    "y_nocc=np.reshape(y_nocc,(98,1))"
   ]
  },
  {
   "cell_type": "code",
   "execution_count": 20,
   "metadata": {
    "collapsed": false
   },
   "outputs": [
    {
     "data": {
      "text/plain": [
       "<matplotlib.collections.PathCollection at 0x19488400>"
      ]
     },
     "execution_count": 20,
     "metadata": {},
     "output_type": "execute_result"
    },
    {
     "data": {
      "image/png": "[encoded data removed]",
      "text/plain": [
       "<matplotlib.figure.Figure at 0x191d9668>"
      ]
     },
     "metadata": {},
     "output_type": "display_data"
    }
   ],
   "source": [
    "fig2=plt.figure()\n",
    "ax=fig2.add_subplot(111)\n",
    "ax.scatter(x_nocc,y_nocc)"
   ]
  },
  {
   "cell_type": "code",
   "execution_count": 21,
   "metadata": {
    "collapsed": true
   },
   "outputs": [],
   "source": [
    "linreg_nocc=LinearRegression()\n",
    "linreg_nocc.fit(x_nocc,y_nocc)\n",
    "crime_model_nocc=linreg_nocc.predict(x_nocc)"
   ]
  },
  {
   "cell_type": "code",
   "execution_count": 22,
   "metadata": {
    "collapsed": false
   },
   "outputs": [
    {
     "data": {
      "text/plain": [
       "[<matplotlib.lines.Line2D at 0x19497f60>,\n",
       " <matplotlib.lines.Line2D at 0x190679b0>]"
      ]
     },
     "execution_count": 22,
     "metadata": {},
     "output_type": "execute_result"
    },
    {
     "data": {
      "image/png": "[encoded data removed]",
      "text/plain": [
       "<matplotlib.figure.Figure at 0x194a2b70>"
      ]
     },
     "metadata": {},
     "output_type": "display_data"
    }
   ],
   "source": [
    "fig3=plt.figure()\n",
    "ax=fig3.add_subplot(111)\n",
    "ax.plot(x_nocc,y_nocc,'.',x_nocc,crime_model_nocc,'-')"
   ]
  },
  {
   "cell_type": "code",
   "execution_count": 23,
   "metadata": {
    "collapsed": false
   },
   "outputs": [
    {
     "name": "stdout",
     "output_type": "stream",
     "text": [
      "[ 225233.551839]\n",
      "[[-2288.68942995]]\n"
     ]
    }
   ],
   "source": [
    "print linreg_nocc.intercept_\n",
    "print linreg_nocc.coef_"
   ]
  },
  {
   "cell_type": "code",
   "execution_count": 24,
   "metadata": {
    "collapsed": false
   },
   "outputs": [],
   "source": [
    "data_nohighend=data_nocc[data_nocc['HousePrice']<350000]"
   ]
  },
  {
   "cell_type": "code",
   "execution_count": 25,
   "metadata": {
    "collapsed": true
   },
   "outputs": [],
   "source": [
    "y_nohighend=data_nohighend['HousePrice']\n",
    "x_nohighend=data_nohighend['CrimeRate']"
   ]
  },
  {
   "cell_type": "code",
   "execution_count": 26,
   "metadata": {
    "collapsed": false
   },
   "outputs": [
    {
     "data": {
      "text/plain": [
       "(93L,)"
      ]
     },
     "execution_count": 26,
     "metadata": {},
     "output_type": "execute_result"
    }
   ],
   "source": [
    "x_nohighend.shape"
   ]
  },
  {
   "cell_type": "code",
   "execution_count": 27,
   "metadata": {
    "collapsed": true
   },
   "outputs": [],
   "source": [
    "x_nohighend=np.reshape(x_nohighend,(93,1))\n",
    "y_nohighend=np.reshape(y_nohighend,(93,1))"
   ]
  },
  {
   "cell_type": "code",
   "execution_count": 28,
   "metadata": {
    "collapsed": false
   },
   "outputs": [
    {
     "data": {
      "text/plain": [
       "<matplotlib.collections.PathCollection at 0x19954e48>"
      ]
     },
     "execution_count": 28,
     "metadata": {},
     "output_type": "execute_result"
    },
    {
     "data": {
      "image/png": "[encoded data removed]",
      "text/plain": [
       "<matplotlib.figure.Figure at 0x1956b320>"
      ]
     },
     "metadata": {},
     "output_type": "display_data"
    }
   ],
   "source": [
    "fig4=plt.figure()\n",
    "ax=fig4.add_subplot(111)\n",
    "ax.scatter(x_nohighend,y_nohighend)"
   ]
  },
  {
   "cell_type": "code",
   "execution_count": 29,
   "metadata": {
    "collapsed": true
   },
   "outputs": [],
   "source": [
    "linreg_nohighend=LinearRegression()\n",
    "linreg_nohighend.fit(x_nohighend,y_nohighend)\n",
    "crime_model_nohighend=linreg_nohighend.predict(x_nohighend)"
   ]
  },
  {
   "cell_type": "code",
   "execution_count": 30,
   "metadata": {
    "collapsed": false
   },
   "outputs": [
    {
     "data": {
      "text/plain": [
       "[<matplotlib.lines.Line2D at 0x19802630>,\n",
       " <matplotlib.lines.Line2D at 0x19488e48>]"
      ]
     },
     "execution_count": 30,
     "metadata": {},
     "output_type": "execute_result"
    },
    {
     "data": {
      "image/png": "[encoded data removed]",
      "text/plain": [
       "<matplotlib.figure.Figure at 0x1980f1d0>"
      ]
     },
     "metadata": {},
     "output_type": "display_data"
    }
   ],
   "source": [
    "fig5=plt.figure()\n",
    "ax=fig5.add_subplot(111)\n",
    "ax.plot(x_nohighend,y_nohighend,'.',x_nohighend,crime_model_nohighend,'-')"
   ]
  },
  {
   "cell_type": "code",
   "execution_count": 31,
   "metadata": {
    "collapsed": false
   },
   "outputs": [
    {
     "name": "stdout",
     "output_type": "stream",
     "text": [
      "[ 199098.8526698]\n",
      "[[-1838.56264859]]\n"
     ]
    }
   ],
   "source": [
    "print linreg_nohighend.intercept_\n",
    "print linreg_nohighend.coef_"
   ]
  },
  {
   "cell_type": "code",
   "execution_count": null,
   "metadata": {
    "collapsed": true
   },
   "outputs": [],
   "source": []
  },
  {
   "cell_type": "code",
   "execution_count": null,
   "metadata": {
    "collapsed": true
   },
   "outputs": [],
   "source": []
  }
 ],
 "metadata": {
  "kernelspec": {
   "display_name": "Python 2",
   "language": "python",
   "name": "python2"
  },
  "language_info": {
   "codemirror_mode": {
    "name": "ipython",
    "version": 2
   },
   "file_extension": ".py",
   "mimetype": "text/x-python",
   "name": "python",
   "nbconvert_exporter": "python",
   "pygments_lexer": "ipython2",
   "version": "2.7.10"
  }
 },
 "nbformat": 4,
 "nbformat_minor": 0
}
