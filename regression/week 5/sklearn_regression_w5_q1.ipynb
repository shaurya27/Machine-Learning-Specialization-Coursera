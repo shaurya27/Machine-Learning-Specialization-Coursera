{
 "cells": [
  {
   "cell_type": "code",
   "execution_count": 69,
   "metadata": {
    "collapsed": true
   },
   "outputs": [],
   "source": [
    "import numpy as np\n",
    "import pandas as pd\n",
    "from sklearn import linear_model"
   ]
  },
  {
   "cell_type": "code",
   "execution_count": 70,
   "metadata": {
    "collapsed": true
   },
   "outputs": [],
   "source": [
    "data = pd.read_csv('kc_house_data.csv')"
   ]
  },
  {
   "cell_type": "code",
   "execution_count": 71,
   "metadata": {
    "collapsed": false
   },
   "outputs": [
    {
     "data": {
      "text/plain": [
       "id                 int64\n",
       "date              object\n",
       "price            float64\n",
       "bedrooms           int64\n",
       "bathrooms        float64\n",
       "sqft_living        int64\n",
       "sqft_lot           int64\n",
       "floors           float64\n",
       "waterfront         int64\n",
       "view               int64\n",
       "condition          int64\n",
       "grade              int64\n",
       "sqft_above         int64\n",
       "sqft_basement      int64\n",
       "yr_built           int64\n",
       "yr_renovated       int64\n",
       "zipcode            int64\n",
       "lat              float64\n",
       "long             float64\n",
       "sqft_living15      int64\n",
       "sqft_lot15         int64\n",
       "dtype: object"
      ]
     },
     "execution_count": 71,
     "metadata": {},
     "output_type": "execute_result"
    }
   ],
   "source": [
    "data.dtypes"
   ]
  },
  {
   "cell_type": "code",
   "execution_count": 72,
   "metadata": {
    "collapsed": true
   },
   "outputs": [],
   "source": [
    "dtype_dict = {'bathrooms':float, 'waterfront':int, 'sqft_above':int, 'sqft_living15':float, 'grade':int, 'yr_renovated':int, 'price':float, 'bedrooms':float, 'zipcode':str, 'long':float, 'sqft_lot15':float, 'sqft_living':float, 'floors':float, 'condition':int, 'lat':float, 'date':str, 'sqft_basement':int, 'yr_built':int, 'id':str, 'sqft_lot':int, 'view':int}"
   ]
  },
  {
   "cell_type": "code",
   "execution_count": 73,
   "metadata": {
    "collapsed": true
   },
   "outputs": [],
   "source": [
    "data = pd.read_csv('kc_house_data.csv', dtype=dtype_dict)"
   ]
  },
  {
   "cell_type": "code",
   "execution_count": 74,
   "metadata": {
    "collapsed": false
   },
   "outputs": [
    {
     "data": {
      "text/plain": [
       "id                object\n",
       "date              object\n",
       "price            float64\n",
       "bedrooms         float64\n",
       "bathrooms        float64\n",
       "sqft_living      float64\n",
       "sqft_lot           int32\n",
       "floors           float64\n",
       "waterfront         int32\n",
       "view               int32\n",
       "condition          int32\n",
       "grade              int32\n",
       "sqft_above         int32\n",
       "sqft_basement      int32\n",
       "yr_built           int32\n",
       "yr_renovated       int32\n",
       "zipcode           object\n",
       "lat              float64\n",
       "long             float64\n",
       "sqft_living15    float64\n",
       "sqft_lot15       float64\n",
       "dtype: object"
      ]
     },
     "execution_count": 74,
     "metadata": {},
     "output_type": "execute_result"
    }
   ],
   "source": [
    "data.dtypes"
   ]
  },
  {
   "cell_type": "code",
   "execution_count": 75,
   "metadata": {
    "collapsed": false
   },
   "outputs": [
    {
     "data": {
      "text/plain": [
       "(21613, 21)"
      ]
     },
     "execution_count": 75,
     "metadata": {},
     "output_type": "execute_result"
    }
   ],
   "source": [
    "data.shape"
   ]
  },
  {
   "cell_type": "code",
   "execution_count": 76,
   "metadata": {
    "collapsed": true
   },
   "outputs": [],
   "source": [
    "from math import log, sqrt\n",
    "data['sqft_living_sqrt'] = data['sqft_living'].apply(sqrt)\n",
    "data['sqft_lot_sqrt'] = data['sqft_lot'].apply(sqrt)\n",
    "data['bedrooms_square'] = data['bedrooms']*data['bedrooms']\n",
    "data['floors_square'] = data['floors']*data['floors']"
   ]
  },
  {
   "cell_type": "code",
   "execution_count": 77,
   "metadata": {
    "collapsed": false
   },
   "outputs": [
    {
     "data": {
      "text/plain": [
       "(21613, 25)"
      ]
     },
     "execution_count": 77,
     "metadata": {},
     "output_type": "execute_result"
    }
   ],
   "source": [
    "data.shape"
   ]
  },
  {
   "cell_type": "code",
   "execution_count": 99,
   "metadata": {
    "collapsed": true
   },
   "outputs": [],
   "source": [
    "all_features = ['bedrooms', 'bedrooms_square',\n",
    "            'bathrooms',\n",
    "            'sqft_living', 'sqft_living_sqrt',\n",
    "            'sqft_lot', 'sqft_lot_sqrt',\n",
    "            'floors', 'floors_square',\n",
    "            'waterfront', 'view', 'condition', 'grade',\n",
    "            'sqft_above',\n",
    "            'sqft_basement',\n",
    "            'yr_built', 'yr_renovated']"
   ]
  },
  {
   "cell_type": "code",
   "execution_count": 100,
   "metadata": {
    "collapsed": false
   },
   "outputs": [],
   "source": [
    "data_feature=data[all_features]"
   ]
  },
  {
   "cell_type": "code",
   "execution_count": 101,
   "metadata": {
    "collapsed": false
   },
   "outputs": [
    {
     "data": {
      "text/plain": [
       "(21613, 17)"
      ]
     },
     "execution_count": 101,
     "metadata": {},
     "output_type": "execute_result"
    }
   ],
   "source": [
    "data_feature.shape"
   ]
  },
  {
   "cell_type": "code",
   "execution_count": 102,
   "metadata": {
    "collapsed": false
   },
   "outputs": [],
   "source": [
    "model_all = linear_model.Lasso(alpha=5e2, normalize=True) # set parameters\n",
    "#model_all.fit(data_feature, data['price'])"
   ]
  },
  {
   "cell_type": "code",
   "execution_count": 121,
   "metadata": {
    "collapsed": false
   },
   "outputs": [
    {
     "data": {
      "text/plain": [
       "Lasso(alpha=500.0, copy_X=True, fit_intercept=True, max_iter=1000,\n",
       "   normalize=True, positive=False, precompute=False, random_state=None,\n",
       "   selection='cyclic', tol=0.0001, warm_start=False)"
      ]
     },
     "execution_count": 121,
     "metadata": {},
     "output_type": "execute_result"
    }
   ],
   "source": [
    "model_all.fit(data_feature, data['price'])"
   ]
  },
  {
   "cell_type": "code",
   "execution_count": 122,
   "metadata": {
    "collapsed": false
   },
   "outputs": [
    {
     "data": {
      "text/plain": [
       "array([     0.        ,      0.        ,      0.        ,    134.43931396,\n",
       "            0.        ,      0.        ,      0.        ,      0.        ,\n",
       "            0.        ,      0.        ,  24750.00458561,      0.        ,\n",
       "        61749.10309071,      0.        ,      0.        ,     -0.        ,\n",
       "            0.        ])"
      ]
     },
     "execution_count": 122,
     "metadata": {},
     "output_type": "execute_result"
    }
   ],
   "source": [
    "model_all.coef_"
   ]
  },
  {
   "cell_type": "markdown",
   "metadata": {},
   "source": [
    "# ---------------------------------------------------------------------------------------------------"
   ]
  },
  {
   "cell_type": "code",
   "execution_count": 123,
   "metadata": {
    "collapsed": true
   },
   "outputs": [],
   "source": [
    "testing = pd.read_csv('wk3_kc_house_test_data.csv', dtype=dtype_dict)\n",
    "training = pd.read_csv('wk3_kc_house_train_data.csv', dtype=dtype_dict)\n",
    "validation = pd.read_csv('wk3_kc_house_valid_data.csv', dtype=dtype_dict)"
   ]
  },
  {
   "cell_type": "code",
   "execution_count": 124,
   "metadata": {
    "collapsed": true
   },
   "outputs": [],
   "source": [
    "testing['sqft_living_sqrt'] = testing['sqft_living'].apply(sqrt)\n",
    "testing['sqft_lot_sqrt'] = testing['sqft_lot'].apply(sqrt)\n",
    "testing['bedrooms_square'] = testing['bedrooms']*testing['bedrooms']\n",
    "testing['floors_square'] = testing['floors']*testing['floors']\n",
    "\n",
    "training['sqft_living_sqrt'] = training['sqft_living'].apply(sqrt)\n",
    "training['sqft_lot_sqrt'] = training['sqft_lot'].apply(sqrt)\n",
    "training['bedrooms_square'] = training['bedrooms']*training['bedrooms']\n",
    "training['floors_square'] = training['floors']*training['floors']\n",
    "\n",
    "validation['sqft_living_sqrt'] = validation['sqft_living'].apply(sqrt)\n",
    "validation['sqft_lot_sqrt'] = validation['sqft_lot'].apply(sqrt)\n",
    "validation['bedrooms_square'] = validation['bedrooms']*validation['bedrooms']\n",
    "validation['floors_square'] = validation['floors']*validation['floors']"
   ]
  },
  {
   "cell_type": "code",
   "execution_count": 125,
   "metadata": {
    "collapsed": false
   },
   "outputs": [],
   "source": [
    "train_feature=training[all_features]\n",
    "valid_feature=validation[all_features]\n",
    "test_feature=testing[all_features]"
   ]
  },
  {
   "cell_type": "code",
   "execution_count": 126,
   "metadata": {
    "collapsed": false
   },
   "outputs": [
    {
     "data": {
      "text/html": [
       "<div>\n",
       "<table border=\"1\" class=\"dataframe\">\n",
       "  <thead>\n",
       "    <tr style=\"text-align: right;\">\n",
       "      <th></th>\n",
       "      <th>bedrooms</th>\n",
       "      <th>bedrooms_square</th>\n",
       "      <th>bathrooms</th>\n",
       "      <th>sqft_living</th>\n",
       "      <th>sqft_living_sqrt</th>\n",
       "      <th>sqft_lot</th>\n",
       "      <th>sqft_lot_sqrt</th>\n",
       "      <th>floors</th>\n",
       "      <th>floors_square</th>\n",
       "      <th>waterfront</th>\n",
       "      <th>view</th>\n",
       "      <th>condition</th>\n",
       "      <th>grade</th>\n",
       "      <th>sqft_above</th>\n",
       "      <th>sqft_basement</th>\n",
       "      <th>yr_built</th>\n",
       "      <th>yr_renovated</th>\n",
       "    </tr>\n",
       "  </thead>\n",
       "  <tbody>\n",
       "    <tr>\n",
       "      <th>0</th>\n",
       "      <td>4</td>\n",
       "      <td>16</td>\n",
       "      <td>3.00</td>\n",
       "      <td>1960</td>\n",
       "      <td>44.271887</td>\n",
       "      <td>5000</td>\n",
       "      <td>70.710678</td>\n",
       "      <td>1.0</td>\n",
       "      <td>1.00</td>\n",
       "      <td>0</td>\n",
       "      <td>0</td>\n",
       "      <td>5</td>\n",
       "      <td>7</td>\n",
       "      <td>1050</td>\n",
       "      <td>910</td>\n",
       "      <td>1965</td>\n",
       "      <td>0</td>\n",
       "    </tr>\n",
       "    <tr>\n",
       "      <th>1</th>\n",
       "      <td>4</td>\n",
       "      <td>16</td>\n",
       "      <td>4.50</td>\n",
       "      <td>5420</td>\n",
       "      <td>73.620649</td>\n",
       "      <td>101930</td>\n",
       "      <td>319.264780</td>\n",
       "      <td>1.0</td>\n",
       "      <td>1.00</td>\n",
       "      <td>0</td>\n",
       "      <td>0</td>\n",
       "      <td>3</td>\n",
       "      <td>11</td>\n",
       "      <td>3890</td>\n",
       "      <td>1530</td>\n",
       "      <td>2001</td>\n",
       "      <td>0</td>\n",
       "    </tr>\n",
       "    <tr>\n",
       "      <th>2</th>\n",
       "      <td>2</td>\n",
       "      <td>4</td>\n",
       "      <td>1.00</td>\n",
       "      <td>1160</td>\n",
       "      <td>34.058773</td>\n",
       "      <td>6000</td>\n",
       "      <td>77.459667</td>\n",
       "      <td>1.0</td>\n",
       "      <td>1.00</td>\n",
       "      <td>0</td>\n",
       "      <td>0</td>\n",
       "      <td>4</td>\n",
       "      <td>7</td>\n",
       "      <td>860</td>\n",
       "      <td>300</td>\n",
       "      <td>1942</td>\n",
       "      <td>0</td>\n",
       "    </tr>\n",
       "    <tr>\n",
       "      <th>3</th>\n",
       "      <td>3</td>\n",
       "      <td>9</td>\n",
       "      <td>1.00</td>\n",
       "      <td>1430</td>\n",
       "      <td>37.815341</td>\n",
       "      <td>19901</td>\n",
       "      <td>141.070904</td>\n",
       "      <td>1.5</td>\n",
       "      <td>2.25</td>\n",
       "      <td>0</td>\n",
       "      <td>0</td>\n",
       "      <td>4</td>\n",
       "      <td>7</td>\n",
       "      <td>1430</td>\n",
       "      <td>0</td>\n",
       "      <td>1927</td>\n",
       "      <td>0</td>\n",
       "    </tr>\n",
       "    <tr>\n",
       "      <th>4</th>\n",
       "      <td>3</td>\n",
       "      <td>9</td>\n",
       "      <td>1.75</td>\n",
       "      <td>1370</td>\n",
       "      <td>37.013511</td>\n",
       "      <td>9680</td>\n",
       "      <td>98.386991</td>\n",
       "      <td>1.0</td>\n",
       "      <td>1.00</td>\n",
       "      <td>0</td>\n",
       "      <td>0</td>\n",
       "      <td>4</td>\n",
       "      <td>7</td>\n",
       "      <td>1370</td>\n",
       "      <td>0</td>\n",
       "      <td>1977</td>\n",
       "      <td>0</td>\n",
       "    </tr>\n",
       "  </tbody>\n",
       "</table>\n",
       "</div>"
      ],
      "text/plain": [
       "   bedrooms  bedrooms_square  bathrooms  sqft_living  sqft_living_sqrt  \\\n",
       "0         4               16       3.00         1960         44.271887   \n",
       "1         4               16       4.50         5420         73.620649   \n",
       "2         2                4       1.00         1160         34.058773   \n",
       "3         3                9       1.00         1430         37.815341   \n",
       "4         3                9       1.75         1370         37.013511   \n",
       "\n",
       "   sqft_lot  sqft_lot_sqrt  floors  floors_square  waterfront  view  \\\n",
       "0      5000      70.710678     1.0           1.00           0     0   \n",
       "1    101930     319.264780     1.0           1.00           0     0   \n",
       "2      6000      77.459667     1.0           1.00           0     0   \n",
       "3     19901     141.070904     1.5           2.25           0     0   \n",
       "4      9680      98.386991     1.0           1.00           0     0   \n",
       "\n",
       "   condition  grade  sqft_above  sqft_basement  yr_built  yr_renovated  \n",
       "0          5      7        1050            910      1965             0  \n",
       "1          3     11        3890           1530      2001             0  \n",
       "2          4      7         860            300      1942             0  \n",
       "3          4      7        1430              0      1927             0  \n",
       "4          4      7        1370              0      1977             0  "
      ]
     },
     "execution_count": 126,
     "metadata": {},
     "output_type": "execute_result"
    }
   ],
   "source": [
    "train_feature.head()"
   ]
  },
  {
   "cell_type": "code",
   "execution_count": 170,
   "metadata": {
    "collapsed": false
   },
   "outputs": [
    {
     "data": {
      "text/plain": [
       "array([  1.00000000e+01,   3.16227766e+01,   1.00000000e+02,\n",
       "         3.16227766e+02,   1.00000000e+03,   3.16227766e+03,\n",
       "         1.00000000e+04,   3.16227766e+04,   1.00000000e+05,\n",
       "         3.16227766e+05,   1.00000000e+06,   3.16227766e+06,\n",
       "         1.00000000e+07])"
      ]
     },
     "execution_count": 170,
     "metadata": {},
     "output_type": "execute_result"
    }
   ],
   "source": [
    "l1_penalty=np.logspace(1, 7, num=13)\n",
    "l1_penalty"
   ]
  },
  {
   "cell_type": "code",
   "execution_count": 171,
   "metadata": {
    "collapsed": false
   },
   "outputs": [
    {
     "name": "stdout",
     "output_type": "stream",
     "text": [
      "10.0\n",
      "3.982133273e+14\n",
      "31.6227766017\n",
      "3.99041900253e+14\n",
      "100.0\n",
      "4.29791604073e+14\n",
      "316.227766017\n",
      "4.63739831045e+14\n",
      "1000.0\n",
      "6.45898733634e+14\n",
      "3162.27766017\n",
      "1.22250685943e+15\n",
      "10000.0\n",
      "1.22250685943e+15\n",
      "31622.7766017\n",
      "1.22250685943e+15\n",
      "100000.0\n",
      "1.22250685943e+15\n",
      "316227.766017\n",
      "1.22250685943e+15\n",
      "1000000.0\n",
      "1.22250685943e+15\n",
      "3162277.66017\n",
      "1.22250685943e+15\n",
      "10000000.0\n",
      "1.22250685943e+15\n",
      "{'rss_10000.0': 1222506859427156.8, 'rss_100.0': 429791604072558.25, 'rss_31.6227766017': 399041900253348.1, 'rss_316.227766017': 463739831045119.56, 'rss_1000000.0': 1222506859427156.8, 'rss_3162277.66017': 1222506859427156.8, 'rss_1000.0': 645898733633810.4, 'rss_10.0': 398213327300134.44, 'rss_10000000.0': 1222506859427156.8, 'rss_100000.0': 1222506859427156.8, 'rss_316227.766017': 1222506859427156.8, 'rss_31622.7766017': 1222506859427156.8, 'rss_3162.27766017': 1222506859427156.8}\n"
     ]
    }
   ],
   "source": [
    "rss_dict={}\n",
    "for i in l1_penalty:\n",
    "    rss=0.0\n",
    "    print i\n",
    "    name='rss_'+str(i)\n",
    "    model=linear_model.Lasso(alpha=i,normalize=True)\n",
    "    model.fit(train_feature,training['price'])\n",
    "    rss=np.sum((validation['price']-model.predict(valid_feature))**2)\n",
    "    print rss\n",
    "    rss_dict[name]=rss\n",
    "print rss_dict"
   ]
  },
  {
   "cell_type": "code",
   "execution_count": 172,
   "metadata": {
    "collapsed": false
   },
   "outputs": [
    {
     "data": {
      "text/plain": [
       "'rss_10.0'"
      ]
     },
     "execution_count": 172,
     "metadata": {},
     "output_type": "execute_result"
    }
   ],
   "source": [
    "min(rss_dict,key=rss_dict.get)"
   ]
  },
  {
   "cell_type": "code",
   "execution_count": 173,
   "metadata": {
    "collapsed": false
   },
   "outputs": [
    {
     "name": "stdout",
     "output_type": "stream",
     "text": [
      "15\n"
     ]
    }
   ],
   "source": [
    "    model=linear_model.Lasso(alpha=10.0**1,normalize=True)\n",
    "    model.fit(train_feature,training['price'])\n",
    "    print np.count_nonzero(model.coef_) + np.count_nonzero(model.intercept_)"
   ]
  },
  {
   "cell_type": "code",
   "execution_count": 174,
   "metadata": {
    "collapsed": false
   },
   "outputs": [
    {
     "data": {
      "text/plain": [
       "array([ -1.61445628e+04,   3.73245384e+02,   5.08412433e+04,\n",
       "         6.17853560e+02,  -4.44113549e+04,   7.85623065e-01,\n",
       "        -7.01194765e+02,  -0.00000000e+00,   5.01420046e+03,\n",
       "         6.19488752e+05,   3.80418557e+04,   2.49987718e+04,\n",
       "         1.28716235e+05,   0.00000000e+00,   0.00000000e+00,\n",
       "        -3.29383118e+03,   1.00573209e+01])"
      ]
     },
     "execution_count": 174,
     "metadata": {},
     "output_type": "execute_result"
    }
   ],
   "source": [
    "model.coef_"
   ]
  },
  {
   "cell_type": "code",
   "execution_count": 187,
   "metadata": {
    "collapsed": true
   },
   "outputs": [],
   "source": [
    "l1_penalty= np.logspace(1, 4, num=20)"
   ]
  },
  {
   "cell_type": "code",
   "execution_count": null,
   "metadata": {
    "collapsed": true
   },
   "outputs": [],
   "source": []
  },
  {
   "cell_type": "code",
   "execution_count": 190,
   "metadata": {
    "collapsed": false
   },
   "outputs": [
    {
     "name": "stdout",
     "output_type": "stream",
     "text": [
      "{'rss_3359.81828628': 0, 'rss_263.665089873': 5, 'rss_183.298071083': 6, 'rss_1623.77673919': 2, 'rss_10000.0': 0, 'rss_545.559478117': 5, 'rss_1128.83789168': 2, 'rss_2335.72146909': 1, 'rss_4832.93023857': 0, 'rss_6951.92796178': 0, 'rss_379.269019073': 5, 'rss_784.759970351': 4}\n"
     ]
    }
   ],
   "source": [
    "max_nonzeroes=7\n",
    "rss_dict={}\n",
    "for i in l1_penalty:\n",
    "    rss=0.0\n",
    "    model=linear_model.Lasso(alpha=i,normalize=True)\n",
    "    model.fit(train_feature,training['price'])    \n",
    "    non_zeroes=np.count_nonzero(model.coef_) \n",
    "    if non_zeroes<=max_nonzeroes:\n",
    "        name='rss_'+str(i)\n",
    "        #rss=np.sum((validation['price']-model.predict(valid_feature))**2)\n",
    "        rss_dict[name]=non_zeroes\n",
    "print rss_dict"
   ]
  },
  {
   "cell_type": "code",
   "execution_count": 191,
   "metadata": {
    "collapsed": false
   },
   "outputs": [
    {
     "data": {
      "text/plain": [
       "'rss_3359.81828628'"
      ]
     },
     "execution_count": 191,
     "metadata": {},
     "output_type": "execute_result"
    }
   ],
   "source": [
    "min(rss_dict,key=rss_dict.get)"
   ]
  },
  {
   "cell_type": "code",
   "execution_count": 192,
   "metadata": {
    "collapsed": false
   },
   "outputs": [
    {
     "data": {
      "text/plain": [
       "'rss_183.298071083'"
      ]
     },
     "execution_count": 192,
     "metadata": {},
     "output_type": "execute_result"
    }
   ],
   "source": [
    "max(rss_dict,key=rss_dict.get)"
   ]
  },
  {
   "cell_type": "code",
   "execution_count": 197,
   "metadata": {
    "collapsed": false
   },
   "outputs": [],
   "source": [
    "l1_penalty=np.linspace(183.298071083,3359.81828628,20)"
   ]
  },
  {
   "cell_type": "code",
   "execution_count": 198,
   "metadata": {
    "collapsed": false
   },
   "outputs": [
    {
     "name": "stdout",
     "output_type": "stream",
     "text": [
      "183.298071083\n",
      "4.43107216261e+14\n",
      "350.483345567\n",
      "4.71165276546e+14\n",
      "517.668620051\n",
      "5.20915057333e+14\n",
      "684.853894535\n",
      "5.70043280448e+14\n",
      "852.039169019\n",
      "6.09042030746e+14\n",
      "1019.2244435\n",
      "6.5115759263e+14\n",
      "1186.40971799\n",
      "6.86395309366e+14\n",
      "1353.59499247\n",
      "7.26127771423e+14\n",
      "1520.78026696\n",
      "7.71665466379e+14\n",
      "1687.96554144\n",
      "8.23005987215e+14\n",
      "1855.15081592\n",
      "8.80152768001e+14\n",
      "2022.33609041\n",
      "9.43105271514e+14\n",
      "2189.52136489\n",
      "1.00491768322e+15\n",
      "2356.70663938\n",
      "1.06966278949e+15\n",
      "2523.89191386\n",
      "1.13952249162e+15\n",
      "2691.07718834\n",
      "1.21449678962e+15\n",
      "2858.26246283\n",
      "1.22250685943e+15\n",
      "3025.44773731\n",
      "1.22250685943e+15\n",
      "3192.6330118\n",
      "1.22250685943e+15\n",
      "3359.81828628\n",
      "1.22250685943e+15\n",
      "{'rss_684.853894535': 570043280447779.6, 'rss_3025.44773731': 1222506859427156.8, 'rss_183.298071083': 443107216261366.25, 'rss_350.483345567': 471165276545646.44, 'rss_1855.15081592': 880152768001002.6, 'rss_517.668620051': 520915057332820.56, 'rss_3359.81828628': 1222506859427156.8, 'rss_1687.96554144': 823005987215079.8, 'rss_2189.52136489': 1004917683215689.6, 'rss_1019.2244435': 651157592630383.8, 'rss_2022.33609041': 943105271513543.8, 'rss_2356.70663938': 1069662789486323.0, 'rss_2523.89191386': 1139522491622195.8, 'rss_1520.78026696': 771665466379440.9, 'rss_1353.59499247': 726127771423065.5, 'rss_2691.07718834': 1214496789623320.5, 'rss_852.039169019': 609042030746489.5, 'rss_2858.26246283': 1222506859427156.8, 'rss_3192.6330118': 1222506859427156.8, 'rss_1186.40971799': 686395309366337.2}\n"
     ]
    }
   ],
   "source": [
    "rss_dict={}\n",
    "for i in l1_penalty:\n",
    "    print i\n",
    "    rss=0.0\n",
    "    name='rss_'+str(i)\n",
    "    model=linear_model.Lasso(alpha=i,normalize=True)\n",
    "    model.fit(train_feature,training['price'])\n",
    "    rss=np.sum((validation['price']-model.predict(valid_feature))**2)\n",
    "    print rss\n",
    "    rss_dict[name]=rss\n",
    "print rss_dict"
   ]
  },
  {
   "cell_type": "code",
   "execution_count": 199,
   "metadata": {
    "collapsed": false
   },
   "outputs": [
    {
     "data": {
      "text/plain": [
       "'rss_183.298071083'"
      ]
     },
     "execution_count": 199,
     "metadata": {},
     "output_type": "execute_result"
    }
   ],
   "source": [
    "min(rss_dict,key=rss_dict.get)"
   ]
  },
  {
   "cell_type": "code",
   "execution_count": 200,
   "metadata": {
    "collapsed": false
   },
   "outputs": [
    {
     "data": {
      "text/plain": [
       "Lasso(alpha=183.298071083, copy_X=True, fit_intercept=True, max_iter=1000,\n",
       "   normalize=True, positive=False, precompute=False, random_state=None,\n",
       "   selection='cyclic', tol=0.0001, warm_start=False)"
      ]
     },
     "execution_count": 200,
     "metadata": {},
     "output_type": "execute_result"
    }
   ],
   "source": [
    "model=linear_model.Lasso(alpha=183.298071083,normalize=True)\n",
    "model.fit(train_feature,training['price'])"
   ]
  },
  {
   "cell_type": "code",
   "execution_count": 201,
   "metadata": {
    "collapsed": false
   },
   "outputs": [
    {
     "data": {
      "text/plain": [
       "array([ -0.00000000e+00,  -0.00000000e+00,   4.84964317e+03,\n",
       "         1.65210126e+02,   0.00000000e+00,  -0.00000000e+00,\n",
       "        -0.00000000e+00,   0.00000000e+00,   0.00000000e+00,\n",
       "         4.84780808e+05,   4.14997727e+04,   0.00000000e+00,\n",
       "         1.13406888e+05,   0.00000000e+00,   0.00000000e+00,\n",
       "        -2.41386679e+03,   0.00000000e+00])"
      ]
     },
     "execution_count": 201,
     "metadata": {},
     "output_type": "execute_result"
    }
   ],
   "source": [
    "model.coef_"
   ]
  },
  {
   "cell_type": "code",
   "execution_count": 202,
   "metadata": {
    "collapsed": false
   },
   "outputs": [
    {
     "data": {
      "text/html": [
       "<div>\n",
       "<table border=\"1\" class=\"dataframe\">\n",
       "  <thead>\n",
       "    <tr style=\"text-align: right;\">\n",
       "      <th></th>\n",
       "      <th>bedrooms</th>\n",
       "      <th>bedrooms_square</th>\n",
       "      <th>bathrooms</th>\n",
       "      <th>sqft_living</th>\n",
       "      <th>sqft_living_sqrt</th>\n",
       "      <th>sqft_lot</th>\n",
       "      <th>sqft_lot_sqrt</th>\n",
       "      <th>floors</th>\n",
       "      <th>floors_square</th>\n",
       "      <th>waterfront</th>\n",
       "      <th>view</th>\n",
       "      <th>condition</th>\n",
       "      <th>grade</th>\n",
       "      <th>sqft_above</th>\n",
       "      <th>sqft_basement</th>\n",
       "      <th>yr_built</th>\n",
       "      <th>yr_renovated</th>\n",
       "    </tr>\n",
       "  </thead>\n",
       "  <tbody>\n",
       "    <tr>\n",
       "      <th>0</th>\n",
       "      <td>3</td>\n",
       "      <td>9</td>\n",
       "      <td>1.00</td>\n",
       "      <td>1180</td>\n",
       "      <td>34.351128</td>\n",
       "      <td>5650</td>\n",
       "      <td>75.166482</td>\n",
       "      <td>1</td>\n",
       "      <td>1</td>\n",
       "      <td>0</td>\n",
       "      <td>0</td>\n",
       "      <td>3</td>\n",
       "      <td>7</td>\n",
       "      <td>1180</td>\n",
       "      <td>0</td>\n",
       "      <td>1955</td>\n",
       "      <td>0</td>\n",
       "    </tr>\n",
       "    <tr>\n",
       "      <th>1</th>\n",
       "      <td>3</td>\n",
       "      <td>9</td>\n",
       "      <td>2.25</td>\n",
       "      <td>2570</td>\n",
       "      <td>50.695167</td>\n",
       "      <td>7242</td>\n",
       "      <td>85.099941</td>\n",
       "      <td>2</td>\n",
       "      <td>4</td>\n",
       "      <td>0</td>\n",
       "      <td>0</td>\n",
       "      <td>3</td>\n",
       "      <td>7</td>\n",
       "      <td>2170</td>\n",
       "      <td>400</td>\n",
       "      <td>1951</td>\n",
       "      <td>1991</td>\n",
       "    </tr>\n",
       "    <tr>\n",
       "      <th>2</th>\n",
       "      <td>2</td>\n",
       "      <td>4</td>\n",
       "      <td>1.00</td>\n",
       "      <td>770</td>\n",
       "      <td>27.748874</td>\n",
       "      <td>10000</td>\n",
       "      <td>100.000000</td>\n",
       "      <td>1</td>\n",
       "      <td>1</td>\n",
       "      <td>0</td>\n",
       "      <td>0</td>\n",
       "      <td>3</td>\n",
       "      <td>6</td>\n",
       "      <td>770</td>\n",
       "      <td>0</td>\n",
       "      <td>1933</td>\n",
       "      <td>0</td>\n",
       "    </tr>\n",
       "    <tr>\n",
       "      <th>3</th>\n",
       "      <td>3</td>\n",
       "      <td>9</td>\n",
       "      <td>2.00</td>\n",
       "      <td>1680</td>\n",
       "      <td>40.987803</td>\n",
       "      <td>8080</td>\n",
       "      <td>89.888820</td>\n",
       "      <td>1</td>\n",
       "      <td>1</td>\n",
       "      <td>0</td>\n",
       "      <td>0</td>\n",
       "      <td>3</td>\n",
       "      <td>8</td>\n",
       "      <td>1680</td>\n",
       "      <td>0</td>\n",
       "      <td>1987</td>\n",
       "      <td>0</td>\n",
       "    </tr>\n",
       "    <tr>\n",
       "      <th>4</th>\n",
       "      <td>3</td>\n",
       "      <td>9</td>\n",
       "      <td>2.25</td>\n",
       "      <td>1715</td>\n",
       "      <td>41.412558</td>\n",
       "      <td>6819</td>\n",
       "      <td>82.577237</td>\n",
       "      <td>2</td>\n",
       "      <td>4</td>\n",
       "      <td>0</td>\n",
       "      <td>0</td>\n",
       "      <td>3</td>\n",
       "      <td>7</td>\n",
       "      <td>1715</td>\n",
       "      <td>0</td>\n",
       "      <td>1995</td>\n",
       "      <td>0</td>\n",
       "    </tr>\n",
       "  </tbody>\n",
       "</table>\n",
       "</div>"
      ],
      "text/plain": [
       "   bedrooms  bedrooms_square  bathrooms  sqft_living  sqft_living_sqrt  \\\n",
       "0         3                9       1.00         1180         34.351128   \n",
       "1         3                9       2.25         2570         50.695167   \n",
       "2         2                4       1.00          770         27.748874   \n",
       "3         3                9       2.00         1680         40.987803   \n",
       "4         3                9       2.25         1715         41.412558   \n",
       "\n",
       "   sqft_lot  sqft_lot_sqrt  floors  floors_square  waterfront  view  \\\n",
       "0      5650      75.166482       1              1           0     0   \n",
       "1      7242      85.099941       2              4           0     0   \n",
       "2     10000     100.000000       1              1           0     0   \n",
       "3      8080      89.888820       1              1           0     0   \n",
       "4      6819      82.577237       2              4           0     0   \n",
       "\n",
       "   condition  grade  sqft_above  sqft_basement  yr_built  yr_renovated  \n",
       "0          3      7        1180              0      1955             0  \n",
       "1          3      7        2170            400      1951          1991  \n",
       "2          3      6         770              0      1933             0  \n",
       "3          3      8        1680              0      1987             0  \n",
       "4          3      7        1715              0      1995             0  "
      ]
     },
     "execution_count": 202,
     "metadata": {},
     "output_type": "execute_result"
    }
   ],
   "source": [
    "valid_feature.head()"
   ]
  },
  {
   "cell_type": "code",
   "execution_count": null,
   "metadata": {
    "collapsed": true
   },
   "outputs": [],
   "source": []
  }
 ],
 "metadata": {
  "kernelspec": {
   "display_name": "Python 2",
   "language": "python",
   "name": "python2"
  },
  "language_info": {
   "codemirror_mode": {
    "name": "ipython",
    "version": 2
   },
   "file_extension": ".py",
   "mimetype": "text/x-python",
   "name": "python",
   "nbconvert_exporter": "python",
   "pygments_lexer": "ipython2",
   "version": "2.7.11"
  }
 },
 "nbformat": 4,
 "nbformat_minor": 0
}
