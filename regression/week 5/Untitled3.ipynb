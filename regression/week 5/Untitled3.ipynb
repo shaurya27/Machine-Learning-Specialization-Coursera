{
 "cells": [
  {
   "cell_type": "code",
   "execution_count": 1,
   "metadata": {
    "collapsed": true
   },
   "outputs": [],
   "source": [
    "\"\"\"\n",
    "LASSO Regression: y = w0*x0 + w1*x1 + w2*x2 + ... + wD*xD\n",
    "Objective: Estimate w0, w1, w2 ... wD given x1, x2 ... xD and y\n",
    "where xN = input feature, x0 = 1.0\n",
    "      y  = output\n",
    "subject to L1 penalty\n",
    "\"\"\"\n",
    "\n",
    "# Imports\n",
    "import numpy as np\n",
    "import copy\n",
    "\n",
    "# Functions\n",
    "def get_data(data_frame, features, output):\n",
    "    \"\"\"\n",
    "    Purpose: Extract features and prepare a feature matrix\n",
    "             Set the first feature x0 = 1\n",
    "    Input  : Original Dataframe, list of feature variables, output variable\n",
    "    Output : Feature matrix array, output array\n",
    "    \"\"\"\n",
    "    data_frame['constant'] = 1.0\n",
    "    features = ['constant'] + features\n",
    "    features_matrix = np.array(data_frame[features])\n",
    "    if output != None:    \n",
    "        output_array = np.array(data_frame[output])\n",
    "    else:\n",
    "        output_array = []   \n",
    "    return(features_matrix, output_array.reshape((len(output_array))))\n",
    "\n",
    "def normalize(features):\n",
    "    \"\"\"\n",
    "    Purpose: Normalize feature matrix, each column of the matrix is a feature\n",
    "    Input  : Unnormalized feature matrix\n",
    "    Output : Normalized feature matrix, feature norms\n",
    "    \"\"\"\n",
    "    norms = np.linalg.norm(features, axis=0)\n",
    "    normalized_features = features/norms\n",
    "    return (normalized_features, norms)\n",
    "\n",
    "def predict(feature_matrix, weights):\n",
    "    \"\"\"\n",
    "    Purpose: Compute predictions by multiplying the feature matrix with\n",
    "             the estimated weights\n",
    "    Input  : Feature matrix array, weight vector\n",
    "    Output : Product of feature matrix array and weight vector\n",
    "    \"\"\"\n",
    "    predictions = feature_matrix.dot(weights)\n",
    "    return(predictions)\n",
    "\n",
    "def lasso_coordinate_descent_step(i, feature_matrix, output, weights, l1_penalty):\n",
    "    \"\"\"\n",
    "    Purpose: Compute the descent step for one feature\n",
    "    Input  : Feature index, normalized feature matrix, output,\n",
    "             feature weights and L1_penalty\n",
    "    Output : Descent step for feature\n",
    "    \"\"\"\n",
    "    predictions = feature_matrix.dot(weights)\n",
    "    rho = (feature_matrix[:, i].T).dot(output - predictions + (weights[i] * feature_matrix[:, i]))\n",
    "    if i==0:\n",
    "        new_weight = rho\n",
    "    elif rho < (-l1_penalty/2.0):\n",
    "        new_weight = rho + (l1_penalty/2.0)\n",
    "    elif rho > (l1_penalty/2.0):\n",
    "        new_weight = rho - (l1_penalty/2.0)\n",
    "    else:\n",
    "        new_weight = 0.0\n",
    "    return new_weight\n",
    "\n",
    "def lasso_cyclical_coordinate_descent(feature_matrix, output, initial_weights, l1_penalty, tolerance):\n",
    "    \"\"\"\n",
    "    Purpose: Perform cyclical coordinate descent\n",
    "    Input  : Normalized feature matrix, output, initial weights,\n",
    "             L1_penalty and tolerance for stopping the process\n",
    "    Output : Final weights after the convergence of the coordinate\n",
    "             descent procedure\n",
    "    \"\"\"\n",
    "    D = feature_matrix.shape[1]\n",
    "    weights = copy.copy(initial_weights)\n",
    "    change = np.zeros(initial_weights.shape)\n",
    "    converged = False\n",
    "    \n",
    "    while not converged:\n",
    "        # Evaluate over all features\n",
    "        for idx in range(D):\n",
    "            # New weight for feature\n",
    "            new_weight = lasso_coordinate_descent_step(idx, feature_matrix,\n",
    "                                                       output, weights,\n",
    "                                                       l1_penalty)\n",
    "            # Compute change in weight for feature\n",
    "            change[idx] = np.abs(new_weight - weights[idx])\n",
    "            # assign new weight\n",
    "            weights[idx] = new_weight\n",
    "        # Maximum change in weight, after all changes have been computed\n",
    "        max_change = max(change)\n",
    "        if max_change < tolerance:\n",
    "            converged = True\n",
    "    return weights\n",
    "\n",
    "def fit(feature_matrix, output, initial_weights, l1_penalty, tolerance):\n",
    "    \"\"\"\n",
    "    Purpose: Wrapper for cyclical coordinate descent function\n",
    "    Input  : Feature matrix array, initial weight vector, output vector,\n",
    "             tolerance value, l1_penalty\n",
    "    Output : Estimated weight vector\n",
    "    \"\"\"\n",
    "    weights = lasso_cyclical_coordinate_descent(feature_matrix, output, initial_weights, l1_penalty, tolerance)\n",
    "    return(weights)\n",
    "\n",
    "def get_residual_sum_of_squares(feature_matrix, weights, output):\n",
    "    \"\"\"\n",
    "    Purpose: Compute Residual Sum of Squares (RSS)\n",
    "    Input  : Feature matrix, weight vector, output vector\n",
    "    Output : Residual sum of squares = sum((actual output (y) - predicted output)^2)\n",
    "    \"\"\"\n",
    "    predictions = predict(feature_matrix, weights)\n",
    "    residual = np.sum((predictions - output) ** 2)\n",
    "    return(residual)"
   ]
  },
  {
   "cell_type": "code",
   "execution_count": 2,
   "metadata": {
    "collapsed": true
   },
   "outputs": [],
   "source": [
    "dtype_dict = {'bathrooms':float, 'waterfront':int, 'sqft_above':int,\n",
    "              'sqft_living15':float, 'grade':int, 'yr_renovated':int,\n",
    "              'price':float, 'bedrooms':float, 'zipcode':str,\n",
    "              'long':float, 'sqft_lot15':float, 'sqft_living':float,\n",
    "              'floors':float, 'condition':int, 'lat':float, 'date':str,\n",
    "              'sqft_basement':int, 'yr_built':int, 'id':str,\n",
    "              'sqft_lot':int, 'view':int}"
   ]
  },
  {
   "cell_type": "code",
   "execution_count": 5,
   "metadata": {
    "collapsed": false
   },
   "outputs": [],
   "source": [
    "import pandas as pd\n",
    "sales = pd.read_csv('kc_house_data.csv', dtype=dtype_dict)"
   ]
  },
  {
   "cell_type": "code",
   "execution_count": 37,
   "metadata": {
    "collapsed": false
   },
   "outputs": [
    {
     "name": "stdout",
     "output_type": "stream",
     "text": [
      "[[ 0.00680209  0.00353021  0.00583571]\n",
      " [ 0.00680209  0.00768869  0.00583571]\n",
      " [ 0.00680209  0.00230361  0.00389048]\n",
      " ..., \n",
      " [ 0.00680209  0.00305154  0.00389048]\n",
      " [ 0.00680209  0.00478673  0.00583571]\n",
      " [ 0.00680209  0.00305154  0.00389048]]\n"
     ]
    }
   ],
   "source": [
    "features = ['sqft_living', 'bedrooms']\n",
    "target = ['price']\n",
    "# Extract and normalize feature matrix\n",
    "feature_matrix, output = get_data(sales, features, target)\n",
    "norm_feature_matrix, norms =normalize(feature_matrix)\n",
    "print norm_feature_matrix"
   ]
  },
  {
   "cell_type": "code",
   "execution_count": 38,
   "metadata": {
    "collapsed": false
   },
   "outputs": [
    {
     "data": {
      "text/plain": [
       "0.02675864"
      ]
     },
     "execution_count": 38,
     "metadata": {},
     "output_type": "execute_result"
    }
   ],
   "source": [
    "0.00680209 + 4*0.00353021 + 0.00583571"
   ]
  },
  {
   "cell_type": "code",
   "execution_count": 36,
   "metadata": {
    "collapsed": false
   },
   "outputs": [
    {
     "name": "stdout",
     "output_type": "stream",
     "text": [
      "[  4724.  10284.   3083. ...,   4083.   6404.   4083.]\n"
     ]
    }
   ],
   "source": [
    "weights=np.array([1.,4.,1.])\n",
    "predictions = feature_matrix.dot(weights)\n",
    "print predictions\n",
    "rho = (norm_feature_matrix[:, 1].T).dot(output - predictions + (weights[1] * norm_feature_matrix[:, 1]))"
   ]
  },
  {
   "cell_type": "code",
   "execution_count": 35,
   "metadata": {
    "collapsed": false
   },
   "outputs": [
    {
     "data": {
      "text/plain": [
       "43300913.979649693"
      ]
     },
     "execution_count": 35,
     "metadata": {},
     "output_type": "execute_result"
    }
   ],
   "source": [
    "rho/2"
   ]
  },
  {
   "cell_type": "code",
   "execution_count": 8,
   "metadata": {
    "collapsed": true
   },
   "outputs": [],
   "source": [
    "init_weights = np.zeros((len(features)+1))\n",
    "l1_penalty = 1.0e7\n",
    "tolerance = 1.0"
   ]
  },
  {
   "cell_type": "code",
   "execution_count": 9,
   "metadata": {
    "collapsed": true
   },
   "outputs": [],
   "source": [
    "model =fit(norm_feature_matrix, output, init_weights, l1_penalty, tolerance)\n",
    "RSS =get_residual_sum_of_squares(norm_feature_matrix, model, output)"
   ]
  },
  {
   "cell_type": "code",
   "execution_count": 10,
   "metadata": {
    "collapsed": false
   },
   "outputs": [
    {
     "data": {
      "text/plain": [
       "1630492476715386.5"
      ]
     },
     "execution_count": 10,
     "metadata": {},
     "output_type": "execute_result"
    }
   ],
   "source": [
    "RSS"
   ]
  },
  {
   "cell_type": "code",
   "execution_count": 11,
   "metadata": {
    "collapsed": false
   },
   "outputs": [
    {
     "data": {
      "text/plain": [
       "array([ 21624997.95951909,  63157247.20788956,         0.        ])"
      ]
     },
     "execution_count": 11,
     "metadata": {},
     "output_type": "execute_result"
    }
   ],
   "source": [
    "model"
   ]
  },
  {
   "cell_type": "code",
   "execution_count": 13,
   "metadata": {
    "collapsed": false
   },
   "outputs": [],
   "source": [
    "# Read house sales train and test data\n",
    "train_data = pd.read_csv('kc_house_train_data.csv', dtype=dtype_dict)\n",
    "test_data = pd.read_csv('kc_house_test_data.csv', dtype=dtype_dict)\n",
    "# Select features and output\n",
    "features = ['bedrooms', 'bathrooms', 'sqft_living', 'sqft_lot',\n",
    "            'floors', 'waterfront', 'view', 'condition', 'grade',\n",
    "            'sqft_above', 'sqft_basement', 'yr_built', 'yr_renovated']\n",
    "target = ['price']"
   ]
  },
  {
   "cell_type": "code",
   "execution_count": 14,
   "metadata": {
    "collapsed": true
   },
   "outputs": [],
   "source": [
    "train_feature_matrix, train_output = get_data(train_data, features, target)\n",
    "norm_train_feature_matrix, norm_train = normalize(train_feature_matrix)\n",
    "test_feature_matrix, test_output = get_data(train_data, features, target)"
   ]
  },
  {
   "cell_type": "code",
   "execution_count": 16,
   "metadata": {
    "collapsed": false
   },
   "outputs": [],
   "source": [
    "init_weights = np.zeros((len(features)+1))\n",
    "l1_penalty = 1.0e7\n",
    "tolerance = 1.0\n",
    "weights1e7 = fit(norm_train_feature_matrix, train_output, init_weights, l1_penalty, tolerance)"
   ]
  },
  {
   "cell_type": "code",
   "execution_count": 18,
   "metadata": {
    "collapsed": false
   },
   "outputs": [],
   "source": [
    "init_weights = np.zeros((len(features)+1))\n",
    "l1_penalty = 1.0e8\n",
    "tolerance = 1.0\n",
    "weights1e8 = fit(norm_train_feature_matrix, train_output, init_weights, l1_penalty, tolerance)\n"
   ]
  },
  {
   "cell_type": "code",
   "execution_count": 20,
   "metadata": {
    "collapsed": false
   },
   "outputs": [],
   "source": [
    "init_weights = np.zeros((len(features)+1))\n",
    "l1_penalty = 1.0e4\n",
    "tolerance = 5.0e5\n",
    "weights1e4 = fit(norm_train_feature_matrix, train_output, init_weights, l1_penalty, tolerance)"
   ]
  },
  {
   "cell_type": "code",
   "execution_count": 21,
   "metadata": {
    "collapsed": true
   },
   "outputs": [],
   "source": [
    "norm_weights1e7 = weights1e7/norm_train\n",
    "norm_weights1e8 = weights1e8/norm_train\n",
    "norm_weights1e4 = weights1e4/norm_train"
   ]
  },
  {
   "cell_type": "code",
   "execution_count": 23,
   "metadata": {
    "collapsed": false
   },
   "outputs": [],
   "source": [
    "RSS_1e7 = get_residual_sum_of_squares(test_feature_matrix, norm_weights1e7, test_output)\n",
    "RSS_1e8 = get_residual_sum_of_squares(test_feature_matrix, norm_weights1e8, test_output)\n",
    "RSS_1e4 = get_residual_sum_of_squares(test_feature_matrix, norm_weights1e4, test_output)"
   ]
  },
  {
   "cell_type": "code",
   "execution_count": 24,
   "metadata": {
    "collapsed": false
   },
   "outputs": [
    {
     "data": {
      "text/plain": [
       "1231595575158379.5"
      ]
     },
     "execution_count": 24,
     "metadata": {},
     "output_type": "execute_result"
    }
   ],
   "source": [
    "RSS_1e7"
   ]
  },
  {
   "cell_type": "code",
   "execution_count": 25,
   "metadata": {
    "collapsed": false
   },
   "outputs": [
    {
     "data": {
      "text/plain": [
       "2375761861767301.5"
      ]
     },
     "execution_count": 25,
     "metadata": {},
     "output_type": "execute_result"
    }
   ],
   "source": [
    "RSS_1e8"
   ]
  },
  {
   "cell_type": "code",
   "execution_count": 26,
   "metadata": {
    "collapsed": false
   },
   "outputs": [
    {
     "data": {
      "text/plain": [
       "990207356732102.62"
      ]
     },
     "execution_count": 26,
     "metadata": {},
     "output_type": "execute_result"
    }
   ],
   "source": [
    "RSS_1e4"
   ]
  },
  {
   "cell_type": "code",
   "execution_count": 27,
   "metadata": {
    "collapsed": false
   },
   "outputs": [
    {
     "data": {
      "text/plain": [
       "array([  1.85285530e+05,   0.00000000e+00,   0.00000000e+00,\n",
       "         1.61317458e+02,   0.00000000e+00,   0.00000000e+00,\n",
       "         2.87664705e+05,   6.91937041e+04,   0.00000000e+00,\n",
       "         0.00000000e+00,   0.00000000e+00,   0.00000000e+00,\n",
       "         0.00000000e+00,   0.00000000e+00])"
      ]
     },
     "execution_count": 27,
     "metadata": {},
     "output_type": "execute_result"
    }
   ],
   "source": [
    "norm_weights1e7"
   ]
  },
  {
   "cell_type": "code",
   "execution_count": 28,
   "metadata": {
    "collapsed": false
   },
   "outputs": [
    {
     "data": {
      "text/plain": [
       "array([ 539366.62793373,       0.        ,       0.        ,\n",
       "             0.        ,       0.        ,       0.        ,\n",
       "             0.        ,       0.        ,       0.        ,\n",
       "             0.        ,       0.        ,       0.        ,\n",
       "             0.        ,       0.        ])"
      ]
     },
     "execution_count": 28,
     "metadata": {},
     "output_type": "execute_result"
    }
   ],
   "source": [
    "norm_weights1e8"
   ]
  },
  {
   "cell_type": "code",
   "execution_count": 29,
   "metadata": {
    "collapsed": false
   },
   "outputs": [
    {
     "data": {
      "text/plain": [
       "array([  5.95871771e+05,  -4.80336244e+04,   4.30892643e+04,\n",
       "         3.12732803e+02,  -3.46078585e-01,  -2.01432664e+04,\n",
       "         5.62133764e+05,   6.72816325e+04,   1.09255888e+04,\n",
       "         1.40325598e+04,  -6.07214159e+01,  -7.35796867e+01,\n",
       "        -3.25079490e+02,   5.26011603e+01])"
      ]
     },
     "execution_count": 29,
     "metadata": {},
     "output_type": "execute_result"
    }
   ],
   "source": [
    "norm_weights1e4"
   ]
  },
  {
   "cell_type": "code",
   "execution_count": 31,
   "metadata": {
    "collapsed": false
   },
   "outputs": [
    {
     "data": {
      "text/plain": [
       "(17384L, 14L)"
      ]
     },
     "execution_count": 31,
     "metadata": {},
     "output_type": "execute_result"
    }
   ],
   "source": [
    "test_feature_matrix.shape"
   ]
  },
  {
   "cell_type": "code",
   "execution_count": null,
   "metadata": {
    "collapsed": true
   },
   "outputs": [],
   "source": []
  }
 ],
 "metadata": {
  "kernelspec": {
   "display_name": "Python 2",
   "language": "python",
   "name": "python2"
  },
  "language_info": {
   "codemirror_mode": {
    "name": "ipython",
    "version": 2
   },
   "file_extension": ".py",
   "mimetype": "text/x-python",
   "name": "python",
   "nbconvert_exporter": "python",
   "pygments_lexer": "ipython2",
   "version": "2.7.11"
  }
 },
 "nbformat": 4,
 "nbformat_minor": 0
}
